{
 "cells": [
  {
   "cell_type": "code",
   "execution_count": 1,
   "id": "00eccb03",
   "metadata": {},
   "outputs": [],
   "source": [
    "import pandas as pd\n",
    "import numpy as np\n",
    "import matplotlib.pyplot as plt\n",
    "import seaborn as sns\n",
    "import plotly.express as px\n",
    "import warnings\n",
    "warnings.filterwarnings('ignore')\n",
    "plt.style.use('seaborn-pastel')"
   ]
  },
  {
   "cell_type": "code",
   "execution_count": 2,
   "id": "026cf770",
   "metadata": {},
   "outputs": [],
   "source": [
    "data=pd.read_csv('laptop_data.csv')"
   ]
  },
  {
   "cell_type": "code",
   "execution_count": 3,
   "id": "7fc0a1c9",
   "metadata": {},
   "outputs": [
    {
     "data": {
      "text/html": [
       "<div>\n",
       "<style scoped>\n",
       "    .dataframe tbody tr th:only-of-type {\n",
       "        vertical-align: middle;\n",
       "    }\n",
       "\n",
       "    .dataframe tbody tr th {\n",
       "        vertical-align: top;\n",
       "    }\n",
       "\n",
       "    .dataframe thead th {\n",
       "        text-align: right;\n",
       "    }\n",
       "</style>\n",
       "<table border=\"1\" class=\"dataframe\">\n",
       "  <thead>\n",
       "    <tr style=\"text-align: right;\">\n",
       "      <th></th>\n",
       "      <th>Unnamed: 0</th>\n",
       "      <th>Company</th>\n",
       "      <th>TypeName</th>\n",
       "      <th>Inches</th>\n",
       "      <th>ScreenResolution</th>\n",
       "      <th>Cpu</th>\n",
       "      <th>Ram</th>\n",
       "      <th>Memory</th>\n",
       "      <th>Gpu</th>\n",
       "      <th>OpSys</th>\n",
       "      <th>Weight</th>\n",
       "      <th>Price</th>\n",
       "    </tr>\n",
       "  </thead>\n",
       "  <tbody>\n",
       "    <tr>\n",
       "      <th>0</th>\n",
       "      <td>0</td>\n",
       "      <td>Apple</td>\n",
       "      <td>Ultrabook</td>\n",
       "      <td>13.3</td>\n",
       "      <td>IPS Panel Retina Display 2560x1600</td>\n",
       "      <td>Intel Core i5 2.3GHz</td>\n",
       "      <td>8GB</td>\n",
       "      <td>128GB SSD</td>\n",
       "      <td>Intel Iris Plus Graphics 640</td>\n",
       "      <td>macOS</td>\n",
       "      <td>1.37kg</td>\n",
       "      <td>71378.6832</td>\n",
       "    </tr>\n",
       "    <tr>\n",
       "      <th>1</th>\n",
       "      <td>1</td>\n",
       "      <td>Apple</td>\n",
       "      <td>Ultrabook</td>\n",
       "      <td>13.3</td>\n",
       "      <td>1440x900</td>\n",
       "      <td>Intel Core i5 1.8GHz</td>\n",
       "      <td>8GB</td>\n",
       "      <td>128GB Flash Storage</td>\n",
       "      <td>Intel HD Graphics 6000</td>\n",
       "      <td>macOS</td>\n",
       "      <td>1.34kg</td>\n",
       "      <td>47895.5232</td>\n",
       "    </tr>\n",
       "    <tr>\n",
       "      <th>2</th>\n",
       "      <td>2</td>\n",
       "      <td>HP</td>\n",
       "      <td>Notebook</td>\n",
       "      <td>15.6</td>\n",
       "      <td>Full HD 1920x1080</td>\n",
       "      <td>Intel Core i5 7200U 2.5GHz</td>\n",
       "      <td>8GB</td>\n",
       "      <td>256GB SSD</td>\n",
       "      <td>Intel HD Graphics 620</td>\n",
       "      <td>No OS</td>\n",
       "      <td>1.86kg</td>\n",
       "      <td>30636.0000</td>\n",
       "    </tr>\n",
       "    <tr>\n",
       "      <th>3</th>\n",
       "      <td>3</td>\n",
       "      <td>Apple</td>\n",
       "      <td>Ultrabook</td>\n",
       "      <td>15.4</td>\n",
       "      <td>IPS Panel Retina Display 2880x1800</td>\n",
       "      <td>Intel Core i7 2.7GHz</td>\n",
       "      <td>16GB</td>\n",
       "      <td>512GB SSD</td>\n",
       "      <td>AMD Radeon Pro 455</td>\n",
       "      <td>macOS</td>\n",
       "      <td>1.83kg</td>\n",
       "      <td>135195.3360</td>\n",
       "    </tr>\n",
       "    <tr>\n",
       "      <th>4</th>\n",
       "      <td>4</td>\n",
       "      <td>Apple</td>\n",
       "      <td>Ultrabook</td>\n",
       "      <td>13.3</td>\n",
       "      <td>IPS Panel Retina Display 2560x1600</td>\n",
       "      <td>Intel Core i5 3.1GHz</td>\n",
       "      <td>8GB</td>\n",
       "      <td>256GB SSD</td>\n",
       "      <td>Intel Iris Plus Graphics 650</td>\n",
       "      <td>macOS</td>\n",
       "      <td>1.37kg</td>\n",
       "      <td>96095.8080</td>\n",
       "    </tr>\n",
       "  </tbody>\n",
       "</table>\n",
       "</div>"
      ],
      "text/plain": [
       "   Unnamed: 0 Company   TypeName  Inches                    ScreenResolution  \\\n",
       "0           0   Apple  Ultrabook    13.3  IPS Panel Retina Display 2560x1600   \n",
       "1           1   Apple  Ultrabook    13.3                            1440x900   \n",
       "2           2      HP   Notebook    15.6                   Full HD 1920x1080   \n",
       "3           3   Apple  Ultrabook    15.4  IPS Panel Retina Display 2880x1800   \n",
       "4           4   Apple  Ultrabook    13.3  IPS Panel Retina Display 2560x1600   \n",
       "\n",
       "                          Cpu   Ram               Memory  \\\n",
       "0        Intel Core i5 2.3GHz   8GB            128GB SSD   \n",
       "1        Intel Core i5 1.8GHz   8GB  128GB Flash Storage   \n",
       "2  Intel Core i5 7200U 2.5GHz   8GB            256GB SSD   \n",
       "3        Intel Core i7 2.7GHz  16GB            512GB SSD   \n",
       "4        Intel Core i5 3.1GHz   8GB            256GB SSD   \n",
       "\n",
       "                            Gpu  OpSys  Weight        Price  \n",
       "0  Intel Iris Plus Graphics 640  macOS  1.37kg   71378.6832  \n",
       "1        Intel HD Graphics 6000  macOS  1.34kg   47895.5232  \n",
       "2         Intel HD Graphics 620  No OS  1.86kg   30636.0000  \n",
       "3            AMD Radeon Pro 455  macOS  1.83kg  135195.3360  \n",
       "4  Intel Iris Plus Graphics 650  macOS  1.37kg   96095.8080  "
      ]
     },
     "execution_count": 3,
     "metadata": {},
     "output_type": "execute_result"
    }
   ],
   "source": [
    "data.head()"
   ]
  },
  {
   "cell_type": "markdown",
   "id": "3d11f155",
   "metadata": {},
   "source": [
    "#### we can see that we have an unwanted column Unnamed: 0"
   ]
  },
  {
   "cell_type": "code",
   "execution_count": 4,
   "id": "5f5e1e71",
   "metadata": {},
   "outputs": [],
   "source": [
    "## Droping the unnamed: 0 column\n",
    "data.drop('Unnamed: 0',inplace=True,axis=1)"
   ]
  },
  {
   "cell_type": "code",
   "execution_count": 5,
   "id": "cf6ea4fc",
   "metadata": {},
   "outputs": [
    {
     "data": {
      "text/plain": [
       "(1303, 11)"
      ]
     },
     "execution_count": 5,
     "metadata": {},
     "output_type": "execute_result"
    }
   ],
   "source": [
    "data.shape"
   ]
  },
  {
   "cell_type": "code",
   "execution_count": 6,
   "id": "6848998a",
   "metadata": {},
   "outputs": [
    {
     "name": "stdout",
     "output_type": "stream",
     "text": [
      "<class 'pandas.core.frame.DataFrame'>\n",
      "RangeIndex: 1303 entries, 0 to 1302\n",
      "Data columns (total 11 columns):\n",
      " #   Column            Non-Null Count  Dtype  \n",
      "---  ------            --------------  -----  \n",
      " 0   Company           1303 non-null   object \n",
      " 1   TypeName          1303 non-null   object \n",
      " 2   Inches            1303 non-null   float64\n",
      " 3   ScreenResolution  1303 non-null   object \n",
      " 4   Cpu               1303 non-null   object \n",
      " 5   Ram               1303 non-null   object \n",
      " 6   Memory            1303 non-null   object \n",
      " 7   Gpu               1303 non-null   object \n",
      " 8   OpSys             1303 non-null   object \n",
      " 9   Weight            1303 non-null   object \n",
      " 10  Price             1303 non-null   float64\n",
      "dtypes: float64(2), object(9)\n",
      "memory usage: 112.1+ KB\n"
     ]
    }
   ],
   "source": [
    "data.info()"
   ]
  },
  {
   "cell_type": "code",
   "execution_count": 7,
   "id": "fcb57cc3",
   "metadata": {},
   "outputs": [
    {
     "data": {
      "text/plain": [
       "Company             0\n",
       "TypeName            0\n",
       "Inches              0\n",
       "ScreenResolution    0\n",
       "Cpu                 0\n",
       "Ram                 0\n",
       "Memory              0\n",
       "Gpu                 0\n",
       "OpSys               0\n",
       "Weight              0\n",
       "Price               0\n",
       "dtype: int64"
      ]
     },
     "execution_count": 7,
     "metadata": {},
     "output_type": "execute_result"
    }
   ],
   "source": [
    "data.isnull().sum()"
   ]
  },
  {
   "cell_type": "code",
   "execution_count": 8,
   "id": "defa1d32",
   "metadata": {},
   "outputs": [
    {
     "data": {
      "text/plain": [
       "<AxesSubplot:>"
      ]
     },
     "execution_count": 8,
     "metadata": {},
     "output_type": "execute_result"
    },
    {
     "data": {
      "image/png": "[encoded data removed]",
      "text/plain": [
       "<Figure size 432x288 with 2 Axes>"
      ]
     },
     "metadata": {
      "needs_background": "light"
     },
     "output_type": "display_data"
    }
   ],
   "source": [
    "## Plotting heatmap of null values\n",
    "nan=data.isnull().sum().to_frame()\n",
    "sns.heatmap(nan,annot=True,cmap='viridis')"
   ]
  },
  {
   "cell_type": "code",
   "execution_count": 9,
   "id": "84efa235",
   "metadata": {},
   "outputs": [
    {
     "data": {
      "text/plain": [
       "29"
      ]
     },
     "execution_count": 9,
     "metadata": {},
     "output_type": "execute_result"
    }
   ],
   "source": [
    "## Checking duplicated values\n",
    "data.duplicated().sum()"
   ]
  },
  {
   "cell_type": "code",
   "execution_count": 10,
   "id": "4f280c87",
   "metadata": {},
   "outputs": [
    {
     "data": {
      "text/html": [
       "<div>\n",
       "<style scoped>\n",
       "    .dataframe tbody tr th:only-of-type {\n",
       "        vertical-align: middle;\n",
       "    }\n",
       "\n",
       "    .dataframe tbody tr th {\n",
       "        vertical-align: top;\n",
       "    }\n",
       "\n",
       "    .dataframe thead th {\n",
       "        text-align: right;\n",
       "    }\n",
       "</style>\n",
       "<table border=\"1\" class=\"dataframe\">\n",
       "  <thead>\n",
       "    <tr style=\"text-align: right;\">\n",
       "      <th></th>\n",
       "      <th>Company</th>\n",
       "      <th>TypeName</th>\n",
       "      <th>Inches</th>\n",
       "      <th>ScreenResolution</th>\n",
       "      <th>Cpu</th>\n",
       "      <th>Ram</th>\n",
       "      <th>Memory</th>\n",
       "      <th>Gpu</th>\n",
       "      <th>OpSys</th>\n",
       "      <th>Weight</th>\n",
       "      <th>Price</th>\n",
       "    </tr>\n",
       "  </thead>\n",
       "  <tbody>\n",
       "    <tr>\n",
       "      <th>1274</th>\n",
       "      <td>Asus</td>\n",
       "      <td>Notebook</td>\n",
       "      <td>15.6</td>\n",
       "      <td>1366x768</td>\n",
       "      <td>Intel Celeron Dual Core N3050 1.6GHz</td>\n",
       "      <td>4GB</td>\n",
       "      <td>500GB HDD</td>\n",
       "      <td>Intel HD Graphics</td>\n",
       "      <td>Windows 10</td>\n",
       "      <td>2.2kg</td>\n",
       "      <td>19660.3200</td>\n",
       "    </tr>\n",
       "    <tr>\n",
       "      <th>1275</th>\n",
       "      <td>Asus</td>\n",
       "      <td>Ultrabook</td>\n",
       "      <td>13.3</td>\n",
       "      <td>IPS Panel Full HD 1920x1080</td>\n",
       "      <td>Intel Core M 6Y30 0.9GHz</td>\n",
       "      <td>8GB</td>\n",
       "      <td>512GB SSD</td>\n",
       "      <td>Intel HD Graphics 515</td>\n",
       "      <td>Windows 10</td>\n",
       "      <td>1.2kg</td>\n",
       "      <td>38841.1200</td>\n",
       "    </tr>\n",
       "    <tr>\n",
       "      <th>1276</th>\n",
       "      <td>Dell</td>\n",
       "      <td>Notebook</td>\n",
       "      <td>15.6</td>\n",
       "      <td>1366x768</td>\n",
       "      <td>Intel Core i3 7100U 2.4GHz</td>\n",
       "      <td>6GB</td>\n",
       "      <td>1TB HDD</td>\n",
       "      <td>Intel HD Graphics 620</td>\n",
       "      <td>Windows 10</td>\n",
       "      <td>2.3kg</td>\n",
       "      <td>24455.5200</td>\n",
       "    </tr>\n",
       "    <tr>\n",
       "      <th>1277</th>\n",
       "      <td>Acer</td>\n",
       "      <td>Notebook</td>\n",
       "      <td>15.6</td>\n",
       "      <td>1366x768</td>\n",
       "      <td>Intel Celeron Dual Core N3060 1.6GHz</td>\n",
       "      <td>4GB</td>\n",
       "      <td>500GB HDD</td>\n",
       "      <td>Intel HD Graphics 400</td>\n",
       "      <td>Linux</td>\n",
       "      <td>2.4kg</td>\n",
       "      <td>15397.9200</td>\n",
       "    </tr>\n",
       "    <tr>\n",
       "      <th>1278</th>\n",
       "      <td>Dell</td>\n",
       "      <td>Notebook</td>\n",
       "      <td>15.6</td>\n",
       "      <td>1366x768</td>\n",
       "      <td>Intel Celeron Dual Core N3050 1.6GHz</td>\n",
       "      <td>2GB</td>\n",
       "      <td>500GB HDD</td>\n",
       "      <td>Intel HD Graphics</td>\n",
       "      <td>Windows 10</td>\n",
       "      <td>2.20kg</td>\n",
       "      <td>20193.1200</td>\n",
       "    </tr>\n",
       "    <tr>\n",
       "      <th>1279</th>\n",
       "      <td>Lenovo</td>\n",
       "      <td>Notebook</td>\n",
       "      <td>15.6</td>\n",
       "      <td>IPS Panel Full HD 1920x1080</td>\n",
       "      <td>Intel Core i7 6700HQ 2.6GHz</td>\n",
       "      <td>8GB</td>\n",
       "      <td>1TB HDD</td>\n",
       "      <td>Nvidia GeForce GTX 960M</td>\n",
       "      <td>Windows 10</td>\n",
       "      <td>2.6kg</td>\n",
       "      <td>47898.7200</td>\n",
       "    </tr>\n",
       "    <tr>\n",
       "      <th>1280</th>\n",
       "      <td>HP</td>\n",
       "      <td>Notebook</td>\n",
       "      <td>15.6</td>\n",
       "      <td>Full HD 1920x1080</td>\n",
       "      <td>AMD A9-Series 9410 2.9GHz</td>\n",
       "      <td>6GB</td>\n",
       "      <td>1.0TB Hybrid</td>\n",
       "      <td>AMD Radeon R7 M440</td>\n",
       "      <td>Windows 10</td>\n",
       "      <td>2.04kg</td>\n",
       "      <td>29303.4672</td>\n",
       "    </tr>\n",
       "    <tr>\n",
       "      <th>1281</th>\n",
       "      <td>Dell</td>\n",
       "      <td>Notebook</td>\n",
       "      <td>15.6</td>\n",
       "      <td>1366x768</td>\n",
       "      <td>Intel Core i7 7500U 2.7GHz</td>\n",
       "      <td>8GB</td>\n",
       "      <td>1TB HDD</td>\n",
       "      <td>AMD Radeon R5 M430</td>\n",
       "      <td>Linux</td>\n",
       "      <td>2.3kg</td>\n",
       "      <td>42943.1472</td>\n",
       "    </tr>\n",
       "    <tr>\n",
       "      <th>1282</th>\n",
       "      <td>HP</td>\n",
       "      <td>Netbook</td>\n",
       "      <td>11.6</td>\n",
       "      <td>1366x768</td>\n",
       "      <td>Intel Celeron Dual Core N3060 1.6GHz</td>\n",
       "      <td>2GB</td>\n",
       "      <td>32GB Flash Storage</td>\n",
       "      <td>Intel HD Graphics 400</td>\n",
       "      <td>Windows 10</td>\n",
       "      <td>1.17kg</td>\n",
       "      <td>11135.5200</td>\n",
       "    </tr>\n",
       "    <tr>\n",
       "      <th>1283</th>\n",
       "      <td>Asus</td>\n",
       "      <td>Notebook</td>\n",
       "      <td>15.6</td>\n",
       "      <td>1366x768</td>\n",
       "      <td>Intel Core i7 6500U 2.5GHz</td>\n",
       "      <td>4GB</td>\n",
       "      <td>500GB HDD</td>\n",
       "      <td>Nvidia GeForce 920M</td>\n",
       "      <td>Windows 10</td>\n",
       "      <td>2.2kg</td>\n",
       "      <td>38378.6496</td>\n",
       "    </tr>\n",
       "    <tr>\n",
       "      <th>1284</th>\n",
       "      <td>Lenovo</td>\n",
       "      <td>2 in 1 Convertible</td>\n",
       "      <td>14.0</td>\n",
       "      <td>IPS Panel Full HD / Touchscreen 1920x1080</td>\n",
       "      <td>Intel Core i7 6500U 2.5GHz</td>\n",
       "      <td>4GB</td>\n",
       "      <td>128GB SSD</td>\n",
       "      <td>Intel HD Graphics 520</td>\n",
       "      <td>Windows 10</td>\n",
       "      <td>1.8kg</td>\n",
       "      <td>33992.6400</td>\n",
       "    </tr>\n",
       "    <tr>\n",
       "      <th>1285</th>\n",
       "      <td>Lenovo</td>\n",
       "      <td>2 in 1 Convertible</td>\n",
       "      <td>13.3</td>\n",
       "      <td>IPS Panel Quad HD+ / Touchscreen 3200x1800</td>\n",
       "      <td>Intel Core i7 6500U 2.5GHz</td>\n",
       "      <td>16GB</td>\n",
       "      <td>512GB SSD</td>\n",
       "      <td>Intel HD Graphics 520</td>\n",
       "      <td>Windows 10</td>\n",
       "      <td>1.3kg</td>\n",
       "      <td>79866.7200</td>\n",
       "    </tr>\n",
       "    <tr>\n",
       "      <th>1286</th>\n",
       "      <td>Lenovo</td>\n",
       "      <td>Notebook</td>\n",
       "      <td>14.0</td>\n",
       "      <td>1366x768</td>\n",
       "      <td>Intel Celeron Dual Core N3050 1.6GHz</td>\n",
       "      <td>2GB</td>\n",
       "      <td>64GB Flash Storage</td>\n",
       "      <td>Intel HD Graphics</td>\n",
       "      <td>Windows 10</td>\n",
       "      <td>1.5kg</td>\n",
       "      <td>12201.1200</td>\n",
       "    </tr>\n",
       "    <tr>\n",
       "      <th>1287</th>\n",
       "      <td>HP</td>\n",
       "      <td>Notebook</td>\n",
       "      <td>15.6</td>\n",
       "      <td>1366x768</td>\n",
       "      <td>Intel Core i7 6500U 2.5GHz</td>\n",
       "      <td>6GB</td>\n",
       "      <td>1TB HDD</td>\n",
       "      <td>AMD Radeon R5 M330</td>\n",
       "      <td>Windows 10</td>\n",
       "      <td>2.19kg</td>\n",
       "      <td>40705.9200</td>\n",
       "    </tr>\n",
       "    <tr>\n",
       "      <th>1288</th>\n",
       "      <td>Asus</td>\n",
       "      <td>Notebook</td>\n",
       "      <td>15.6</td>\n",
       "      <td>1366x768</td>\n",
       "      <td>Intel Celeron Dual Core N3050 1.6GHz</td>\n",
       "      <td>4GB</td>\n",
       "      <td>500GB HDD</td>\n",
       "      <td>Intel HD Graphics</td>\n",
       "      <td>Windows 10</td>\n",
       "      <td>2.2kg</td>\n",
       "      <td>19660.3200</td>\n",
       "    </tr>\n",
       "    <tr>\n",
       "      <th>1289</th>\n",
       "      <td>Asus</td>\n",
       "      <td>Ultrabook</td>\n",
       "      <td>13.3</td>\n",
       "      <td>IPS Panel Full HD 1920x1080</td>\n",
       "      <td>Intel Core M 6Y30 0.9GHz</td>\n",
       "      <td>8GB</td>\n",
       "      <td>512GB SSD</td>\n",
       "      <td>Intel HD Graphics 515</td>\n",
       "      <td>Windows 10</td>\n",
       "      <td>1.2kg</td>\n",
       "      <td>38841.1200</td>\n",
       "    </tr>\n",
       "    <tr>\n",
       "      <th>1290</th>\n",
       "      <td>Dell</td>\n",
       "      <td>Notebook</td>\n",
       "      <td>15.6</td>\n",
       "      <td>1366x768</td>\n",
       "      <td>Intel Core i3 7100U 2.4GHz</td>\n",
       "      <td>6GB</td>\n",
       "      <td>1TB HDD</td>\n",
       "      <td>Intel HD Graphics 620</td>\n",
       "      <td>Windows 10</td>\n",
       "      <td>2.3kg</td>\n",
       "      <td>24455.5200</td>\n",
       "    </tr>\n",
       "    <tr>\n",
       "      <th>1291</th>\n",
       "      <td>Acer</td>\n",
       "      <td>Notebook</td>\n",
       "      <td>15.6</td>\n",
       "      <td>1366x768</td>\n",
       "      <td>Intel Celeron Dual Core N3060 1.6GHz</td>\n",
       "      <td>4GB</td>\n",
       "      <td>500GB HDD</td>\n",
       "      <td>Intel HD Graphics 400</td>\n",
       "      <td>Linux</td>\n",
       "      <td>2.4kg</td>\n",
       "      <td>15397.9200</td>\n",
       "    </tr>\n",
       "    <tr>\n",
       "      <th>1292</th>\n",
       "      <td>Dell</td>\n",
       "      <td>Notebook</td>\n",
       "      <td>15.6</td>\n",
       "      <td>1366x768</td>\n",
       "      <td>Intel Celeron Dual Core N3050 1.6GHz</td>\n",
       "      <td>2GB</td>\n",
       "      <td>500GB HDD</td>\n",
       "      <td>Intel HD Graphics</td>\n",
       "      <td>Windows 10</td>\n",
       "      <td>2.20kg</td>\n",
       "      <td>20193.1200</td>\n",
       "    </tr>\n",
       "    <tr>\n",
       "      <th>1293</th>\n",
       "      <td>Lenovo</td>\n",
       "      <td>Notebook</td>\n",
       "      <td>15.6</td>\n",
       "      <td>IPS Panel Full HD 1920x1080</td>\n",
       "      <td>Intel Core i7 6700HQ 2.6GHz</td>\n",
       "      <td>8GB</td>\n",
       "      <td>1TB HDD</td>\n",
       "      <td>Nvidia GeForce GTX 960M</td>\n",
       "      <td>Windows 10</td>\n",
       "      <td>2.6kg</td>\n",
       "      <td>47898.7200</td>\n",
       "    </tr>\n",
       "    <tr>\n",
       "      <th>1294</th>\n",
       "      <td>HP</td>\n",
       "      <td>Notebook</td>\n",
       "      <td>15.6</td>\n",
       "      <td>Full HD 1920x1080</td>\n",
       "      <td>AMD A9-Series 9410 2.9GHz</td>\n",
       "      <td>6GB</td>\n",
       "      <td>1.0TB Hybrid</td>\n",
       "      <td>AMD Radeon R7 M440</td>\n",
       "      <td>Windows 10</td>\n",
       "      <td>2.04kg</td>\n",
       "      <td>29303.4672</td>\n",
       "    </tr>\n",
       "    <tr>\n",
       "      <th>1295</th>\n",
       "      <td>Dell</td>\n",
       "      <td>Notebook</td>\n",
       "      <td>15.6</td>\n",
       "      <td>1366x768</td>\n",
       "      <td>Intel Core i7 7500U 2.7GHz</td>\n",
       "      <td>8GB</td>\n",
       "      <td>1TB HDD</td>\n",
       "      <td>AMD Radeon R5 M430</td>\n",
       "      <td>Linux</td>\n",
       "      <td>2.3kg</td>\n",
       "      <td>42943.1472</td>\n",
       "    </tr>\n",
       "    <tr>\n",
       "      <th>1296</th>\n",
       "      <td>HP</td>\n",
       "      <td>Netbook</td>\n",
       "      <td>11.6</td>\n",
       "      <td>1366x768</td>\n",
       "      <td>Intel Celeron Dual Core N3060 1.6GHz</td>\n",
       "      <td>2GB</td>\n",
       "      <td>32GB Flash Storage</td>\n",
       "      <td>Intel HD Graphics 400</td>\n",
       "      <td>Windows 10</td>\n",
       "      <td>1.17kg</td>\n",
       "      <td>11135.5200</td>\n",
       "    </tr>\n",
       "    <tr>\n",
       "      <th>1297</th>\n",
       "      <td>Asus</td>\n",
       "      <td>Notebook</td>\n",
       "      <td>15.6</td>\n",
       "      <td>1366x768</td>\n",
       "      <td>Intel Core i7 6500U 2.5GHz</td>\n",
       "      <td>4GB</td>\n",
       "      <td>500GB HDD</td>\n",
       "      <td>Nvidia GeForce 920M</td>\n",
       "      <td>Windows 10</td>\n",
       "      <td>2.2kg</td>\n",
       "      <td>38378.6496</td>\n",
       "    </tr>\n",
       "    <tr>\n",
       "      <th>1298</th>\n",
       "      <td>Lenovo</td>\n",
       "      <td>2 in 1 Convertible</td>\n",
       "      <td>14.0</td>\n",
       "      <td>IPS Panel Full HD / Touchscreen 1920x1080</td>\n",
       "      <td>Intel Core i7 6500U 2.5GHz</td>\n",
       "      <td>4GB</td>\n",
       "      <td>128GB SSD</td>\n",
       "      <td>Intel HD Graphics 520</td>\n",
       "      <td>Windows 10</td>\n",
       "      <td>1.8kg</td>\n",
       "      <td>33992.6400</td>\n",
       "    </tr>\n",
       "    <tr>\n",
       "      <th>1299</th>\n",
       "      <td>Lenovo</td>\n",
       "      <td>2 in 1 Convertible</td>\n",
       "      <td>13.3</td>\n",
       "      <td>IPS Panel Quad HD+ / Touchscreen 3200x1800</td>\n",
       "      <td>Intel Core i7 6500U 2.5GHz</td>\n",
       "      <td>16GB</td>\n",
       "      <td>512GB SSD</td>\n",
       "      <td>Intel HD Graphics 520</td>\n",
       "      <td>Windows 10</td>\n",
       "      <td>1.3kg</td>\n",
       "      <td>79866.7200</td>\n",
       "    </tr>\n",
       "    <tr>\n",
       "      <th>1300</th>\n",
       "      <td>Lenovo</td>\n",
       "      <td>Notebook</td>\n",
       "      <td>14.0</td>\n",
       "      <td>1366x768</td>\n",
       "      <td>Intel Celeron Dual Core N3050 1.6GHz</td>\n",
       "      <td>2GB</td>\n",
       "      <td>64GB Flash Storage</td>\n",
       "      <td>Intel HD Graphics</td>\n",
       "      <td>Windows 10</td>\n",
       "      <td>1.5kg</td>\n",
       "      <td>12201.1200</td>\n",
       "    </tr>\n",
       "    <tr>\n",
       "      <th>1301</th>\n",
       "      <td>HP</td>\n",
       "      <td>Notebook</td>\n",
       "      <td>15.6</td>\n",
       "      <td>1366x768</td>\n",
       "      <td>Intel Core i7 6500U 2.5GHz</td>\n",
       "      <td>6GB</td>\n",
       "      <td>1TB HDD</td>\n",
       "      <td>AMD Radeon R5 M330</td>\n",
       "      <td>Windows 10</td>\n",
       "      <td>2.19kg</td>\n",
       "      <td>40705.9200</td>\n",
       "    </tr>\n",
       "    <tr>\n",
       "      <th>1302</th>\n",
       "      <td>Asus</td>\n",
       "      <td>Notebook</td>\n",
       "      <td>15.6</td>\n",
       "      <td>1366x768</td>\n",
       "      <td>Intel Celeron Dual Core N3050 1.6GHz</td>\n",
       "      <td>4GB</td>\n",
       "      <td>500GB HDD</td>\n",
       "      <td>Intel HD Graphics</td>\n",
       "      <td>Windows 10</td>\n",
       "      <td>2.2kg</td>\n",
       "      <td>19660.3200</td>\n",
       "    </tr>\n",
       "  </tbody>\n",
       "</table>\n",
       "</div>"
      ],
      "text/plain": [
       "     Company            TypeName  Inches  \\\n",
       "1274    Asus            Notebook    15.6   \n",
       "1275    Asus           Ultrabook    13.3   \n",
       "1276    Dell            Notebook    15.6   \n",
       "1277    Acer            Notebook    15.6   \n",
       "1278    Dell            Notebook    15.6   \n",
       "1279  Lenovo            Notebook    15.6   \n",
       "1280      HP            Notebook    15.6   \n",
       "1281    Dell            Notebook    15.6   \n",
       "1282      HP             Netbook    11.6   \n",
       "1283    Asus            Notebook    15.6   \n",
       "1284  Lenovo  2 in 1 Convertible    14.0   \n",
       "1285  Lenovo  2 in 1 Convertible    13.3   \n",
       "1286  Lenovo            Notebook    14.0   \n",
       "1287      HP            Notebook    15.6   \n",
       "1288    Asus            Notebook    15.6   \n",
       "1289    Asus           Ultrabook    13.3   \n",
       "1290    Dell            Notebook    15.6   \n",
       "1291    Acer            Notebook    15.6   \n",
       "1292    Dell            Notebook    15.6   \n",
       "1293  Lenovo            Notebook    15.6   \n",
       "1294      HP            Notebook    15.6   \n",
       "1295    Dell            Notebook    15.6   \n",
       "1296      HP             Netbook    11.6   \n",
       "1297    Asus            Notebook    15.6   \n",
       "1298  Lenovo  2 in 1 Convertible    14.0   \n",
       "1299  Lenovo  2 in 1 Convertible    13.3   \n",
       "1300  Lenovo            Notebook    14.0   \n",
       "1301      HP            Notebook    15.6   \n",
       "1302    Asus            Notebook    15.6   \n",
       "\n",
       "                                ScreenResolution  \\\n",
       "1274                                    1366x768   \n",
       "1275                 IPS Panel Full HD 1920x1080   \n",
       "1276                                    1366x768   \n",
       "1277                                    1366x768   \n",
       "1278                                    1366x768   \n",
       "1279                 IPS Panel Full HD 1920x1080   \n",
       "1280                           Full HD 1920x1080   \n",
       "1281                                    1366x768   \n",
       "1282                                    1366x768   \n",
       "1283                                    1366x768   \n",
       "1284   IPS Panel Full HD / Touchscreen 1920x1080   \n",
       "1285  IPS Panel Quad HD+ / Touchscreen 3200x1800   \n",
       "1286                                    1366x768   \n",
       "1287                                    1366x768   \n",
       "1288                                    1366x768   \n",
       "1289                 IPS Panel Full HD 1920x1080   \n",
       "1290                                    1366x768   \n",
       "1291                                    1366x768   \n",
       "1292                                    1366x768   \n",
       "1293                 IPS Panel Full HD 1920x1080   \n",
       "1294                           Full HD 1920x1080   \n",
       "1295                                    1366x768   \n",
       "1296                                    1366x768   \n",
       "1297                                    1366x768   \n",
       "1298   IPS Panel Full HD / Touchscreen 1920x1080   \n",
       "1299  IPS Panel Quad HD+ / Touchscreen 3200x1800   \n",
       "1300                                    1366x768   \n",
       "1301                                    1366x768   \n",
       "1302                                    1366x768   \n",
       "\n",
       "                                       Cpu   Ram              Memory  \\\n",
       "1274  Intel Celeron Dual Core N3050 1.6GHz   4GB           500GB HDD   \n",
       "1275              Intel Core M 6Y30 0.9GHz   8GB           512GB SSD   \n",
       "1276            Intel Core i3 7100U 2.4GHz   6GB             1TB HDD   \n",
       "1277  Intel Celeron Dual Core N3060 1.6GHz   4GB           500GB HDD   \n",
       "1278  Intel Celeron Dual Core N3050 1.6GHz   2GB           500GB HDD   \n",
       "1279           Intel Core i7 6700HQ 2.6GHz   8GB             1TB HDD   \n",
       "1280             AMD A9-Series 9410 2.9GHz   6GB        1.0TB Hybrid   \n",
       "1281            Intel Core i7 7500U 2.7GHz   8GB             1TB HDD   \n",
       "1282  Intel Celeron Dual Core N3060 1.6GHz   2GB  32GB Flash Storage   \n",
       "1283            Intel Core i7 6500U 2.5GHz   4GB           500GB HDD   \n",
       "1284            Intel Core i7 6500U 2.5GHz   4GB           128GB SSD   \n",
       "1285            Intel Core i7 6500U 2.5GHz  16GB           512GB SSD   \n",
       "1286  Intel Celeron Dual Core N3050 1.6GHz   2GB  64GB Flash Storage   \n",
       "1287            Intel Core i7 6500U 2.5GHz   6GB             1TB HDD   \n",
       "1288  Intel Celeron Dual Core N3050 1.6GHz   4GB           500GB HDD   \n",
       "1289              Intel Core M 6Y30 0.9GHz   8GB           512GB SSD   \n",
       "1290            Intel Core i3 7100U 2.4GHz   6GB             1TB HDD   \n",
       "1291  Intel Celeron Dual Core N3060 1.6GHz   4GB           500GB HDD   \n",
       "1292  Intel Celeron Dual Core N3050 1.6GHz   2GB           500GB HDD   \n",
       "1293           Intel Core i7 6700HQ 2.6GHz   8GB             1TB HDD   \n",
       "1294             AMD A9-Series 9410 2.9GHz   6GB        1.0TB Hybrid   \n",
       "1295            Intel Core i7 7500U 2.7GHz   8GB             1TB HDD   \n",
       "1296  Intel Celeron Dual Core N3060 1.6GHz   2GB  32GB Flash Storage   \n",
       "1297            Intel Core i7 6500U 2.5GHz   4GB           500GB HDD   \n",
       "1298            Intel Core i7 6500U 2.5GHz   4GB           128GB SSD   \n",
       "1299            Intel Core i7 6500U 2.5GHz  16GB           512GB SSD   \n",
       "1300  Intel Celeron Dual Core N3050 1.6GHz   2GB  64GB Flash Storage   \n",
       "1301            Intel Core i7 6500U 2.5GHz   6GB             1TB HDD   \n",
       "1302  Intel Celeron Dual Core N3050 1.6GHz   4GB           500GB HDD   \n",
       "\n",
       "                          Gpu       OpSys  Weight       Price  \n",
       "1274        Intel HD Graphics  Windows 10   2.2kg  19660.3200  \n",
       "1275    Intel HD Graphics 515  Windows 10   1.2kg  38841.1200  \n",
       "1276    Intel HD Graphics 620  Windows 10   2.3kg  24455.5200  \n",
       "1277    Intel HD Graphics 400       Linux   2.4kg  15397.9200  \n",
       "1278        Intel HD Graphics  Windows 10  2.20kg  20193.1200  \n",
       "1279  Nvidia GeForce GTX 960M  Windows 10   2.6kg  47898.7200  \n",
       "1280       AMD Radeon R7 M440  Windows 10  2.04kg  29303.4672  \n",
       "1281       AMD Radeon R5 M430       Linux   2.3kg  42943.1472  \n",
       "1282    Intel HD Graphics 400  Windows 10  1.17kg  11135.5200  \n",
       "1283      Nvidia GeForce 920M  Windows 10   2.2kg  38378.6496  \n",
       "1284    Intel HD Graphics 520  Windows 10   1.8kg  33992.6400  \n",
       "1285    Intel HD Graphics 520  Windows 10   1.3kg  79866.7200  \n",
       "1286        Intel HD Graphics  Windows 10   1.5kg  12201.1200  \n",
       "1287       AMD Radeon R5 M330  Windows 10  2.19kg  40705.9200  \n",
       "1288        Intel HD Graphics  Windows 10   2.2kg  19660.3200  \n",
       "1289    Intel HD Graphics 515  Windows 10   1.2kg  38841.1200  \n",
       "1290    Intel HD Graphics 620  Windows 10   2.3kg  24455.5200  \n",
       "1291    Intel HD Graphics 400       Linux   2.4kg  15397.9200  \n",
       "1292        Intel HD Graphics  Windows 10  2.20kg  20193.1200  \n",
       "1293  Nvidia GeForce GTX 960M  Windows 10   2.6kg  47898.7200  \n",
       "1294       AMD Radeon R7 M440  Windows 10  2.04kg  29303.4672  \n",
       "1295       AMD Radeon R5 M430       Linux   2.3kg  42943.1472  \n",
       "1296    Intel HD Graphics 400  Windows 10  1.17kg  11135.5200  \n",
       "1297      Nvidia GeForce 920M  Windows 10   2.2kg  38378.6496  \n",
       "1298    Intel HD Graphics 520  Windows 10   1.8kg  33992.6400  \n",
       "1299    Intel HD Graphics 520  Windows 10   1.3kg  79866.7200  \n",
       "1300        Intel HD Graphics  Windows 10   1.5kg  12201.1200  \n",
       "1301       AMD Radeon R5 M330  Windows 10  2.19kg  40705.9200  \n",
       "1302        Intel HD Graphics  Windows 10   2.2kg  19660.3200  "
      ]
     },
     "execution_count": 10,
     "metadata": {},
     "output_type": "execute_result"
    }
   ],
   "source": [
    "data[data.duplicated()]"
   ]
  },
  {
   "cell_type": "code",
   "execution_count": 11,
   "id": "9a96b65c",
   "metadata": {},
   "outputs": [],
   "source": [
    "data.drop_duplicates(keep='first',inplace=True)"
   ]
  },
  {
   "cell_type": "code",
   "execution_count": 12,
   "id": "74913d4e",
   "metadata": {},
   "outputs": [
    {
     "data": {
      "text/plain": [
       "(1274, 11)"
      ]
     },
     "execution_count": 12,
     "metadata": {},
     "output_type": "execute_result"
    }
   ],
   "source": [
    "data.shape"
   ]
  },
  {
   "cell_type": "code",
   "execution_count": 13,
   "id": "28d0dead",
   "metadata": {},
   "outputs": [
    {
     "data": {
      "text/plain": [
       "Company              object\n",
       "TypeName             object\n",
       "Inches              float64\n",
       "ScreenResolution     object\n",
       "Cpu                  object\n",
       "Ram                  object\n",
       "Memory               object\n",
       "Gpu                  object\n",
       "OpSys                object\n",
       "Weight               object\n",
       "Price               float64\n",
       "dtype: object"
      ]
     },
     "execution_count": 13,
     "metadata": {},
     "output_type": "execute_result"
    }
   ],
   "source": [
    "data.dtypes"
   ]
  },
  {
   "cell_type": "code",
   "execution_count": 14,
   "id": "6d2b2a4b",
   "metadata": {},
   "outputs": [
    {
     "data": {
      "text/html": [
       "<div>\n",
       "<style scoped>\n",
       "    .dataframe tbody tr th:only-of-type {\n",
       "        vertical-align: middle;\n",
       "    }\n",
       "\n",
       "    .dataframe tbody tr th {\n",
       "        vertical-align: top;\n",
       "    }\n",
       "\n",
       "    .dataframe thead th {\n",
       "        text-align: right;\n",
       "    }\n",
       "</style>\n",
       "<table border=\"1\" class=\"dataframe\">\n",
       "  <thead>\n",
       "    <tr style=\"text-align: right;\">\n",
       "      <th></th>\n",
       "      <th>Company</th>\n",
       "      <th>TypeName</th>\n",
       "      <th>Inches</th>\n",
       "      <th>ScreenResolution</th>\n",
       "      <th>Cpu</th>\n",
       "      <th>Ram</th>\n",
       "      <th>Memory</th>\n",
       "      <th>Gpu</th>\n",
       "      <th>OpSys</th>\n",
       "      <th>Weight</th>\n",
       "      <th>Price</th>\n",
       "    </tr>\n",
       "  </thead>\n",
       "  <tbody>\n",
       "    <tr>\n",
       "      <th>0</th>\n",
       "      <td>Apple</td>\n",
       "      <td>Ultrabook</td>\n",
       "      <td>13.3</td>\n",
       "      <td>IPS Panel Retina Display 2560x1600</td>\n",
       "      <td>Intel Core i5 2.3GHz</td>\n",
       "      <td>8GB</td>\n",
       "      <td>128GB SSD</td>\n",
       "      <td>Intel Iris Plus Graphics 640</td>\n",
       "      <td>macOS</td>\n",
       "      <td>1.37kg</td>\n",
       "      <td>71378.6832</td>\n",
       "    </tr>\n",
       "    <tr>\n",
       "      <th>1</th>\n",
       "      <td>Apple</td>\n",
       "      <td>Ultrabook</td>\n",
       "      <td>13.3</td>\n",
       "      <td>1440x900</td>\n",
       "      <td>Intel Core i5 1.8GHz</td>\n",
       "      <td>8GB</td>\n",
       "      <td>128GB Flash Storage</td>\n",
       "      <td>Intel HD Graphics 6000</td>\n",
       "      <td>macOS</td>\n",
       "      <td>1.34kg</td>\n",
       "      <td>47895.5232</td>\n",
       "    </tr>\n",
       "  </tbody>\n",
       "</table>\n",
       "</div>"
      ],
      "text/plain": [
       "  Company   TypeName  Inches                    ScreenResolution  \\\n",
       "0   Apple  Ultrabook    13.3  IPS Panel Retina Display 2560x1600   \n",
       "1   Apple  Ultrabook    13.3                            1440x900   \n",
       "\n",
       "                    Cpu  Ram               Memory  \\\n",
       "0  Intel Core i5 2.3GHz  8GB            128GB SSD   \n",
       "1  Intel Core i5 1.8GHz  8GB  128GB Flash Storage   \n",
       "\n",
       "                            Gpu  OpSys  Weight       Price  \n",
       "0  Intel Iris Plus Graphics 640  macOS  1.37kg  71378.6832  \n",
       "1        Intel HD Graphics 6000  macOS  1.34kg  47895.5232  "
      ]
     },
     "execution_count": 14,
     "metadata": {},
     "output_type": "execute_result"
    }
   ],
   "source": [
    "data.head(2)"
   ]
  },
  {
   "cell_type": "markdown",
   "id": "7dc53577",
   "metadata": {},
   "source": [
    "#### Coverting Ram and weight column into integer and float value"
   ]
  },
  {
   "cell_type": "code",
   "execution_count": 15,
   "id": "486f7d99",
   "metadata": {},
   "outputs": [],
   "source": [
    "x=data.copy()"
   ]
  },
  {
   "cell_type": "code",
   "execution_count": 16,
   "id": "78dfec25",
   "metadata": {},
   "outputs": [],
   "source": [
    "x['Ram']=data['Ram'].str.replace('GB','').astype('int32')\n",
    "x['Weight']=data['Weight'].str.replace('kg','').astype('float64')"
   ]
  },
  {
   "cell_type": "code",
   "execution_count": 17,
   "id": "2457715b",
   "metadata": {},
   "outputs": [
    {
     "data": {
      "text/plain": [
       "Company              object\n",
       "TypeName             object\n",
       "Inches              float64\n",
       "ScreenResolution     object\n",
       "Cpu                  object\n",
       "Ram                   int32\n",
       "Memory               object\n",
       "Gpu                  object\n",
       "OpSys                object\n",
       "Weight              float64\n",
       "Price               float64\n",
       "dtype: object"
      ]
     },
     "execution_count": 17,
     "metadata": {},
     "output_type": "execute_result"
    }
   ],
   "source": [
    "x.dtypes"
   ]
  },
  {
   "cell_type": "markdown",
   "id": "4259e85b",
   "metadata": {},
   "source": [
    "## EDA"
   ]
  },
  {
   "cell_type": "code",
   "execution_count": 18,
   "id": "669eaff3",
   "metadata": {},
   "outputs": [
    {
     "data": {
      "text/plain": [
       "<AxesSubplot:xlabel='Price', ylabel='Density'>"
      ]
     },
     "execution_count": 18,
     "metadata": {},
     "output_type": "execute_result"
    },
    {
     "data": {
      "image/png": "[encoded data removed]",
      "text/plain": [
       "<Figure size 1152x576 with 1 Axes>"
      ]
     },
     "metadata": {
      "needs_background": "light"
     },
     "output_type": "display_data"
    }
   ],
   "source": [
    "## Distribution of the Price\n",
    "fig,ax=plt.subplots(figsize=(16,8))\n",
    "sns.distplot(data['Price'])"
   ]
  },
  {
   "cell_type": "code",
   "execution_count": 19,
   "id": "bc7e0112",
   "metadata": {},
   "outputs": [
    {
     "data": {
      "text/plain": [
       "Dell         291\n",
       "Lenovo       289\n",
       "HP           268\n",
       "Asus         151\n",
       "Acer         101\n",
       "MSI           54\n",
       "Toshiba       48\n",
       "Apple         21\n",
       "Samsung        9\n",
       "Razer          7\n",
       "Mediacom       7\n",
       "Microsoft      6\n",
       "Vero           4\n",
       "Xiaomi         4\n",
       "Fujitsu        3\n",
       "LG             3\n",
       "Chuwi          3\n",
       "Google         3\n",
       "Huawei         2\n",
       "Name: Company, dtype: int64"
      ]
     },
     "execution_count": 19,
     "metadata": {},
     "output_type": "execute_result"
    }
   ],
   "source": [
    "data['Company'].value_counts()"
   ]
  },
  {
   "cell_type": "code",
   "execution_count": 20,
   "id": "6af79199",
   "metadata": {},
   "outputs": [
    {
     "data": {
      "text/plain": [
       "Text(0.5, 1.0, 'Laptop Count(CompanyWise)')"
      ]
     },
     "execution_count": 20,
     "metadata": {},
     "output_type": "execute_result"
    },
    {
     "data": {
      "image/png": "[encoded data removed]",
      "text/plain": [
       "<Figure size 1152x576 with 1 Axes>"
      ]
     },
     "metadata": {
      "needs_background": "light"
     },
     "output_type": "display_data"
    }
   ],
   "source": [
    "data['Company'].value_counts().plot(kind='bar',figsize=(16,8))\n",
    "plt.xlabel('Company Name',fontsize=18,fontweight='bold')\n",
    "plt.ylabel('Number of Laptops',fontsize=18,fontweight='bold')\n",
    "plt.xticks(fontweight='bold',fontsize=14)\n",
    "plt.title('Laptop Count(CompanyWise)',fontsize=20,fontweight='bold',color='red')  "
   ]
  },
  {
   "cell_type": "code",
   "execution_count": 21,
   "id": "42e87825",
   "metadata": {},
   "outputs": [
    {
     "data": {
      "text/plain": [
       "Notebook              706\n",
       "Gaming                205\n",
       "Ultrabook             194\n",
       "2 in 1 Convertible    117\n",
       "Workstation            29\n",
       "Netbook                23\n",
       "Name: TypeName, dtype: int64"
      ]
     },
     "execution_count": 21,
     "metadata": {},
     "output_type": "execute_result"
    }
   ],
   "source": [
    "data['TypeName'].value_counts()"
   ]
  },
  {
   "cell_type": "code",
   "execution_count": 22,
   "id": "29099fab",
   "metadata": {},
   "outputs": [
    {
     "data": {
      "text/plain": [
       "Text(0.5, 1.0, 'Laptop Type')"
      ]
     },
     "execution_count": 22,
     "metadata": {},
     "output_type": "execute_result"
    },
    {
     "data": {
      "image/png": "[encoded data removed]",
      "text/plain": [
       "<Figure size 1152x576 with 1 Axes>"
      ]
     },
     "metadata": {
      "needs_background": "light"
     },
     "output_type": "display_data"
    }
   ],
   "source": [
    "data['TypeName'].value_counts().plot(kind='bar',figsize=(16,8))\n",
    "plt.xlabel('Laptop Type',fontsize=18,fontweight='bold')\n",
    "plt.xticks(fontweight='bold',fontsize=14)\n",
    "plt.ylabel('Number of Laptops',fontsize=18,fontweight='bold')\n",
    "plt.title('Laptop Type',fontsize=20,fontweight='bold',color='red')                    "
   ]
  },
  {
   "cell_type": "code",
   "execution_count": 23,
   "id": "69a50197",
   "metadata": {},
   "outputs": [
    {
     "data": {
      "text/plain": [
       "Text(0.5, 1.0, 'Price Vs Company')"
      ]
     },
     "execution_count": 23,
     "metadata": {},
     "output_type": "execute_result"
    },
    {
     "data": {
      "image/png": "[encoded data removed]",
      "text/plain": [
       "<Figure size 1296x576 with 1 Axes>"
      ]
     },
     "metadata": {
      "needs_background": "light"
     },
     "output_type": "display_data"
    }
   ],
   "source": [
    "## Company vs Price\n",
    "fig,ax=plt.subplots(figsize=(18,8))\n",
    "ax=sns.barplot(data=data,\n",
    "           x='Company',\n",
    "           y='Price')\n",
    "ax.set_xlabel('Company name',fontsize=18,fontweight='bold')\n",
    "ax.set_ylabel('Price',fontsize=18,fontweight='bold')\n",
    "plt.xticks(fontweight='bold',fontsize=14,rotation=90)\n",
    "ax.set_title('Price Vs Company',fontsize=20,fontweight='bold',color='red')"
   ]
  },
  {
   "cell_type": "code",
   "execution_count": 24,
   "id": "6e43c894",
   "metadata": {},
   "outputs": [
    {
     "data": {
      "text/plain": [
       "Text(0.5, 1.0, 'Price Vs Type of Laptop')"
      ]
     },
     "execution_count": 24,
     "metadata": {},
     "output_type": "execute_result"
    },
    {
     "data": {
      "image/png": "[encoded data removed]",
      "text/plain": [
       "<Figure size 1152x576 with 1 Axes>"
      ]
     },
     "metadata": {
      "needs_background": "light"
     },
     "output_type": "display_data"
    }
   ],
   "source": [
    "## TypeName vs Price\n",
    "fig,ax=plt.subplots(figsize=(16,8))\n",
    "ax=sns.barplot(data=data,\n",
    "           x='TypeName',\n",
    "           y='Price')\n",
    "ax.set_xlabel('Type of Laptop',fontsize=18,fontweight='bold')\n",
    "ax.set_ylabel('Price',fontsize=18,fontweight='bold')\n",
    "plt.xticks(fontweight='bold',fontsize=14)\n",
    "ax.set_title('Price Vs Type of Laptop',fontsize=20,fontweight='bold',color='red')"
   ]
  },
  {
   "cell_type": "code",
   "execution_count": 25,
   "id": "dc0befad",
   "metadata": {},
   "outputs": [
    {
     "data": {
      "text/plain": [
       "Text(0.5, 1.0, 'Price Vs Ram')"
      ]
     },
     "execution_count": 25,
     "metadata": {},
     "output_type": "execute_result"
    },
    {
     "data": {
      "image/png": "[encoded data removed]",
      "text/plain": [
       "<Figure size 1152x576 with 1 Axes>"
      ]
     },
     "metadata": {
      "needs_background": "light"
     },
     "output_type": "display_data"
    }
   ],
   "source": [
    "## Ram vs Price\n",
    "fig,ax=plt.subplots(figsize=(16,8))\n",
    "ax=sns.barplot(data=data,\n",
    "           x='Ram',\n",
    "           y='Price')\n",
    "ax.set_xlabel('Ram of Laptop',fontsize=18,fontweight='bold')\n",
    "ax.set_ylabel('Price',fontsize=18,fontweight='bold')\n",
    "plt.xticks(fontweight='bold',fontsize=14)\n",
    "ax.set_title('Price Vs Ram',fontsize=20,fontweight='bold',color='red')"
   ]
  },
  {
   "cell_type": "code",
   "execution_count": 26,
   "id": "1c941cf3",
   "metadata": {},
   "outputs": [
    {
     "data": {
      "text/plain": [
       "Windows 10      1047\n",
       "No OS             66\n",
       "Linux             58\n",
       "Windows 7         45\n",
       "Chrome OS         27\n",
       "macOS             13\n",
       "Mac OS X           8\n",
       "Windows 10 S       8\n",
       "Android            2\n",
       "Name: OpSys, dtype: int64"
      ]
     },
     "execution_count": 26,
     "metadata": {},
     "output_type": "execute_result"
    }
   ],
   "source": [
    "data['OpSys'].value_counts()"
   ]
  },
  {
   "cell_type": "code",
   "execution_count": 27,
   "id": "48c40520",
   "metadata": {},
   "outputs": [
    {
     "data": {
      "text/plain": [
       "Text(0.5, 1.0, 'Operating System')"
      ]
     },
     "execution_count": 27,
     "metadata": {},
     "output_type": "execute_result"
    },
    {
     "data": {
      "image/png": "[encoded data removed]",
      "text/plain": [
       "<Figure size 1152x576 with 1 Axes>"
      ]
     },
     "metadata": {
      "needs_background": "light"
     },
     "output_type": "display_data"
    }
   ],
   "source": [
    "data['OpSys'].value_counts().plot(kind='bar',figsize=(16,8))\n",
    "plt.xlabel('Operating System',fontsize=18,fontweight='bold')\n",
    "plt.xticks(fontweight='bold',fontsize=14)\n",
    "plt.ylabel('Number of Laptops',fontsize=18,fontweight='bold')\n",
    "plt.title('Operating System',fontsize=20,fontweight='bold',color='red')                    "
   ]
  },
  {
   "cell_type": "code",
   "execution_count": 28,
   "id": "b96b9792",
   "metadata": {},
   "outputs": [
    {
     "data": {
      "text/plain": [
       "Text(0.5, 1.0, 'Price Vs Type of Laptop')"
      ]
     },
     "execution_count": 28,
     "metadata": {},
     "output_type": "execute_result"
    },
    {
     "data": {
      "image/png": "[encoded data removed]",
      "text/plain": [
       "<Figure size 1152x576 with 1 Axes>"
      ]
     },
     "metadata": {
      "needs_background": "light"
     },
     "output_type": "display_data"
    }
   ],
   "source": [
    "## Operating System Vs Price\n",
    "fig,ax=plt.subplots(figsize=(16,8))\n",
    "ax=sns.barplot(data=data,\n",
    "           x='OpSys',\n",
    "           y='Price')\n",
    "ax.set_xlabel('Type of Laptop',fontsize=18,fontweight='bold')\n",
    "ax.set_ylabel('Price',fontsize=18,fontweight='bold')\n",
    "plt.xticks(fontweight='bold',fontsize=14)\n",
    "ax.set_title('Price Vs Type of Laptop',fontsize=20,fontweight='bold',color='red')"
   ]
  },
  {
   "cell_type": "code",
   "execution_count": 29,
   "id": "6d7da624",
   "metadata": {},
   "outputs": [
    {
     "data": {
      "text/html": [
       "<div>\n",
       "<style scoped>\n",
       "    .dataframe tbody tr th:only-of-type {\n",
       "        vertical-align: middle;\n",
       "    }\n",
       "\n",
       "    .dataframe tbody tr th {\n",
       "        vertical-align: top;\n",
       "    }\n",
       "\n",
       "    .dataframe thead th {\n",
       "        text-align: right;\n",
       "    }\n",
       "</style>\n",
       "<table border=\"1\" class=\"dataframe\">\n",
       "  <thead>\n",
       "    <tr style=\"text-align: right;\">\n",
       "      <th></th>\n",
       "      <th>Company</th>\n",
       "      <th>TypeName</th>\n",
       "      <th>Inches</th>\n",
       "      <th>ScreenResolution</th>\n",
       "      <th>Cpu</th>\n",
       "      <th>Ram</th>\n",
       "      <th>Memory</th>\n",
       "      <th>Gpu</th>\n",
       "      <th>OpSys</th>\n",
       "      <th>Weight</th>\n",
       "      <th>Price</th>\n",
       "    </tr>\n",
       "  </thead>\n",
       "  <tbody>\n",
       "    <tr>\n",
       "      <th>0</th>\n",
       "      <td>Apple</td>\n",
       "      <td>Ultrabook</td>\n",
       "      <td>13.3</td>\n",
       "      <td>IPS Panel Retina Display 2560x1600</td>\n",
       "      <td>Intel Core i5 2.3GHz</td>\n",
       "      <td>8</td>\n",
       "      <td>128GB SSD</td>\n",
       "      <td>Intel Iris Plus Graphics 640</td>\n",
       "      <td>macOS</td>\n",
       "      <td>1.37</td>\n",
       "      <td>71378.6832</td>\n",
       "    </tr>\n",
       "    <tr>\n",
       "      <th>1</th>\n",
       "      <td>Apple</td>\n",
       "      <td>Ultrabook</td>\n",
       "      <td>13.3</td>\n",
       "      <td>1440x900</td>\n",
       "      <td>Intel Core i5 1.8GHz</td>\n",
       "      <td>8</td>\n",
       "      <td>128GB Flash Storage</td>\n",
       "      <td>Intel HD Graphics 6000</td>\n",
       "      <td>macOS</td>\n",
       "      <td>1.34</td>\n",
       "      <td>47895.5232</td>\n",
       "    </tr>\n",
       "    <tr>\n",
       "      <th>2</th>\n",
       "      <td>HP</td>\n",
       "      <td>Notebook</td>\n",
       "      <td>15.6</td>\n",
       "      <td>Full HD 1920x1080</td>\n",
       "      <td>Intel Core i5 7200U 2.5GHz</td>\n",
       "      <td>8</td>\n",
       "      <td>256GB SSD</td>\n",
       "      <td>Intel HD Graphics 620</td>\n",
       "      <td>No OS</td>\n",
       "      <td>1.86</td>\n",
       "      <td>30636.0000</td>\n",
       "    </tr>\n",
       "  </tbody>\n",
       "</table>\n",
       "</div>"
      ],
      "text/plain": [
       "  Company   TypeName  Inches                    ScreenResolution  \\\n",
       "0   Apple  Ultrabook    13.3  IPS Panel Retina Display 2560x1600   \n",
       "1   Apple  Ultrabook    13.3                            1440x900   \n",
       "2      HP   Notebook    15.6                   Full HD 1920x1080   \n",
       "\n",
       "                          Cpu  Ram               Memory  \\\n",
       "0        Intel Core i5 2.3GHz    8            128GB SSD   \n",
       "1        Intel Core i5 1.8GHz    8  128GB Flash Storage   \n",
       "2  Intel Core i5 7200U 2.5GHz    8            256GB SSD   \n",
       "\n",
       "                            Gpu  OpSys  Weight       Price  \n",
       "0  Intel Iris Plus Graphics 640  macOS    1.37  71378.6832  \n",
       "1        Intel HD Graphics 6000  macOS    1.34  47895.5232  \n",
       "2         Intel HD Graphics 620  No OS    1.86  30636.0000  "
      ]
     },
     "execution_count": 29,
     "metadata": {},
     "output_type": "execute_result"
    }
   ],
   "source": [
    "x.head(3)"
   ]
  },
  {
   "cell_type": "markdown",
   "id": "ba59b696",
   "metadata": {},
   "source": [
    "#### Lets analyse the Cpu Column"
   ]
  },
  {
   "cell_type": "code",
   "execution_count": 30,
   "id": "d45ec6d4",
   "metadata": {},
   "outputs": [
    {
     "data": {
      "text/plain": [
       "Intel Core i5 7200U 2.5GHz     190\n",
       "Intel Core i7 7700HQ 2.8GHz    146\n",
       "Intel Core i7 7500U 2.7GHz     132\n",
       "Intel Core i7 8550U 1.8GHz      73\n",
       "Intel Core i5 8250U 1.6GHz      72\n",
       "                              ... \n",
       "Intel Atom x5-Z8300 1.44GHz      1\n",
       "Intel Core M m7-6Y75 1.2GHz      1\n",
       "Intel Core i5 7200U 2.70GHz      1\n",
       "Intel Core i5 7200U 2.7GHz       1\n",
       "Intel Core i7 7700HQ 2.7GHz      1\n",
       "Name: Cpu, Length: 118, dtype: int64"
      ]
     },
     "execution_count": 30,
     "metadata": {},
     "output_type": "execute_result"
    }
   ],
   "source": [
    "x['Cpu'].value_counts()"
   ]
  },
  {
   "cell_type": "code",
   "execution_count": 31,
   "id": "05c1f529",
   "metadata": {},
   "outputs": [],
   "source": [
    "x['cpu_processor']=x['Cpu'].apply(lambda x : x.split()[0:3])\n",
    "x['cpu_processor']=x['cpu_processor'].apply(lambda x : ' '.join(x))"
   ]
  },
  {
   "cell_type": "code",
   "execution_count": 32,
   "id": "ab576ccf",
   "metadata": {},
   "outputs": [
    {
     "data": {
      "text/plain": [
       "Intel Core i7               515\n",
       "Intel Core i5               423\n",
       "Intel Core i3               134\n",
       "Intel Celeron Dual           69\n",
       "Intel Pentium Quad           27\n",
       "Intel Core M                 17\n",
       "AMD A9-Series 9420           12\n",
       "Intel Celeron Quad            8\n",
       "AMD A6-Series 9220            8\n",
       "AMD A12-Series 9720P          7\n",
       "Intel Atom x5-Z8350           5\n",
       "Intel Atom x5-Z8550           4\n",
       "AMD A8-Series 7410            4\n",
       "AMD Ryzen 1700                3\n",
       "Intel Pentium Dual            3\n",
       "AMD A9-Series A9-9420         2\n",
       "AMD A6-Series A6-9220         2\n",
       "AMD A10-Series 9620P          2\n",
       "AMD E-Series 7110             2\n",
       "Intel Xeon E3-1505M           2\n",
       "AMD E-Series E2-9000e         2\n",
       "AMD A10-Series A10-9620P      2\n",
       "Intel Xeon E3-1535M           2\n",
       "AMD A10-Series 9600P          2\n",
       "Intel Atom X5-Z8350           2\n",
       "AMD A9-Series 9410            1\n",
       "AMD FX 9830P                  1\n",
       "Samsung Cortex A72&A53        1\n",
       "AMD E-Series 6110             1\n",
       "AMD FX 8800P                  1\n",
       "AMD A12-Series 9700P          1\n",
       "AMD E-Series 9000             1\n",
       "Intel Atom Z8350              1\n",
       "AMD E-Series E2-6110          1\n",
       "Intel Atom x5-Z8300           1\n",
       "AMD Ryzen 1600                1\n",
       "AMD E-Series E2-9000          1\n",
       "AMD A6-Series 7310            1\n",
       "AMD E-Series 9000e            1\n",
       "AMD A4-Series 7210            1\n",
       "Name: cpu_processor, dtype: int64"
      ]
     },
     "execution_count": 32,
     "metadata": {},
     "output_type": "execute_result"
    }
   ],
   "source": [
    "x['cpu_processor'].value_counts()"
   ]
  },
  {
   "cell_type": "code",
   "execution_count": 33,
   "id": "b5ad05cc",
   "metadata": {},
   "outputs": [],
   "source": [
    "def processor(text):\n",
    "    if text == 'Intel Core i7' or text == 'Intel Core i5' or text == 'Intel Core i3':\n",
    "        return text\n",
    "    else:\n",
    "        if text.split()[0] == 'Intel':\n",
    "            return 'Other Intel Processor'\n",
    "        else:\n",
    "            return 'AMD Processor'"
   ]
  },
  {
   "cell_type": "code",
   "execution_count": 34,
   "id": "15b13a90",
   "metadata": {},
   "outputs": [],
   "source": [
    "x['cpu_processor']=x['cpu_processor'].apply(processor)"
   ]
  },
  {
   "cell_type": "code",
   "execution_count": 35,
   "id": "b12574a0",
   "metadata": {},
   "outputs": [
    {
     "data": {
      "text/plain": [
       "Intel Core i7            515\n",
       "Intel Core i5            423\n",
       "Other Intel Processor    141\n",
       "Intel Core i3            134\n",
       "AMD Processor             61\n",
       "Name: cpu_processor, dtype: int64"
      ]
     },
     "execution_count": 35,
     "metadata": {},
     "output_type": "execute_result"
    }
   ],
   "source": [
    "x['cpu_processor'].value_counts()"
   ]
  },
  {
   "cell_type": "code",
   "execution_count": 36,
   "id": "e6491032",
   "metadata": {},
   "outputs": [
    {
     "data": {
      "text/plain": [
       "Text(0.5, 1.0, 'Processor Count')"
      ]
     },
     "execution_count": 36,
     "metadata": {},
     "output_type": "execute_result"
    },
    {
     "data": {
      "image/png": "[encoded data removed]",
      "text/plain": [
       "<Figure size 1152x576 with 1 Axes>"
      ]
     },
     "metadata": {
      "needs_background": "light"
     },
     "output_type": "display_data"
    }
   ],
   "source": [
    "x['cpu_processor'].value_counts().plot(kind='bar',figsize=(16,8))\n",
    "plt.xlabel('Processor',fontsize=18,fontweight='bold')\n",
    "plt.ylabel('Number of Laptops',fontsize=18,fontweight='bold')\n",
    "plt.xticks(fontweight='bold',fontsize=14)\n",
    "plt.title('Processor Count',fontsize=20,fontweight='bold',color='red')"
   ]
  },
  {
   "cell_type": "code",
   "execution_count": 37,
   "id": "06da0e87",
   "metadata": {},
   "outputs": [
    {
     "data": {
      "text/plain": [
       "Text(0.5, 1.0, 'Price Vs Processor of Laptop')"
      ]
     },
     "execution_count": 37,
     "metadata": {},
     "output_type": "execute_result"
    },
    {
     "data": {
      "image/png": "[encoded data removed]",
      "text/plain": [
       "<Figure size 1152x576 with 1 Axes>"
      ]
     },
     "metadata": {
      "needs_background": "light"
     },
     "output_type": "display_data"
    }
   ],
   "source": [
    "## Processor vs Price\n",
    "fig,ax=plt.subplots(figsize=(16,8))\n",
    "ax=sns.barplot(data=x,\n",
    "           x='cpu_processor',\n",
    "           y='Price')\n",
    "ax.set_xlabel('Processor',fontsize=18,fontweight='bold')\n",
    "ax.set_ylabel('Price',fontsize=18,fontweight='bold')\n",
    "plt.xticks(fontweight='bold',fontsize=14,rotation=90)\n",
    "ax.set_title('Price Vs Processor of Laptop',fontsize=20,fontweight='bold',color='red')"
   ]
  },
  {
   "cell_type": "code",
   "execution_count": 38,
   "id": "8b0871e1",
   "metadata": {},
   "outputs": [
    {
     "data": {
      "text/html": [
       "<div>\n",
       "<style scoped>\n",
       "    .dataframe tbody tr th:only-of-type {\n",
       "        vertical-align: middle;\n",
       "    }\n",
       "\n",
       "    .dataframe tbody tr th {\n",
       "        vertical-align: top;\n",
       "    }\n",
       "\n",
       "    .dataframe thead th {\n",
       "        text-align: right;\n",
       "    }\n",
       "</style>\n",
       "<table border=\"1\" class=\"dataframe\">\n",
       "  <thead>\n",
       "    <tr style=\"text-align: right;\">\n",
       "      <th></th>\n",
       "      <th>Company</th>\n",
       "      <th>TypeName</th>\n",
       "      <th>Inches</th>\n",
       "      <th>ScreenResolution</th>\n",
       "      <th>Cpu</th>\n",
       "      <th>Ram</th>\n",
       "      <th>Memory</th>\n",
       "      <th>Gpu</th>\n",
       "      <th>OpSys</th>\n",
       "      <th>Weight</th>\n",
       "      <th>Price</th>\n",
       "      <th>cpu_processor</th>\n",
       "    </tr>\n",
       "  </thead>\n",
       "  <tbody>\n",
       "    <tr>\n",
       "      <th>0</th>\n",
       "      <td>Apple</td>\n",
       "      <td>Ultrabook</td>\n",
       "      <td>13.3</td>\n",
       "      <td>IPS Panel Retina Display 2560x1600</td>\n",
       "      <td>Intel Core i5 2.3GHz</td>\n",
       "      <td>8</td>\n",
       "      <td>128GB SSD</td>\n",
       "      <td>Intel Iris Plus Graphics 640</td>\n",
       "      <td>macOS</td>\n",
       "      <td>1.37</td>\n",
       "      <td>71378.6832</td>\n",
       "      <td>Intel Core i5</td>\n",
       "    </tr>\n",
       "    <tr>\n",
       "      <th>1</th>\n",
       "      <td>Apple</td>\n",
       "      <td>Ultrabook</td>\n",
       "      <td>13.3</td>\n",
       "      <td>1440x900</td>\n",
       "      <td>Intel Core i5 1.8GHz</td>\n",
       "      <td>8</td>\n",
       "      <td>128GB Flash Storage</td>\n",
       "      <td>Intel HD Graphics 6000</td>\n",
       "      <td>macOS</td>\n",
       "      <td>1.34</td>\n",
       "      <td>47895.5232</td>\n",
       "      <td>Intel Core i5</td>\n",
       "    </tr>\n",
       "    <tr>\n",
       "      <th>2</th>\n",
       "      <td>HP</td>\n",
       "      <td>Notebook</td>\n",
       "      <td>15.6</td>\n",
       "      <td>Full HD 1920x1080</td>\n",
       "      <td>Intel Core i5 7200U 2.5GHz</td>\n",
       "      <td>8</td>\n",
       "      <td>256GB SSD</td>\n",
       "      <td>Intel HD Graphics 620</td>\n",
       "      <td>No OS</td>\n",
       "      <td>1.86</td>\n",
       "      <td>30636.0000</td>\n",
       "      <td>Intel Core i5</td>\n",
       "    </tr>\n",
       "  </tbody>\n",
       "</table>\n",
       "</div>"
      ],
      "text/plain": [
       "  Company   TypeName  Inches                    ScreenResolution  \\\n",
       "0   Apple  Ultrabook    13.3  IPS Panel Retina Display 2560x1600   \n",
       "1   Apple  Ultrabook    13.3                            1440x900   \n",
       "2      HP   Notebook    15.6                   Full HD 1920x1080   \n",
       "\n",
       "                          Cpu  Ram               Memory  \\\n",
       "0        Intel Core i5 2.3GHz    8            128GB SSD   \n",
       "1        Intel Core i5 1.8GHz    8  128GB Flash Storage   \n",
       "2  Intel Core i5 7200U 2.5GHz    8            256GB SSD   \n",
       "\n",
       "                            Gpu  OpSys  Weight       Price  cpu_processor  \n",
       "0  Intel Iris Plus Graphics 640  macOS    1.37  71378.6832  Intel Core i5  \n",
       "1        Intel HD Graphics 6000  macOS    1.34  47895.5232  Intel Core i5  \n",
       "2         Intel HD Graphics 620  No OS    1.86  30636.0000  Intel Core i5  "
      ]
     },
     "execution_count": 38,
     "metadata": {},
     "output_type": "execute_result"
    }
   ],
   "source": [
    "x.head(3)"
   ]
  },
  {
   "cell_type": "markdown",
   "id": "22f6d23d",
   "metadata": {},
   "source": [
    "#### Lets Analyze Screen Resolution"
   ]
  },
  {
   "cell_type": "code",
   "execution_count": 39,
   "id": "13a58e00",
   "metadata": {},
   "outputs": [
    {
     "data": {
      "text/plain": [
       "Full HD 1920x1080                                505\n",
       "1366x768                                         262\n",
       "IPS Panel Full HD 1920x1080                      226\n",
       "IPS Panel Full HD / Touchscreen 1920x1080         51\n",
       "Full HD / Touchscreen 1920x1080                   47\n",
       "1600x900                                          23\n",
       "Touchscreen 1366x768                              16\n",
       "Quad HD+ / Touchscreen 3200x1800                  15\n",
       "IPS Panel 4K Ultra HD 3840x2160                   12\n",
       "IPS Panel 4K Ultra HD / Touchscreen 3840x2160     11\n",
       "4K Ultra HD / Touchscreen 3840x2160               10\n",
       "4K Ultra HD 3840x2160                              7\n",
       "IPS Panel 1366x768                                 7\n",
       "Touchscreen 2560x1440                              7\n",
       "IPS Panel Retina Display 2560x1600                 6\n",
       "Touchscreen 2256x1504                              6\n",
       "IPS Panel Retina Display 2304x1440                 6\n",
       "IPS Panel Touchscreen 2560x1440                    5\n",
       "IPS Panel 2560x1440                                4\n",
       "1440x900                                           4\n",
       "IPS Panel Quad HD+ / Touchscreen 3200x1800         4\n",
       "IPS Panel Touchscreen 1920x1200                    4\n",
       "IPS Panel Retina Display 2880x1800                 4\n",
       "2560x1440                                          3\n",
       "1920x1080                                          3\n",
       "Quad HD+ 3200x1800                                 3\n",
       "IPS Panel Quad HD+ 2560x1440                       3\n",
       "IPS Panel Touchscreen 1366x768                     3\n",
       "Touchscreen 2400x1600                              3\n",
       "IPS Panel Quad HD+ 3200x1800                       2\n",
       "IPS Panel Full HD 2160x1440                        2\n",
       "IPS Panel Touchscreen / 4K Ultra HD 3840x2160      2\n",
       "IPS Panel Touchscreen 2400x1600                    1\n",
       "Touchscreen / 4K Ultra HD 3840x2160                1\n",
       "IPS Panel Full HD 1366x768                         1\n",
       "Touchscreen / Quad HD+ 3200x1800                   1\n",
       "IPS Panel Full HD 2560x1440                        1\n",
       "Touchscreen / Full HD 1920x1080                    1\n",
       "IPS Panel Full HD 1920x1200                        1\n",
       "IPS Panel Retina Display 2736x1824                 1\n",
       "Name: ScreenResolution, dtype: int64"
      ]
     },
     "execution_count": 39,
     "metadata": {},
     "output_type": "execute_result"
    }
   ],
   "source": [
    "x['ScreenResolution'].value_counts()"
   ]
  },
  {
   "cell_type": "code",
   "execution_count": 40,
   "id": "83cc6b6c",
   "metadata": {},
   "outputs": [],
   "source": [
    "def touch(text):\n",
    "    if 'Touchscreen' in text:\n",
    "        return 1\n",
    "    else:\n",
    "        return 0"
   ]
  },
  {
   "cell_type": "code",
   "execution_count": 41,
   "id": "65f377c1",
   "metadata": {},
   "outputs": [],
   "source": [
    "def IPS(text):\n",
    "    if 'IPS' in text:\n",
    "        return 1\n",
    "    else:\n",
    "        return 0"
   ]
  },
  {
   "cell_type": "code",
   "execution_count": 42,
   "id": "cf1698a3",
   "metadata": {},
   "outputs": [],
   "source": [
    "x['TouchScreen']=x['ScreenResolution'].apply(touch)\n",
    "x['IPS']=x['ScreenResolution'].apply(IPS)"
   ]
  },
  {
   "cell_type": "code",
   "execution_count": 43,
   "id": "9144248b",
   "metadata": {},
   "outputs": [
    {
     "data": {
      "text/plain": [
       "0    1086\n",
       "1     188\n",
       "Name: TouchScreen, dtype: int64"
      ]
     },
     "execution_count": 43,
     "metadata": {},
     "output_type": "execute_result"
    }
   ],
   "source": [
    "x['TouchScreen'].value_counts()"
   ]
  },
  {
   "cell_type": "code",
   "execution_count": 44,
   "id": "1604ed27",
   "metadata": {},
   "outputs": [
    {
     "data": {
      "text/plain": [
       "Text(0.5, 1.0, 'Count Of TouchScreen Laptop')"
      ]
     },
     "execution_count": 44,
     "metadata": {},
     "output_type": "execute_result"
    },
    {
     "data": {
      "image/png": "[encoded data removed]",
      "text/plain": [
       "<Figure size 720x360 with 1 Axes>"
      ]
     },
     "metadata": {
      "needs_background": "light"
     },
     "output_type": "display_data"
    }
   ],
   "source": [
    "x['TouchScreen'].value_counts().plot(kind='bar',figsize=(10,5))\n",
    "plt.xlabel('TouchScreen',fontsize=18,fontweight='bold')\n",
    "plt.ylabel('Number of Laptops',fontsize=18,fontweight='bold')\n",
    "plt.xticks(fontweight='bold',fontsize=14)\n",
    "plt.title('Count Of TouchScreen Laptop',fontsize=20,fontweight='bold',color='red')"
   ]
  },
  {
   "cell_type": "code",
   "execution_count": 45,
   "id": "5a456e8a",
   "metadata": {},
   "outputs": [
    {
     "data": {
      "text/plain": [
       "Text(0.5, 1.0, 'Price Vs Touchscreen Laptop')"
      ]
     },
     "execution_count": 45,
     "metadata": {},
     "output_type": "execute_result"
    },
    {
     "data": {
      "image/png": "[encoded data removed]",
      "text/plain": [
       "<Figure size 720x360 with 1 Axes>"
      ]
     },
     "metadata": {
      "needs_background": "light"
     },
     "output_type": "display_data"
    }
   ],
   "source": [
    "## TouchScreen Laptop Vs Price\n",
    "fig,ax=plt.subplots(figsize=(10,5))\n",
    "ax=sns.barplot(data=x,\n",
    "           x='TouchScreen',\n",
    "           y='Price')\n",
    "ax.set_xlabel('Touchscreen',fontsize=18,fontweight='bold')\n",
    "ax.set_ylabel('Price',fontsize=18,fontweight='bold')\n",
    "plt.xticks(fontweight='bold',fontsize=14,rotation=90)\n",
    "ax.set_title('Price Vs Touchscreen Laptop',fontsize=20,fontweight='bold',color='red')"
   ]
  },
  {
   "cell_type": "code",
   "execution_count": 46,
   "id": "3b80f322",
   "metadata": {},
   "outputs": [
    {
     "data": {
      "text/plain": [
       "Text(0.5, 1.0, 'Count Of IPS Screen Laptop')"
      ]
     },
     "execution_count": 46,
     "metadata": {},
     "output_type": "execute_result"
    },
    {
     "data": {
      "image/png": "[encoded data removed]",
      "text/plain": [
       "<Figure size 720x360 with 1 Axes>"
      ]
     },
     "metadata": {
      "needs_background": "light"
     },
     "output_type": "display_data"
    }
   ],
   "source": [
    "x['IPS'].value_counts().plot(kind='bar',figsize=(10,5))\n",
    "plt.xlabel('IPS Screen',fontsize=18,fontweight='bold')\n",
    "plt.ylabel('Number of Laptops',fontsize=18,fontweight='bold')\n",
    "plt.xticks(fontweight='bold',fontsize=14)\n",
    "plt.title('Count Of IPS Screen Laptop',fontsize=20,fontweight='bold',color='red')"
   ]
  },
  {
   "cell_type": "code",
   "execution_count": 47,
   "id": "440da30a",
   "metadata": {},
   "outputs": [
    {
     "data": {
      "text/plain": [
       "Text(0.5, 1.0, 'Price Vs IPS Screen')"
      ]
     },
     "execution_count": 47,
     "metadata": {},
     "output_type": "execute_result"
    },
    {
     "data": {
      "image/png": "[encoded data removed]",
      "text/plain": [
       "<Figure size 720x360 with 1 Axes>"
      ]
     },
     "metadata": {
      "needs_background": "light"
     },
     "output_type": "display_data"
    }
   ],
   "source": [
    "fig,ax=plt.subplots(figsize=(10,5))\n",
    "ax=sns.barplot(data=x,\n",
    "           x='IPS',\n",
    "           y='Price')\n",
    "ax.set_xlabel('IPS Screen',fontsize=18,fontweight='bold')\n",
    "ax.set_ylabel('Price',fontsize=18,fontweight='bold')\n",
    "plt.xticks(fontweight='bold',fontsize=14,rotation=90)\n",
    "ax.set_title('Price Vs IPS Screen',fontsize=20,fontweight='bold',color='red')"
   ]
  },
  {
   "cell_type": "code",
   "execution_count": 48,
   "id": "4dc6590b",
   "metadata": {},
   "outputs": [],
   "source": [
    "resolution=x['ScreenResolution'].str.split('x',n=1,expand=True)"
   ]
  },
  {
   "cell_type": "code",
   "execution_count": 49,
   "id": "22665cd1",
   "metadata": {},
   "outputs": [],
   "source": [
    "resolution_x=resolution[0]\n",
    "resolution_y=resolution[1]"
   ]
  },
  {
   "cell_type": "code",
   "execution_count": 50,
   "id": "2d226a74",
   "metadata": {},
   "outputs": [],
   "source": [
    "x['resolution_x']=resolution_x\n",
    "x['resolution_y']=resolution_y"
   ]
  },
  {
   "cell_type": "code",
   "execution_count": 51,
   "id": "dfc8d85b",
   "metadata": {},
   "outputs": [],
   "source": [
    "import re"
   ]
  },
  {
   "cell_type": "code",
   "execution_count": 52,
   "id": "a15dbd14",
   "metadata": {},
   "outputs": [],
   "source": [
    "def splitter(text):\n",
    "    res = re.findall(r'\\d+', text)\n",
    "    return res"
   ]
  },
  {
   "cell_type": "code",
   "execution_count": 53,
   "id": "96bf68d6",
   "metadata": {},
   "outputs": [],
   "source": [
    "x['resolution_x']=x['resolution_x'].str.findall(r'(\\d+\\.?\\d+)').apply(lambda x:x[0]).astype('int32')\n",
    "x['resolution_y']=x['resolution_y'].astype('int32')"
   ]
  },
  {
   "cell_type": "code",
   "execution_count": 54,
   "id": "4bf2c0ef",
   "metadata": {},
   "outputs": [],
   "source": [
    "x.drop('ScreenResolution',axis=1,inplace=True)"
   ]
  },
  {
   "cell_type": "code",
   "execution_count": 55,
   "id": "98aa4853",
   "metadata": {},
   "outputs": [
    {
     "data": {
      "text/plain": [
       "Inches          0.066990\n",
       "Ram             0.740106\n",
       "Weight          0.212192\n",
       "Price           1.000000\n",
       "TouchScreen     0.188631\n",
       "IPS             0.250358\n",
       "resolution_x    0.552074\n",
       "resolution_y    0.548111\n",
       "Name: Price, dtype: float64"
      ]
     },
     "execution_count": 55,
     "metadata": {},
     "output_type": "execute_result"
    }
   ],
   "source": [
    "x.corr()['Price']"
   ]
  },
  {
   "cell_type": "markdown",
   "id": "1afa7a23",
   "metadata": {},
   "source": [
    "#### we can see that resolution_x and and resolution_y have same correlation. So this is multicolinearity we can drop one of them."
   ]
  },
  {
   "cell_type": "code",
   "execution_count": 56,
   "id": "08caf27f",
   "metadata": {},
   "outputs": [],
   "source": [
    "## We are going to calculate the ppi(pixel per inch)\n",
    "x['ppi'] = (((x['resolution_x']**2) + (x['resolution_y']**2))**0.5/x['Inches']).astype('float')"
   ]
  },
  {
   "cell_type": "code",
   "execution_count": 57,
   "id": "d23c26b5",
   "metadata": {},
   "outputs": [
    {
     "data": {
      "text/plain": [
       "Text(0.5, 1.0, 'Price Vs Pixel Per Inch(PPI)')"
      ]
     },
     "execution_count": 57,
     "metadata": {},
     "output_type": "execute_result"
    },
    {
     "data": {
      "image/png": "[encoded data removed]",
      "text/plain": [
       "<Figure size 720x360 with 1 Axes>"
      ]
     },
     "metadata": {
      "needs_background": "light"
     },
     "output_type": "display_data"
    }
   ],
   "source": [
    "fig,ax=plt.subplots(figsize=(10,5))\n",
    "ax=sns.scatterplot(x=x['ppi'],\n",
    "               y=x['Price'])\n",
    "ax.set_xlabel('Pixel Per Inch(PPI)',fontsize=18,fontweight='bold')\n",
    "ax.set_ylabel('Price',fontsize=18,fontweight='bold')\n",
    "plt.xticks(fontweight='bold',fontsize=14,rotation=90)\n",
    "ax.set_title('Price Vs Pixel Per Inch(PPI)',fontsize=20,fontweight='bold',color='red')"
   ]
  },
  {
   "cell_type": "code",
   "execution_count": 58,
   "id": "43684346",
   "metadata": {},
   "outputs": [
    {
     "data": {
      "text/html": [
       "<div>\n",
       "<style scoped>\n",
       "    .dataframe tbody tr th:only-of-type {\n",
       "        vertical-align: middle;\n",
       "    }\n",
       "\n",
       "    .dataframe tbody tr th {\n",
       "        vertical-align: top;\n",
       "    }\n",
       "\n",
       "    .dataframe thead th {\n",
       "        text-align: right;\n",
       "    }\n",
       "</style>\n",
       "<table border=\"1\" class=\"dataframe\">\n",
       "  <thead>\n",
       "    <tr style=\"text-align: right;\">\n",
       "      <th></th>\n",
       "      <th>Company</th>\n",
       "      <th>TypeName</th>\n",
       "      <th>Inches</th>\n",
       "      <th>Cpu</th>\n",
       "      <th>Ram</th>\n",
       "      <th>Memory</th>\n",
       "      <th>Gpu</th>\n",
       "      <th>OpSys</th>\n",
       "      <th>Weight</th>\n",
       "      <th>Price</th>\n",
       "      <th>cpu_processor</th>\n",
       "      <th>TouchScreen</th>\n",
       "      <th>IPS</th>\n",
       "      <th>resolution_x</th>\n",
       "      <th>resolution_y</th>\n",
       "      <th>ppi</th>\n",
       "    </tr>\n",
       "  </thead>\n",
       "  <tbody>\n",
       "    <tr>\n",
       "      <th>0</th>\n",
       "      <td>Apple</td>\n",
       "      <td>Ultrabook</td>\n",
       "      <td>13.3</td>\n",
       "      <td>Intel Core i5 2.3GHz</td>\n",
       "      <td>8</td>\n",
       "      <td>128GB SSD</td>\n",
       "      <td>Intel Iris Plus Graphics 640</td>\n",
       "      <td>macOS</td>\n",
       "      <td>1.37</td>\n",
       "      <td>71378.6832</td>\n",
       "      <td>Intel Core i5</td>\n",
       "      <td>0</td>\n",
       "      <td>1</td>\n",
       "      <td>2560</td>\n",
       "      <td>1600</td>\n",
       "      <td>226.983005</td>\n",
       "    </tr>\n",
       "    <tr>\n",
       "      <th>1</th>\n",
       "      <td>Apple</td>\n",
       "      <td>Ultrabook</td>\n",
       "      <td>13.3</td>\n",
       "      <td>Intel Core i5 1.8GHz</td>\n",
       "      <td>8</td>\n",
       "      <td>128GB Flash Storage</td>\n",
       "      <td>Intel HD Graphics 6000</td>\n",
       "      <td>macOS</td>\n",
       "      <td>1.34</td>\n",
       "      <td>47895.5232</td>\n",
       "      <td>Intel Core i5</td>\n",
       "      <td>0</td>\n",
       "      <td>0</td>\n",
       "      <td>1440</td>\n",
       "      <td>900</td>\n",
       "      <td>127.677940</td>\n",
       "    </tr>\n",
       "  </tbody>\n",
       "</table>\n",
       "</div>"
      ],
      "text/plain": [
       "  Company   TypeName  Inches                   Cpu  Ram               Memory  \\\n",
       "0   Apple  Ultrabook    13.3  Intel Core i5 2.3GHz    8            128GB SSD   \n",
       "1   Apple  Ultrabook    13.3  Intel Core i5 1.8GHz    8  128GB Flash Storage   \n",
       "\n",
       "                            Gpu  OpSys  Weight       Price  cpu_processor  \\\n",
       "0  Intel Iris Plus Graphics 640  macOS    1.37  71378.6832  Intel Core i5   \n",
       "1        Intel HD Graphics 6000  macOS    1.34  47895.5232  Intel Core i5   \n",
       "\n",
       "   TouchScreen  IPS  resolution_x  resolution_y         ppi  \n",
       "0            0    1          2560          1600  226.983005  \n",
       "1            0    0          1440           900  127.677940  "
      ]
     },
     "execution_count": 58,
     "metadata": {},
     "output_type": "execute_result"
    }
   ],
   "source": [
    "x.head(2)"
   ]
  },
  {
   "cell_type": "code",
   "execution_count": 59,
   "id": "fb2d5b3b",
   "metadata": {},
   "outputs": [],
   "source": [
    "#### Now we can drop inches,resolution_x,resolution_y,Cpu\n",
    "x.drop(['Inches','resolution_x','resolution_y','Cpu'],axis=1,inplace=True)"
   ]
  },
  {
   "cell_type": "code",
   "execution_count": 60,
   "id": "bcd4e804",
   "metadata": {},
   "outputs": [
    {
     "data": {
      "text/html": [
       "<div>\n",
       "<style scoped>\n",
       "    .dataframe tbody tr th:only-of-type {\n",
       "        vertical-align: middle;\n",
       "    }\n",
       "\n",
       "    .dataframe tbody tr th {\n",
       "        vertical-align: top;\n",
       "    }\n",
       "\n",
       "    .dataframe thead th {\n",
       "        text-align: right;\n",
       "    }\n",
       "</style>\n",
       "<table border=\"1\" class=\"dataframe\">\n",
       "  <thead>\n",
       "    <tr style=\"text-align: right;\">\n",
       "      <th></th>\n",
       "      <th>Company</th>\n",
       "      <th>TypeName</th>\n",
       "      <th>Ram</th>\n",
       "      <th>Memory</th>\n",
       "      <th>Gpu</th>\n",
       "      <th>OpSys</th>\n",
       "      <th>Weight</th>\n",
       "      <th>Price</th>\n",
       "      <th>cpu_processor</th>\n",
       "      <th>TouchScreen</th>\n",
       "      <th>IPS</th>\n",
       "      <th>ppi</th>\n",
       "    </tr>\n",
       "  </thead>\n",
       "  <tbody>\n",
       "    <tr>\n",
       "      <th>0</th>\n",
       "      <td>Apple</td>\n",
       "      <td>Ultrabook</td>\n",
       "      <td>8</td>\n",
       "      <td>128GB SSD</td>\n",
       "      <td>Intel Iris Plus Graphics 640</td>\n",
       "      <td>macOS</td>\n",
       "      <td>1.37</td>\n",
       "      <td>71378.6832</td>\n",
       "      <td>Intel Core i5</td>\n",
       "      <td>0</td>\n",
       "      <td>1</td>\n",
       "      <td>226.983005</td>\n",
       "    </tr>\n",
       "    <tr>\n",
       "      <th>1</th>\n",
       "      <td>Apple</td>\n",
       "      <td>Ultrabook</td>\n",
       "      <td>8</td>\n",
       "      <td>128GB Flash Storage</td>\n",
       "      <td>Intel HD Graphics 6000</td>\n",
       "      <td>macOS</td>\n",
       "      <td>1.34</td>\n",
       "      <td>47895.5232</td>\n",
       "      <td>Intel Core i5</td>\n",
       "      <td>0</td>\n",
       "      <td>0</td>\n",
       "      <td>127.677940</td>\n",
       "    </tr>\n",
       "    <tr>\n",
       "      <th>2</th>\n",
       "      <td>HP</td>\n",
       "      <td>Notebook</td>\n",
       "      <td>8</td>\n",
       "      <td>256GB SSD</td>\n",
       "      <td>Intel HD Graphics 620</td>\n",
       "      <td>No OS</td>\n",
       "      <td>1.86</td>\n",
       "      <td>30636.0000</td>\n",
       "      <td>Intel Core i5</td>\n",
       "      <td>0</td>\n",
       "      <td>0</td>\n",
       "      <td>141.211998</td>\n",
       "    </tr>\n",
       "    <tr>\n",
       "      <th>3</th>\n",
       "      <td>Apple</td>\n",
       "      <td>Ultrabook</td>\n",
       "      <td>16</td>\n",
       "      <td>512GB SSD</td>\n",
       "      <td>AMD Radeon Pro 455</td>\n",
       "      <td>macOS</td>\n",
       "      <td>1.83</td>\n",
       "      <td>135195.3360</td>\n",
       "      <td>Intel Core i7</td>\n",
       "      <td>0</td>\n",
       "      <td>1</td>\n",
       "      <td>220.534624</td>\n",
       "    </tr>\n",
       "    <tr>\n",
       "      <th>4</th>\n",
       "      <td>Apple</td>\n",
       "      <td>Ultrabook</td>\n",
       "      <td>8</td>\n",
       "      <td>256GB SSD</td>\n",
       "      <td>Intel Iris Plus Graphics 650</td>\n",
       "      <td>macOS</td>\n",
       "      <td>1.37</td>\n",
       "      <td>96095.8080</td>\n",
       "      <td>Intel Core i5</td>\n",
       "      <td>0</td>\n",
       "      <td>1</td>\n",
       "      <td>226.983005</td>\n",
       "    </tr>\n",
       "  </tbody>\n",
       "</table>\n",
       "</div>"
      ],
      "text/plain": [
       "  Company   TypeName  Ram               Memory                           Gpu  \\\n",
       "0   Apple  Ultrabook    8            128GB SSD  Intel Iris Plus Graphics 640   \n",
       "1   Apple  Ultrabook    8  128GB Flash Storage        Intel HD Graphics 6000   \n",
       "2      HP   Notebook    8            256GB SSD         Intel HD Graphics 620   \n",
       "3   Apple  Ultrabook   16            512GB SSD            AMD Radeon Pro 455   \n",
       "4   Apple  Ultrabook    8            256GB SSD  Intel Iris Plus Graphics 650   \n",
       "\n",
       "   OpSys  Weight        Price  cpu_processor  TouchScreen  IPS         ppi  \n",
       "0  macOS    1.37   71378.6832  Intel Core i5            0    1  226.983005  \n",
       "1  macOS    1.34   47895.5232  Intel Core i5            0    0  127.677940  \n",
       "2  No OS    1.86   30636.0000  Intel Core i5            0    0  141.211998  \n",
       "3  macOS    1.83  135195.3360  Intel Core i7            0    1  220.534624  \n",
       "4  macOS    1.37   96095.8080  Intel Core i5            0    1  226.983005  "
      ]
     },
     "execution_count": 60,
     "metadata": {},
     "output_type": "execute_result"
    }
   ],
   "source": [
    "x.head()"
   ]
  },
  {
   "cell_type": "markdown",
   "id": "ca62070a",
   "metadata": {},
   "source": [
    "#### Lets analyze Memory Column"
   ]
  },
  {
   "cell_type": "code",
   "execution_count": 61,
   "id": "91228709",
   "metadata": {},
   "outputs": [],
   "source": [
    "def hdd(text):\n",
    "    if 'HDD' in text:\n",
    "        return text\n",
    "    else:\n",
    "        return 0\n",
    "def flash(text):\n",
    "    if 'Flash' in text:\n",
    "        return text\n",
    "    else:\n",
    "        return 0\n",
    "def Hybrid(text):\n",
    "    if 'Hybrid' in text:\n",
    "        return text\n",
    "    else:\n",
    "        return 0\n",
    "def ssd(text):\n",
    "    if 'SSD' in text:\n",
    "        return text\n",
    "    else:\n",
    "        return 0\n"
   ]
  },
  {
   "cell_type": "code",
   "execution_count": 62,
   "id": "56ee9a39",
   "metadata": {},
   "outputs": [],
   "source": [
    "x[\"HDD\"] = x['Memory'].apply(hdd)\n",
    "x[\"SSD\"] = x['Memory'].apply(ssd)\n",
    "x[\"Hybrid_Storage\"] = x['Memory'].apply(Hybrid)\n",
    "x[\"Flash_Storage\"] = x['Memory'].apply(flash)"
   ]
  },
  {
   "cell_type": "code",
   "execution_count": 63,
   "id": "4f856d60",
   "metadata": {},
   "outputs": [
    {
     "data": {
      "text/html": [
       "<div>\n",
       "<style scoped>\n",
       "    .dataframe tbody tr th:only-of-type {\n",
       "        vertical-align: middle;\n",
       "    }\n",
       "\n",
       "    .dataframe tbody tr th {\n",
       "        vertical-align: top;\n",
       "    }\n",
       "\n",
       "    .dataframe thead th {\n",
       "        text-align: right;\n",
       "    }\n",
       "</style>\n",
       "<table border=\"1\" class=\"dataframe\">\n",
       "  <thead>\n",
       "    <tr style=\"text-align: right;\">\n",
       "      <th></th>\n",
       "      <th>Company</th>\n",
       "      <th>TypeName</th>\n",
       "      <th>Ram</th>\n",
       "      <th>Memory</th>\n",
       "      <th>Gpu</th>\n",
       "      <th>OpSys</th>\n",
       "      <th>Weight</th>\n",
       "      <th>Price</th>\n",
       "      <th>cpu_processor</th>\n",
       "      <th>TouchScreen</th>\n",
       "      <th>IPS</th>\n",
       "      <th>ppi</th>\n",
       "      <th>HDD</th>\n",
       "      <th>SSD</th>\n",
       "      <th>Hybrid_Storage</th>\n",
       "      <th>Flash_Storage</th>\n",
       "    </tr>\n",
       "  </thead>\n",
       "  <tbody>\n",
       "    <tr>\n",
       "      <th>0</th>\n",
       "      <td>Apple</td>\n",
       "      <td>Ultrabook</td>\n",
       "      <td>8</td>\n",
       "      <td>128GB SSD</td>\n",
       "      <td>Intel Iris Plus Graphics 640</td>\n",
       "      <td>macOS</td>\n",
       "      <td>1.37</td>\n",
       "      <td>71378.6832</td>\n",
       "      <td>Intel Core i5</td>\n",
       "      <td>0</td>\n",
       "      <td>1</td>\n",
       "      <td>226.983005</td>\n",
       "      <td>0</td>\n",
       "      <td>128GB SSD</td>\n",
       "      <td>0</td>\n",
       "      <td>0</td>\n",
       "    </tr>\n",
       "    <tr>\n",
       "      <th>1</th>\n",
       "      <td>Apple</td>\n",
       "      <td>Ultrabook</td>\n",
       "      <td>8</td>\n",
       "      <td>128GB Flash Storage</td>\n",
       "      <td>Intel HD Graphics 6000</td>\n",
       "      <td>macOS</td>\n",
       "      <td>1.34</td>\n",
       "      <td>47895.5232</td>\n",
       "      <td>Intel Core i5</td>\n",
       "      <td>0</td>\n",
       "      <td>0</td>\n",
       "      <td>127.677940</td>\n",
       "      <td>0</td>\n",
       "      <td>0</td>\n",
       "      <td>0</td>\n",
       "      <td>128GB Flash Storage</td>\n",
       "    </tr>\n",
       "    <tr>\n",
       "      <th>2</th>\n",
       "      <td>HP</td>\n",
       "      <td>Notebook</td>\n",
       "      <td>8</td>\n",
       "      <td>256GB SSD</td>\n",
       "      <td>Intel HD Graphics 620</td>\n",
       "      <td>No OS</td>\n",
       "      <td>1.86</td>\n",
       "      <td>30636.0000</td>\n",
       "      <td>Intel Core i5</td>\n",
       "      <td>0</td>\n",
       "      <td>0</td>\n",
       "      <td>141.211998</td>\n",
       "      <td>0</td>\n",
       "      <td>256GB SSD</td>\n",
       "      <td>0</td>\n",
       "      <td>0</td>\n",
       "    </tr>\n",
       "  </tbody>\n",
       "</table>\n",
       "</div>"
      ],
      "text/plain": [
       "  Company   TypeName  Ram               Memory                           Gpu  \\\n",
       "0   Apple  Ultrabook    8            128GB SSD  Intel Iris Plus Graphics 640   \n",
       "1   Apple  Ultrabook    8  128GB Flash Storage        Intel HD Graphics 6000   \n",
       "2      HP   Notebook    8            256GB SSD         Intel HD Graphics 620   \n",
       "\n",
       "   OpSys  Weight       Price  cpu_processor  TouchScreen  IPS         ppi HDD  \\\n",
       "0  macOS    1.37  71378.6832  Intel Core i5            0    1  226.983005   0   \n",
       "1  macOS    1.34  47895.5232  Intel Core i5            0    0  127.677940   0   \n",
       "2  No OS    1.86  30636.0000  Intel Core i5            0    0  141.211998   0   \n",
       "\n",
       "         SSD Hybrid_Storage        Flash_Storage  \n",
       "0  128GB SSD              0                    0  \n",
       "1          0              0  128GB Flash Storage  \n",
       "2  256GB SSD              0                    0  "
      ]
     },
     "execution_count": 63,
     "metadata": {},
     "output_type": "execute_result"
    }
   ],
   "source": [
    "x.head(3)"
   ]
  },
  {
   "cell_type": "code",
   "execution_count": 64,
   "id": "931432f1",
   "metadata": {},
   "outputs": [],
   "source": [
    "## For HDD"
   ]
  },
  {
   "cell_type": "code",
   "execution_count": 65,
   "id": "2035d86f",
   "metadata": {},
   "outputs": [],
   "source": [
    "x['HDD']=x['HDD'].str.split(n=1,expand=True)[0]"
   ]
  },
  {
   "cell_type": "code",
   "execution_count": 66,
   "id": "9fa529fa",
   "metadata": {},
   "outputs": [],
   "source": [
    "x['HDD']=x['HDD'].str.replace('GB','')\n",
    "x['HDD']=x['HDD'].str.replace('TB','')\n",
    "x['HDD']=x['HDD'].fillna(0)"
   ]
  },
  {
   "cell_type": "code",
   "execution_count": 67,
   "id": "0db34d1f",
   "metadata": {},
   "outputs": [],
   "source": [
    "## For SSD"
   ]
  },
  {
   "cell_type": "code",
   "execution_count": 68,
   "id": "2cc55057",
   "metadata": {},
   "outputs": [],
   "source": [
    "x['SSD']=x['SSD'].str.split(n=1,expand=True)[0]"
   ]
  },
  {
   "cell_type": "code",
   "execution_count": 69,
   "id": "dee2d36a",
   "metadata": {},
   "outputs": [],
   "source": [
    "x['SSD']=x['SSD'].str.replace('GB','')\n",
    "x['SSD']=x['SSD'].str.replace('TB','')\n",
    "x['SSD']=x['SSD'].fillna(0)"
   ]
  },
  {
   "cell_type": "code",
   "execution_count": 70,
   "id": "bf9c1331",
   "metadata": {},
   "outputs": [],
   "source": [
    "## For Flash"
   ]
  },
  {
   "cell_type": "code",
   "execution_count": 71,
   "id": "4d2c5a93",
   "metadata": {},
   "outputs": [],
   "source": [
    "x['Flash_Storage']=x['Flash_Storage'].str.split(n=1,expand=True)[0]"
   ]
  },
  {
   "cell_type": "code",
   "execution_count": 72,
   "id": "06b3cdc4",
   "metadata": {},
   "outputs": [],
   "source": [
    "x['Flash_Storage']=x['Flash_Storage'].str.replace('GB','')\n",
    "x['Flash_Storage']=x['Flash_Storage'].str.replace('TB','')\n",
    "x['Flash_Storage']=x['Flash_Storage'].fillna(0)"
   ]
  },
  {
   "cell_type": "code",
   "execution_count": 73,
   "id": "a6123a3b",
   "metadata": {},
   "outputs": [],
   "source": [
    "## For Hybrid"
   ]
  },
  {
   "cell_type": "code",
   "execution_count": 74,
   "id": "609433ce",
   "metadata": {},
   "outputs": [],
   "source": [
    "x['Hybrid_Storage']=x['Hybrid_Storage'].str.split(n=1,expand=True)[0]"
   ]
  },
  {
   "cell_type": "code",
   "execution_count": 75,
   "id": "ec7d11c4",
   "metadata": {},
   "outputs": [],
   "source": [
    "x['Hybrid_Storage']=x['Hybrid_Storage'].str.replace('GB','')\n",
    "x['Hybrid_Storage']=x['Hybrid_Storage'].str.replace('TB','')\n",
    "x['Hybrid_Storage']=x['Hybrid_Storage'].fillna(0)"
   ]
  },
  {
   "cell_type": "code",
   "execution_count": 76,
   "id": "b3f7acaf",
   "metadata": {},
   "outputs": [],
   "source": [
    "x.drop('Memory',axis=1,inplace=True)"
   ]
  },
  {
   "cell_type": "code",
   "execution_count": 77,
   "id": "8367552e",
   "metadata": {},
   "outputs": [
    {
     "data": {
      "text/plain": [
       "(array([], dtype=int64),)"
      ]
     },
     "execution_count": 77,
     "metadata": {},
     "output_type": "execute_result"
    }
   ],
   "source": [
    "np.where(x['Hybrid_Storage'] == 1.0)"
   ]
  },
  {
   "cell_type": "code",
   "execution_count": 78,
   "id": "87d1ddd1",
   "metadata": {},
   "outputs": [],
   "source": [
    "x['Hybrid_Storage'] = x['Hybrid_Storage'].astype(float)\n",
    "x['Flash_Storage'] =  x['Flash_Storage'].astype(float)\n",
    "x['HDD'] = x['HDD'].astype(float)\n",
    "x['SSD'] = x['SSD'].astype(float)"
   ]
  },
  {
   "cell_type": "code",
   "execution_count": 79,
   "id": "c0876436",
   "metadata": {},
   "outputs": [
    {
     "data": {
      "text/plain": [
       "Company            object\n",
       "TypeName           object\n",
       "Ram                 int32\n",
       "Gpu                object\n",
       "OpSys              object\n",
       "Weight            float64\n",
       "Price             float64\n",
       "cpu_processor      object\n",
       "TouchScreen         int64\n",
       "IPS                 int64\n",
       "ppi               float64\n",
       "HDD               float64\n",
       "SSD               float64\n",
       "Hybrid_Storage    float64\n",
       "Flash_Storage     float64\n",
       "dtype: object"
      ]
     },
     "execution_count": 79,
     "metadata": {},
     "output_type": "execute_result"
    }
   ],
   "source": [
    "x.dtypes"
   ]
  },
  {
   "cell_type": "code",
   "execution_count": 80,
   "id": "15110557",
   "metadata": {},
   "outputs": [
    {
     "data": {
      "text/plain": [
       "Intel HD Graphics 620      279\n",
       "Intel HD Graphics 520      181\n",
       "Intel UHD Graphics 620      68\n",
       "Nvidia GeForce GTX 1050     66\n",
       "Nvidia GeForce GTX 1060     48\n",
       "                          ... \n",
       "Nvidia GTX 980 SLI           1\n",
       "Intel HD Graphics 540        1\n",
       "AMD Radeon Pro 455           1\n",
       "AMD Radeon R7 M360           1\n",
       "AMD Radeon R7                1\n",
       "Name: Gpu, Length: 110, dtype: int64"
      ]
     },
     "execution_count": 80,
     "metadata": {},
     "output_type": "execute_result"
    }
   ],
   "source": [
    "## Lets Analyze GPU\n",
    "x['Gpu'].value_counts()"
   ]
  },
  {
   "cell_type": "code",
   "execution_count": 81,
   "id": "df90abaa",
   "metadata": {},
   "outputs": [],
   "source": [
    "def gpu(text):\n",
    "    if 'Intel' in text:\n",
    "        return 'Intel'\n",
    "    elif 'Nvidia' in text:\n",
    "        return 'Nvidia'\n",
    "    else:\n",
    "        return 'AMD'"
   ]
  },
  {
   "cell_type": "code",
   "execution_count": 82,
   "id": "c59c507d",
   "metadata": {},
   "outputs": [],
   "source": [
    "x['gpu']=x['Gpu'].apply(gpu)"
   ]
  },
  {
   "cell_type": "code",
   "execution_count": 83,
   "id": "1cbc4dda",
   "metadata": {},
   "outputs": [
    {
     "data": {
      "text/plain": [
       "Intel     703\n",
       "Nvidia    396\n",
       "AMD       175\n",
       "Name: gpu, dtype: int64"
      ]
     },
     "execution_count": 83,
     "metadata": {},
     "output_type": "execute_result"
    }
   ],
   "source": [
    "x['gpu'].value_counts()"
   ]
  },
  {
   "cell_type": "code",
   "execution_count": 84,
   "id": "dca25267",
   "metadata": {},
   "outputs": [
    {
     "data": {
      "text/plain": [
       "Text(0.5, 1.0, 'Count Of GPU')"
      ]
     },
     "execution_count": 84,
     "metadata": {},
     "output_type": "execute_result"
    },
    {
     "data": {
      "image/png": "[encoded data removed]",
      "text/plain": [
       "<Figure size 720x360 with 1 Axes>"
      ]
     },
     "metadata": {
      "needs_background": "light"
     },
     "output_type": "display_data"
    }
   ],
   "source": [
    "x['gpu'].value_counts().plot(kind='bar',figsize=(10,5))\n",
    "plt.xlabel('GPU',fontsize=18,fontweight='bold')\n",
    "plt.ylabel('Number of Laptops',fontsize=18,fontweight='bold')\n",
    "plt.xticks(fontweight='bold',fontsize=14)\n",
    "plt.title('Count Of GPU',fontsize=20,fontweight='bold',color='red')"
   ]
  },
  {
   "cell_type": "code",
   "execution_count": 85,
   "id": "137a9a45",
   "metadata": {},
   "outputs": [
    {
     "data": {
      "text/plain": [
       "Text(0.5, 1.0, 'Price Vs GPU')"
      ]
     },
     "execution_count": 85,
     "metadata": {},
     "output_type": "execute_result"
    },
    {
     "data": {
      "image/png": "[encoded data removed]",
      "text/plain": [
       "<Figure size 720x360 with 1 Axes>"
      ]
     },
     "metadata": {
      "needs_background": "light"
     },
     "output_type": "display_data"
    }
   ],
   "source": [
    "## Gpu Vs Price\n",
    "fig,ax=plt.subplots(figsize=(10,5))\n",
    "ax=sns.barplot(data=x,\n",
    "           x='gpu',\n",
    "           y='Price')\n",
    "ax.set_xlabel('GPU',fontsize=18,fontweight='bold')\n",
    "ax.set_ylabel('Price',fontsize=18,fontweight='bold')\n",
    "plt.xticks(fontweight='bold',fontsize=14,rotation=90)\n",
    "ax.set_title('Price Vs GPU',fontsize=20,fontweight='bold',color='red')"
   ]
  },
  {
   "cell_type": "code",
   "execution_count": 86,
   "id": "6e3b7306",
   "metadata": {},
   "outputs": [],
   "source": [
    "x.drop('Gpu',axis=1,inplace=True)"
   ]
  },
  {
   "cell_type": "code",
   "execution_count": 87,
   "id": "d11fe01e",
   "metadata": {},
   "outputs": [
    {
     "data": {
      "text/html": [
       "<div>\n",
       "<style scoped>\n",
       "    .dataframe tbody tr th:only-of-type {\n",
       "        vertical-align: middle;\n",
       "    }\n",
       "\n",
       "    .dataframe tbody tr th {\n",
       "        vertical-align: top;\n",
       "    }\n",
       "\n",
       "    .dataframe thead th {\n",
       "        text-align: right;\n",
       "    }\n",
       "</style>\n",
       "<table border=\"1\" class=\"dataframe\">\n",
       "  <thead>\n",
       "    <tr style=\"text-align: right;\">\n",
       "      <th></th>\n",
       "      <th>Company</th>\n",
       "      <th>TypeName</th>\n",
       "      <th>Ram</th>\n",
       "      <th>OpSys</th>\n",
       "      <th>Weight</th>\n",
       "      <th>Price</th>\n",
       "      <th>cpu_processor</th>\n",
       "      <th>TouchScreen</th>\n",
       "      <th>IPS</th>\n",
       "      <th>ppi</th>\n",
       "      <th>HDD</th>\n",
       "      <th>SSD</th>\n",
       "      <th>Hybrid_Storage</th>\n",
       "      <th>Flash_Storage</th>\n",
       "      <th>gpu</th>\n",
       "    </tr>\n",
       "  </thead>\n",
       "  <tbody>\n",
       "    <tr>\n",
       "      <th>0</th>\n",
       "      <td>Apple</td>\n",
       "      <td>Ultrabook</td>\n",
       "      <td>8</td>\n",
       "      <td>macOS</td>\n",
       "      <td>1.37</td>\n",
       "      <td>71378.6832</td>\n",
       "      <td>Intel Core i5</td>\n",
       "      <td>0</td>\n",
       "      <td>1</td>\n",
       "      <td>226.983005</td>\n",
       "      <td>0.0</td>\n",
       "      <td>128.0</td>\n",
       "      <td>0.0</td>\n",
       "      <td>0.0</td>\n",
       "      <td>Intel</td>\n",
       "    </tr>\n",
       "    <tr>\n",
       "      <th>1</th>\n",
       "      <td>Apple</td>\n",
       "      <td>Ultrabook</td>\n",
       "      <td>8</td>\n",
       "      <td>macOS</td>\n",
       "      <td>1.34</td>\n",
       "      <td>47895.5232</td>\n",
       "      <td>Intel Core i5</td>\n",
       "      <td>0</td>\n",
       "      <td>0</td>\n",
       "      <td>127.677940</td>\n",
       "      <td>0.0</td>\n",
       "      <td>0.0</td>\n",
       "      <td>0.0</td>\n",
       "      <td>128.0</td>\n",
       "      <td>Intel</td>\n",
       "    </tr>\n",
       "    <tr>\n",
       "      <th>2</th>\n",
       "      <td>HP</td>\n",
       "      <td>Notebook</td>\n",
       "      <td>8</td>\n",
       "      <td>No OS</td>\n",
       "      <td>1.86</td>\n",
       "      <td>30636.0000</td>\n",
       "      <td>Intel Core i5</td>\n",
       "      <td>0</td>\n",
       "      <td>0</td>\n",
       "      <td>141.211998</td>\n",
       "      <td>0.0</td>\n",
       "      <td>256.0</td>\n",
       "      <td>0.0</td>\n",
       "      <td>0.0</td>\n",
       "      <td>Intel</td>\n",
       "    </tr>\n",
       "    <tr>\n",
       "      <th>3</th>\n",
       "      <td>Apple</td>\n",
       "      <td>Ultrabook</td>\n",
       "      <td>16</td>\n",
       "      <td>macOS</td>\n",
       "      <td>1.83</td>\n",
       "      <td>135195.3360</td>\n",
       "      <td>Intel Core i7</td>\n",
       "      <td>0</td>\n",
       "      <td>1</td>\n",
       "      <td>220.534624</td>\n",
       "      <td>0.0</td>\n",
       "      <td>512.0</td>\n",
       "      <td>0.0</td>\n",
       "      <td>0.0</td>\n",
       "      <td>AMD</td>\n",
       "    </tr>\n",
       "    <tr>\n",
       "      <th>4</th>\n",
       "      <td>Apple</td>\n",
       "      <td>Ultrabook</td>\n",
       "      <td>8</td>\n",
       "      <td>macOS</td>\n",
       "      <td>1.37</td>\n",
       "      <td>96095.8080</td>\n",
       "      <td>Intel Core i5</td>\n",
       "      <td>0</td>\n",
       "      <td>1</td>\n",
       "      <td>226.983005</td>\n",
       "      <td>0.0</td>\n",
       "      <td>256.0</td>\n",
       "      <td>0.0</td>\n",
       "      <td>0.0</td>\n",
       "      <td>Intel</td>\n",
       "    </tr>\n",
       "  </tbody>\n",
       "</table>\n",
       "</div>"
      ],
      "text/plain": [
       "  Company   TypeName  Ram  OpSys  Weight        Price  cpu_processor  \\\n",
       "0   Apple  Ultrabook    8  macOS    1.37   71378.6832  Intel Core i5   \n",
       "1   Apple  Ultrabook    8  macOS    1.34   47895.5232  Intel Core i5   \n",
       "2      HP   Notebook    8  No OS    1.86   30636.0000  Intel Core i5   \n",
       "3   Apple  Ultrabook   16  macOS    1.83  135195.3360  Intel Core i7   \n",
       "4   Apple  Ultrabook    8  macOS    1.37   96095.8080  Intel Core i5   \n",
       "\n",
       "   TouchScreen  IPS         ppi  HDD    SSD  Hybrid_Storage  Flash_Storage  \\\n",
       "0            0    1  226.983005  0.0  128.0             0.0            0.0   \n",
       "1            0    0  127.677940  0.0    0.0             0.0          128.0   \n",
       "2            0    0  141.211998  0.0  256.0             0.0            0.0   \n",
       "3            0    1  220.534624  0.0  512.0             0.0            0.0   \n",
       "4            0    1  226.983005  0.0  256.0             0.0            0.0   \n",
       "\n",
       "     gpu  \n",
       "0  Intel  \n",
       "1  Intel  \n",
       "2  Intel  \n",
       "3    AMD  \n",
       "4  Intel  "
      ]
     },
     "execution_count": 87,
     "metadata": {},
     "output_type": "execute_result"
    }
   ],
   "source": [
    "x.head()"
   ]
  },
  {
   "cell_type": "markdown",
   "id": "5d9c9bac",
   "metadata": {},
   "source": [
    "## Correlation"
   ]
  },
  {
   "cell_type": "code",
   "execution_count": 88,
   "id": "c2c88c84",
   "metadata": {},
   "outputs": [],
   "source": [
    "corr=x.corr()"
   ]
  },
  {
   "cell_type": "code",
   "execution_count": 89,
   "id": "b126d9d1",
   "metadata": {},
   "outputs": [
    {
     "data": {
      "text/html": [
       "<div>\n",
       "<style scoped>\n",
       "    .dataframe tbody tr th:only-of-type {\n",
       "        vertical-align: middle;\n",
       "    }\n",
       "\n",
       "    .dataframe tbody tr th {\n",
       "        vertical-align: top;\n",
       "    }\n",
       "\n",
       "    .dataframe thead th {\n",
       "        text-align: right;\n",
       "    }\n",
       "</style>\n",
       "<table border=\"1\" class=\"dataframe\">\n",
       "  <thead>\n",
       "    <tr style=\"text-align: right;\">\n",
       "      <th></th>\n",
       "      <th>Ram</th>\n",
       "      <th>Weight</th>\n",
       "      <th>Price</th>\n",
       "      <th>TouchScreen</th>\n",
       "      <th>IPS</th>\n",
       "      <th>ppi</th>\n",
       "      <th>HDD</th>\n",
       "      <th>SSD</th>\n",
       "      <th>Hybrid_Storage</th>\n",
       "      <th>Flash_Storage</th>\n",
       "    </tr>\n",
       "  </thead>\n",
       "  <tbody>\n",
       "    <tr>\n",
       "      <th>Ram</th>\n",
       "      <td>1.000000</td>\n",
       "      <td>0.389658</td>\n",
       "      <td>0.740106</td>\n",
       "      <td>0.111378</td>\n",
       "      <td>0.201446</td>\n",
       "      <td>0.292964</td>\n",
       "      <td>0.002389</td>\n",
       "      <td>0.457478</td>\n",
       "      <td>0.084393</td>\n",
       "      <td>-0.056539</td>\n",
       "    </tr>\n",
       "    <tr>\n",
       "      <th>Weight</th>\n",
       "      <td>0.389658</td>\n",
       "      <td>1.000000</td>\n",
       "      <td>0.212192</td>\n",
       "      <td>-0.293933</td>\n",
       "      <td>0.022250</td>\n",
       "      <td>-0.320885</td>\n",
       "      <td>0.287708</td>\n",
       "      <td>-0.087586</td>\n",
       "      <td>0.098330</td>\n",
       "      <td>-0.177144</td>\n",
       "    </tr>\n",
       "    <tr>\n",
       "      <th>Price</th>\n",
       "      <td>0.740106</td>\n",
       "      <td>0.212192</td>\n",
       "      <td>1.000000</td>\n",
       "      <td>0.188631</td>\n",
       "      <td>0.250358</td>\n",
       "      <td>0.469539</td>\n",
       "      <td>-0.023379</td>\n",
       "      <td>0.550475</td>\n",
       "      <td>0.074346</td>\n",
       "      <td>-0.037176</td>\n",
       "    </tr>\n",
       "    <tr>\n",
       "      <th>TouchScreen</th>\n",
       "      <td>0.111378</td>\n",
       "      <td>-0.293933</td>\n",
       "      <td>0.188631</td>\n",
       "      <td>1.000000</td>\n",
       "      <td>0.139550</td>\n",
       "      <td>0.454189</td>\n",
       "      <td>-0.168537</td>\n",
       "      <td>0.207320</td>\n",
       "      <td>-0.019563</td>\n",
       "      <td>-0.017394</td>\n",
       "    </tr>\n",
       "    <tr>\n",
       "      <th>IPS</th>\n",
       "      <td>0.201446</td>\n",
       "      <td>0.022250</td>\n",
       "      <td>0.250358</td>\n",
       "      <td>0.139550</td>\n",
       "      <td>1.000000</td>\n",
       "      <td>0.290634</td>\n",
       "      <td>-0.095343</td>\n",
       "      <td>0.210547</td>\n",
       "      <td>0.033332</td>\n",
       "      <td>0.073745</td>\n",
       "    </tr>\n",
       "    <tr>\n",
       "      <th>ppi</th>\n",
       "      <td>0.292964</td>\n",
       "      <td>-0.320885</td>\n",
       "      <td>0.469539</td>\n",
       "      <td>0.454189</td>\n",
       "      <td>0.290634</td>\n",
       "      <td>1.000000</td>\n",
       "      <td>-0.221426</td>\n",
       "      <td>0.407088</td>\n",
       "      <td>-0.028132</td>\n",
       "      <td>0.080978</td>\n",
       "    </tr>\n",
       "    <tr>\n",
       "      <th>HDD</th>\n",
       "      <td>0.002389</td>\n",
       "      <td>0.287708</td>\n",
       "      <td>-0.023379</td>\n",
       "      <td>-0.168537</td>\n",
       "      <td>-0.095343</td>\n",
       "      <td>-0.221426</td>\n",
       "      <td>1.000000</td>\n",
       "      <td>-0.193941</td>\n",
       "      <td>-0.023742</td>\n",
       "      <td>-0.074026</td>\n",
       "    </tr>\n",
       "    <tr>\n",
       "      <th>SSD</th>\n",
       "      <td>0.457478</td>\n",
       "      <td>-0.087586</td>\n",
       "      <td>0.550475</td>\n",
       "      <td>0.207320</td>\n",
       "      <td>0.210547</td>\n",
       "      <td>0.407088</td>\n",
       "      <td>-0.193941</td>\n",
       "      <td>1.000000</td>\n",
       "      <td>0.024211</td>\n",
       "      <td>-0.158607</td>\n",
       "    </tr>\n",
       "    <tr>\n",
       "      <th>Hybrid_Storage</th>\n",
       "      <td>0.084393</td>\n",
       "      <td>0.098330</td>\n",
       "      <td>0.074346</td>\n",
       "      <td>-0.019563</td>\n",
       "      <td>0.033332</td>\n",
       "      <td>-0.028132</td>\n",
       "      <td>-0.023742</td>\n",
       "      <td>0.024211</td>\n",
       "      <td>1.000000</td>\n",
       "      <td>-0.006953</td>\n",
       "    </tr>\n",
       "    <tr>\n",
       "      <th>Flash_Storage</th>\n",
       "      <td>-0.056539</td>\n",
       "      <td>-0.177144</td>\n",
       "      <td>-0.037176</td>\n",
       "      <td>-0.017394</td>\n",
       "      <td>0.073745</td>\n",
       "      <td>0.080978</td>\n",
       "      <td>-0.074026</td>\n",
       "      <td>-0.158607</td>\n",
       "      <td>-0.006953</td>\n",
       "      <td>1.000000</td>\n",
       "    </tr>\n",
       "  </tbody>\n",
       "</table>\n",
       "</div>"
      ],
      "text/plain": [
       "                     Ram    Weight     Price  TouchScreen       IPS       ppi  \\\n",
       "Ram             1.000000  0.389658  0.740106     0.111378  0.201446  0.292964   \n",
       "Weight          0.389658  1.000000  0.212192    -0.293933  0.022250 -0.320885   \n",
       "Price           0.740106  0.212192  1.000000     0.188631  0.250358  0.469539   \n",
       "TouchScreen     0.111378 -0.293933  0.188631     1.000000  0.139550  0.454189   \n",
       "IPS             0.201446  0.022250  0.250358     0.139550  1.000000  0.290634   \n",
       "ppi             0.292964 -0.320885  0.469539     0.454189  0.290634  1.000000   \n",
       "HDD             0.002389  0.287708 -0.023379    -0.168537 -0.095343 -0.221426   \n",
       "SSD             0.457478 -0.087586  0.550475     0.207320  0.210547  0.407088   \n",
       "Hybrid_Storage  0.084393  0.098330  0.074346    -0.019563  0.033332 -0.028132   \n",
       "Flash_Storage  -0.056539 -0.177144 -0.037176    -0.017394  0.073745  0.080978   \n",
       "\n",
       "                     HDD       SSD  Hybrid_Storage  Flash_Storage  \n",
       "Ram             0.002389  0.457478        0.084393      -0.056539  \n",
       "Weight          0.287708 -0.087586        0.098330      -0.177144  \n",
       "Price          -0.023379  0.550475        0.074346      -0.037176  \n",
       "TouchScreen    -0.168537  0.207320       -0.019563      -0.017394  \n",
       "IPS            -0.095343  0.210547        0.033332       0.073745  \n",
       "ppi            -0.221426  0.407088       -0.028132       0.080978  \n",
       "HDD             1.000000 -0.193941       -0.023742      -0.074026  \n",
       "SSD            -0.193941  1.000000        0.024211      -0.158607  \n",
       "Hybrid_Storage -0.023742  0.024211        1.000000      -0.006953  \n",
       "Flash_Storage  -0.074026 -0.158607       -0.006953       1.000000  "
      ]
     },
     "execution_count": 89,
     "metadata": {},
     "output_type": "execute_result"
    }
   ],
   "source": [
    "corr"
   ]
  },
  {
   "cell_type": "code",
   "execution_count": 90,
   "id": "4eaf9d5e",
   "metadata": {},
   "outputs": [
    {
     "data": {
      "text/plain": [
       "Ram               0.740106\n",
       "Weight            0.212192\n",
       "Price             1.000000\n",
       "TouchScreen       0.188631\n",
       "IPS               0.250358\n",
       "ppi               0.469539\n",
       "HDD              -0.023379\n",
       "SSD               0.550475\n",
       "Hybrid_Storage    0.074346\n",
       "Flash_Storage    -0.037176\n",
       "Name: Price, dtype: float64"
      ]
     },
     "execution_count": 90,
     "metadata": {},
     "output_type": "execute_result"
    }
   ],
   "source": [
    "corr['Price']"
   ]
  },
  {
   "cell_type": "code",
   "execution_count": 91,
   "id": "37e96dd6",
   "metadata": {},
   "outputs": [],
   "source": [
    "## we can drop Hybrid and Flash_Stroage column\n",
    "x.drop(['Hybrid_Storage','Flash_Storage'],axis=1,inplace = True)"
   ]
  },
  {
   "cell_type": "code",
   "execution_count": 92,
   "id": "8aea6979",
   "metadata": {},
   "outputs": [
    {
     "data": {
      "text/plain": [
       "Text(0.5, 1.0, 'Correlation Heatmap')"
      ]
     },
     "execution_count": 92,
     "metadata": {},
     "output_type": "execute_result"
    },
    {
     "data": {
      "image/png": "[encoded data removed]",
      "text/plain": [
       "<Figure size 1152x576 with 2 Axes>"
      ]
     },
     "metadata": {
      "needs_background": "light"
     },
     "output_type": "display_data"
    }
   ],
   "source": [
    "fig,ax=plt.subplots(figsize=(16,8))\n",
    "ax=sns.heatmap(data=corr,annot=True)\n",
    "plt.xticks(fontweight='bold',fontsize=14,rotation=90)\n",
    "plt.yticks(fontweight='bold',fontsize=14)\n",
    "ax.set_title('Correlation Heatmap',fontsize=20,fontweight='bold',color='red')"
   ]
  },
  {
   "cell_type": "code",
   "execution_count": 93,
   "id": "eb525a7d",
   "metadata": {},
   "outputs": [
    {
     "data": {
      "text/plain": [
       "<AxesSubplot:xlabel='Price', ylabel='Density'>"
      ]
     },
     "execution_count": 93,
     "metadata": {},
     "output_type": "execute_result"
    },
    {
     "data": {
      "image/png": "[encoded data removed]",
      "text/plain": [
       "<Figure size 432x288 with 1 Axes>"
      ]
     },
     "metadata": {
      "needs_background": "light"
     },
     "output_type": "display_data"
    }
   ],
   "source": [
    "sns.distplot(np.log(x['Price']))"
   ]
  },
  {
   "cell_type": "markdown",
   "id": "1c1e1b15",
   "metadata": {},
   "source": [
    "## Model Building"
   ]
  },
  {
   "cell_type": "code",
   "execution_count": 94,
   "id": "ee299a45",
   "metadata": {},
   "outputs": [],
   "source": [
    "## Separating Dependent and Independent feature\n",
    "X = x.drop('Price',axis=1)\n",
    "Y = np.log(x['Price'])"
   ]
  },
  {
   "cell_type": "code",
   "execution_count": 95,
   "id": "7df58e35",
   "metadata": {},
   "outputs": [],
   "source": [
    "from sklearn.linear_model import  Ridge, Lasso, LinearRegression, SGDRegressor\n",
    "from sklearn.neighbors import KNeighborsRegressor\n",
    "from sklearn.tree import DecisionTreeRegressor\n",
    "from sklearn.ensemble import GradientBoostingRegressor,RandomForestRegressor,  AdaBoostRegressor, BaggingRegressor\n",
    "from xgboost import XGBRegressor, XGBRFRegressor\n",
    "from catboost import CatBoostRegressor\n",
    "from sklearn.naive_bayes import GaussianNB\n",
    "from sklearn.svm import SVR\n",
    "from lightgbm import LGBMRegressor\n",
    "from sklearn.compose import ColumnTransformer\n",
    "from sklearn.pipeline import Pipeline\n",
    "from sklearn.preprocessing import OneHotEncoder\n",
    "from sklearn.metrics import r2_score,mean_absolute_error,mean_squared_error"
   ]
  },
  {
   "cell_type": "code",
   "execution_count": 96,
   "id": "270da5de",
   "metadata": {},
   "outputs": [
    {
     "data": {
      "text/html": [
       "<div>\n",
       "<style scoped>\n",
       "    .dataframe tbody tr th:only-of-type {\n",
       "        vertical-align: middle;\n",
       "    }\n",
       "\n",
       "    .dataframe tbody tr th {\n",
       "        vertical-align: top;\n",
       "    }\n",
       "\n",
       "    .dataframe thead th {\n",
       "        text-align: right;\n",
       "    }\n",
       "</style>\n",
       "<table border=\"1\" class=\"dataframe\">\n",
       "  <thead>\n",
       "    <tr style=\"text-align: right;\">\n",
       "      <th></th>\n",
       "      <th>Company</th>\n",
       "      <th>TypeName</th>\n",
       "      <th>Ram</th>\n",
       "      <th>OpSys</th>\n",
       "      <th>Weight</th>\n",
       "      <th>Price</th>\n",
       "      <th>cpu_processor</th>\n",
       "      <th>TouchScreen</th>\n",
       "      <th>IPS</th>\n",
       "      <th>ppi</th>\n",
       "      <th>HDD</th>\n",
       "      <th>SSD</th>\n",
       "      <th>gpu</th>\n",
       "    </tr>\n",
       "  </thead>\n",
       "  <tbody>\n",
       "    <tr>\n",
       "      <th>0</th>\n",
       "      <td>Apple</td>\n",
       "      <td>Ultrabook</td>\n",
       "      <td>8</td>\n",
       "      <td>macOS</td>\n",
       "      <td>1.37</td>\n",
       "      <td>71378.6832</td>\n",
       "      <td>Intel Core i5</td>\n",
       "      <td>0</td>\n",
       "      <td>1</td>\n",
       "      <td>226.983005</td>\n",
       "      <td>0.0</td>\n",
       "      <td>128.0</td>\n",
       "      <td>Intel</td>\n",
       "    </tr>\n",
       "    <tr>\n",
       "      <th>1</th>\n",
       "      <td>Apple</td>\n",
       "      <td>Ultrabook</td>\n",
       "      <td>8</td>\n",
       "      <td>macOS</td>\n",
       "      <td>1.34</td>\n",
       "      <td>47895.5232</td>\n",
       "      <td>Intel Core i5</td>\n",
       "      <td>0</td>\n",
       "      <td>0</td>\n",
       "      <td>127.677940</td>\n",
       "      <td>0.0</td>\n",
       "      <td>0.0</td>\n",
       "      <td>Intel</td>\n",
       "    </tr>\n",
       "    <tr>\n",
       "      <th>2</th>\n",
       "      <td>HP</td>\n",
       "      <td>Notebook</td>\n",
       "      <td>8</td>\n",
       "      <td>No OS</td>\n",
       "      <td>1.86</td>\n",
       "      <td>30636.0000</td>\n",
       "      <td>Intel Core i5</td>\n",
       "      <td>0</td>\n",
       "      <td>0</td>\n",
       "      <td>141.211998</td>\n",
       "      <td>0.0</td>\n",
       "      <td>256.0</td>\n",
       "      <td>Intel</td>\n",
       "    </tr>\n",
       "  </tbody>\n",
       "</table>\n",
       "</div>"
      ],
      "text/plain": [
       "  Company   TypeName  Ram  OpSys  Weight       Price  cpu_processor  \\\n",
       "0   Apple  Ultrabook    8  macOS    1.37  71378.6832  Intel Core i5   \n",
       "1   Apple  Ultrabook    8  macOS    1.34  47895.5232  Intel Core i5   \n",
       "2      HP   Notebook    8  No OS    1.86  30636.0000  Intel Core i5   \n",
       "\n",
       "   TouchScreen  IPS         ppi  HDD    SSD    gpu  \n",
       "0            0    1  226.983005  0.0  128.0  Intel  \n",
       "1            0    0  127.677940  0.0    0.0  Intel  \n",
       "2            0    0  141.211998  0.0  256.0  Intel  "
      ]
     },
     "execution_count": 96,
     "metadata": {},
     "output_type": "execute_result"
    }
   ],
   "source": [
    "x.head(3)"
   ]
  },
  {
   "cell_type": "code",
   "execution_count": 97,
   "id": "1ee9d86c",
   "metadata": {},
   "outputs": [
    {
     "data": {
      "text/html": [
       "<div>\n",
       "<style scoped>\n",
       "    .dataframe tbody tr th:only-of-type {\n",
       "        vertical-align: middle;\n",
       "    }\n",
       "\n",
       "    .dataframe tbody tr th {\n",
       "        vertical-align: top;\n",
       "    }\n",
       "\n",
       "    .dataframe thead th {\n",
       "        text-align: right;\n",
       "    }\n",
       "</style>\n",
       "<table border=\"1\" class=\"dataframe\">\n",
       "  <thead>\n",
       "    <tr style=\"text-align: right;\">\n",
       "      <th></th>\n",
       "      <th>Company</th>\n",
       "      <th>TypeName</th>\n",
       "      <th>Ram</th>\n",
       "      <th>OpSys</th>\n",
       "      <th>Weight</th>\n",
       "      <th>cpu_processor</th>\n",
       "      <th>TouchScreen</th>\n",
       "      <th>IPS</th>\n",
       "      <th>ppi</th>\n",
       "      <th>HDD</th>\n",
       "      <th>SSD</th>\n",
       "      <th>gpu</th>\n",
       "    </tr>\n",
       "  </thead>\n",
       "  <tbody>\n",
       "    <tr>\n",
       "      <th>0</th>\n",
       "      <td>Apple</td>\n",
       "      <td>Ultrabook</td>\n",
       "      <td>8</td>\n",
       "      <td>macOS</td>\n",
       "      <td>1.37</td>\n",
       "      <td>Intel Core i5</td>\n",
       "      <td>0</td>\n",
       "      <td>1</td>\n",
       "      <td>226.983005</td>\n",
       "      <td>0.0</td>\n",
       "      <td>128.0</td>\n",
       "      <td>Intel</td>\n",
       "    </tr>\n",
       "    <tr>\n",
       "      <th>1</th>\n",
       "      <td>Apple</td>\n",
       "      <td>Ultrabook</td>\n",
       "      <td>8</td>\n",
       "      <td>macOS</td>\n",
       "      <td>1.34</td>\n",
       "      <td>Intel Core i5</td>\n",
       "      <td>0</td>\n",
       "      <td>0</td>\n",
       "      <td>127.677940</td>\n",
       "      <td>0.0</td>\n",
       "      <td>0.0</td>\n",
       "      <td>Intel</td>\n",
       "    </tr>\n",
       "    <tr>\n",
       "      <th>2</th>\n",
       "      <td>HP</td>\n",
       "      <td>Notebook</td>\n",
       "      <td>8</td>\n",
       "      <td>No OS</td>\n",
       "      <td>1.86</td>\n",
       "      <td>Intel Core i5</td>\n",
       "      <td>0</td>\n",
       "      <td>0</td>\n",
       "      <td>141.211998</td>\n",
       "      <td>0.0</td>\n",
       "      <td>256.0</td>\n",
       "      <td>Intel</td>\n",
       "    </tr>\n",
       "    <tr>\n",
       "      <th>3</th>\n",
       "      <td>Apple</td>\n",
       "      <td>Ultrabook</td>\n",
       "      <td>16</td>\n",
       "      <td>macOS</td>\n",
       "      <td>1.83</td>\n",
       "      <td>Intel Core i7</td>\n",
       "      <td>0</td>\n",
       "      <td>1</td>\n",
       "      <td>220.534624</td>\n",
       "      <td>0.0</td>\n",
       "      <td>512.0</td>\n",
       "      <td>AMD</td>\n",
       "    </tr>\n",
       "    <tr>\n",
       "      <th>4</th>\n",
       "      <td>Apple</td>\n",
       "      <td>Ultrabook</td>\n",
       "      <td>8</td>\n",
       "      <td>macOS</td>\n",
       "      <td>1.37</td>\n",
       "      <td>Intel Core i5</td>\n",
       "      <td>0</td>\n",
       "      <td>1</td>\n",
       "      <td>226.983005</td>\n",
       "      <td>0.0</td>\n",
       "      <td>256.0</td>\n",
       "      <td>Intel</td>\n",
       "    </tr>\n",
       "  </tbody>\n",
       "</table>\n",
       "</div>"
      ],
      "text/plain": [
       "  Company   TypeName  Ram  OpSys  Weight  cpu_processor  TouchScreen  IPS  \\\n",
       "0   Apple  Ultrabook    8  macOS    1.37  Intel Core i5            0    1   \n",
       "1   Apple  Ultrabook    8  macOS    1.34  Intel Core i5            0    0   \n",
       "2      HP   Notebook    8  No OS    1.86  Intel Core i5            0    0   \n",
       "3   Apple  Ultrabook   16  macOS    1.83  Intel Core i7            0    1   \n",
       "4   Apple  Ultrabook    8  macOS    1.37  Intel Core i5            0    1   \n",
       "\n",
       "          ppi  HDD    SSD    gpu  \n",
       "0  226.983005  0.0  128.0  Intel  \n",
       "1  127.677940  0.0    0.0  Intel  \n",
       "2  141.211998  0.0  256.0  Intel  \n",
       "3  220.534624  0.0  512.0    AMD  \n",
       "4  226.983005  0.0  256.0  Intel  "
      ]
     },
     "execution_count": 97,
     "metadata": {},
     "output_type": "execute_result"
    }
   ],
   "source": [
    "X.head()"
   ]
  },
  {
   "cell_type": "code",
   "execution_count": 98,
   "id": "d17dfbe2",
   "metadata": {},
   "outputs": [],
   "source": [
    "## Train-Test Splitting\n",
    "from sklearn.model_selection import train_test_split\n",
    "x_train,x_test,y_train,y_test=train_test_split(X,Y,test_size=0.2,random_state=2)"
   ]
  },
  {
   "cell_type": "code",
   "execution_count": 99,
   "id": "9dc2afb2",
   "metadata": {},
   "outputs": [],
   "source": [
    "def predict(model):\n",
    "    # Define Models Name\n",
    "    print('Model: {}'.format(model))\n",
    "    step1 = ColumnTransformer(transformers=[\n",
    "        ('col_tnf',OneHotEncoder(sparse=False,drop='first'),[0,1,3,5,11])\n",
    "                                            ],remainder='passthrough')\n",
    "\n",
    "    step2 = model\n",
    "\n",
    "    pipe = Pipeline([\n",
    "    ('step1',step1),\n",
    "    ('step2',step2)\n",
    "    ])\n",
    "\n",
    "    pipe.fit(x_train,y_train)\n",
    "\n",
    "    y_pred = pipe.predict(x_test)\n",
    "    print('R2 score',r2_score(y_test,y_pred))\n",
    "    print('MAE',mean_absolute_error(y_test,y_pred))\n",
    "    print('RMSE:{}'.format(np.sqrt(mean_squared_error(y_test,y_pred))))\n",
    "    \n",
    "    sns.distplot(y_test-y_pred)"
   ]
  },
  {
   "cell_type": "code",
   "execution_count": 100,
   "id": "8b25aaa3",
   "metadata": {},
   "outputs": [
    {
     "name": "stdout",
     "output_type": "stream",
     "text": [
      "Model: LinearRegression()\n",
      "R2 score 0.8212935594821207\n",
      "MAE 0.20298263418964593\n",
      "RMSE:0.2598841871237953\n"
     ]
    },
    {
     "data": {
      "image/png": "[encoded data removed]",
      "text/plain": [
       "<Figure size 432x288 with 1 Axes>"
      ]
     },
     "metadata": {
      "needs_background": "light"
     },
     "output_type": "display_data"
    }
   ],
   "source": [
    "predict(LinearRegression())"
   ]
  },
  {
   "cell_type": "code",
   "execution_count": 101,
   "id": "8ca7a22b",
   "metadata": {},
   "outputs": [
    {
     "name": "stdout",
     "output_type": "stream",
     "text": [
      "Model: Ridge()\n",
      "R2 score 0.823722302057167\n",
      "MAE 0.20186715637256047\n",
      "RMSE:0.2581121439113869\n"
     ]
    },
    {
     "data": {
      "image/png": "[encoded data removed]",
      "text/plain": [
       "<Figure size 432x288 with 1 Axes>"
      ]
     },
     "metadata": {
      "needs_background": "light"
     },
     "output_type": "display_data"
    }
   ],
   "source": [
    "predict(Ridge())"
   ]
  },
  {
   "cell_type": "code",
   "execution_count": 102,
   "id": "4b718cdf",
   "metadata": {},
   "outputs": [
    {
     "name": "stdout",
     "output_type": "stream",
     "text": [
      "Model: Lasso()\n",
      "R2 score 0.44587076033244777\n",
      "MAE 0.3515241110261957\n",
      "RMSE:0.45763084255256087\n"
     ]
    },
    {
     "data": {
      "image/png": "[encoded data removed]",
      "text/plain": [
       "<Figure size 432x288 with 1 Axes>"
      ]
     },
     "metadata": {
      "needs_background": "light"
     },
     "output_type": "display_data"
    }
   ],
   "source": [
    "predict(Lasso())"
   ]
  },
  {
   "cell_type": "code",
   "execution_count": 103,
   "id": "0fd58fa3",
   "metadata": {},
   "outputs": [
    {
     "name": "stdout",
     "output_type": "stream",
     "text": [
      "Model: SGDRegressor()\n",
      "R2 score -2.0113621515890736e+27\n",
      "MAE 22104779044240.0\n",
      "RMSE:27571150556587.855\n"
     ]
    },
    {
     "data": {
      "image/png": "[encoded data removed]",
      "text/plain": [
       "<Figure size 432x288 with 1 Axes>"
      ]
     },
     "metadata": {
      "needs_background": "light"
     },
     "output_type": "display_data"
    }
   ],
   "source": [
    "predict(SGDRegressor())"
   ]
  },
  {
   "cell_type": "code",
   "execution_count": 104,
   "id": "7406db2b",
   "metadata": {},
   "outputs": [
    {
     "name": "stdout",
     "output_type": "stream",
     "text": [
      "Model: KNeighborsRegressor()\n",
      "R2 score 0.8089584194187378\n",
      "MAE 0.20729911242188656\n",
      "RMSE:0.26870373566862565\n"
     ]
    },
    {
     "data": {
      "image/png": "[encoded data removed]",
      "text/plain": [
       "<Figure size 432x288 with 1 Axes>"
      ]
     },
     "metadata": {
      "needs_background": "light"
     },
     "output_type": "display_data"
    }
   ],
   "source": [
    "predict(KNeighborsRegressor())"
   ]
  },
  {
   "cell_type": "code",
   "execution_count": 105,
   "id": "0b3ec1f5",
   "metadata": {},
   "outputs": [
    {
     "name": "stdout",
     "output_type": "stream",
     "text": [
      "Model: DecisionTreeRegressor()\n",
      "R2 score 0.7866418972119513\n",
      "MAE 0.20183911543474567\n",
      "RMSE:0.28396467888123345\n"
     ]
    },
    {
     "data": {
      "image/png": "[encoded data removed]",
      "text/plain": [
       "<Figure size 432x288 with 1 Axes>"
      ]
     },
     "metadata": {
      "needs_background": "light"
     },
     "output_type": "display_data"
    }
   ],
   "source": [
    "predict(DecisionTreeRegressor())"
   ]
  },
  {
   "cell_type": "code",
   "execution_count": 106,
   "id": "508b8257",
   "metadata": {},
   "outputs": [
    {
     "name": "stdout",
     "output_type": "stream",
     "text": [
      "Model: GradientBoostingRegressor()\n",
      "R2 score 0.859502276321531\n",
      "MAE 0.18449063134208576\n",
      "RMSE:0.2304328530318536\n"
     ]
    },
    {
     "data": {
      "image/png": "[encoded data removed]",
      "text/plain": [
       "<Figure size 432x288 with 1 Axes>"
      ]
     },
     "metadata": {
      "needs_background": "light"
     },
     "output_type": "display_data"
    }
   ],
   "source": [
    "predict(GradientBoostingRegressor())"
   ]
  },
  {
   "cell_type": "code",
   "execution_count": 107,
   "id": "f231659e",
   "metadata": {},
   "outputs": [
    {
     "name": "stdout",
     "output_type": "stream",
     "text": [
      "Model: RandomForestRegressor()\n",
      "R2 score 0.882785625918184\n",
      "MAE 0.15933688777420693\n",
      "RMSE:0.21047484064310765\n"
     ]
    },
    {
     "data": {
      "image/png": "[encoded data removed]",
      "text/plain": [
       "<Figure size 432x288 with 1 Axes>"
      ]
     },
     "metadata": {
      "needs_background": "light"
     },
     "output_type": "display_data"
    }
   ],
   "source": [
    "predict(RandomForestRegressor())"
   ]
  },
  {
   "cell_type": "code",
   "execution_count": 108,
   "id": "64cbadce",
   "metadata": {},
   "outputs": [
    {
     "name": "stdout",
     "output_type": "stream",
     "text": [
      "Model: AdaBoostRegressor()\n",
      "R2 score 0.8072018943362267\n",
      "MAE 0.2213523708708452\n",
      "RMSE:0.2699362026978602\n"
     ]
    },
    {
     "data": {
      "image/png": "[encoded data removed]",
      "text/plain": [
       "<Figure size 432x288 with 1 Axes>"
      ]
     },
     "metadata": {
      "needs_background": "light"
     },
     "output_type": "display_data"
    }
   ],
   "source": [
    "predict(AdaBoostRegressor())"
   ]
  },
  {
   "cell_type": "code",
   "execution_count": 109,
   "id": "3258f72d",
   "metadata": {},
   "outputs": [
    {
     "name": "stdout",
     "output_type": "stream",
     "text": [
      "Model: XGBRegressor(base_score=None, booster=None, colsample_bylevel=None,\n",
      "             colsample_bynode=None, colsample_bytree=None, gamma=None,\n",
      "             gpu_id=None, importance_type='gain', interaction_constraints=None,\n",
      "             learning_rate=None, max_delta_step=None, max_depth=None,\n",
      "             min_child_weight=None, missing=nan, monotone_constraints=None,\n",
      "             n_estimators=100, n_jobs=None, num_parallel_tree=None,\n",
      "             random_state=None, reg_alpha=None, reg_lambda=None,\n",
      "             scale_pos_weight=None, subsample=None, tree_method=None,\n",
      "             validate_parameters=None, verbosity=None)\n",
      "R2 score 0.8619670963996867\n",
      "MAE 0.1721272162031587\n",
      "RMSE:0.22840261129784567\n"
     ]
    },
    {
     "data": {
      "image/png": "[encoded data removed]",
      "text/plain": [
       "<Figure size 432x288 with 1 Axes>"
      ]
     },
     "metadata": {
      "needs_background": "light"
     },
     "output_type": "display_data"
    }
   ],
   "source": [
    "predict(XGBRegressor())"
   ]
  },
  {
   "cell_type": "code",
   "execution_count": 110,
   "id": "e9fb6993",
   "metadata": {},
   "outputs": [
    {
     "name": "stdout",
     "output_type": "stream",
     "text": [
      "Model: XGBRFRegressor(base_score=None, booster=None, colsample_bylevel=None,\n",
      "               colsample_bytree=None, gamma=None, gpu_id=None,\n",
      "               importance_type='gain', interaction_constraints=None,\n",
      "               max_delta_step=None, max_depth=None, min_child_weight=None,\n",
      "               missing=nan, monotone_constraints=None, n_estimators=100,\n",
      "               n_jobs=None, num_parallel_tree=None,\n",
      "               objective='reg:squarederror', random_state=None, reg_alpha=None,\n",
      "               scale_pos_weight=None, tree_method=None,\n",
      "               validate_parameters=None, verbosity=None)\n",
      "R2 score 0.8395544391424469\n",
      "MAE 0.1939260545367937\n",
      "RMSE:0.24624850687465488\n"
     ]
    },
    {
     "data": {
      "image/png": "[encoded data removed]",
      "text/plain": [
       "<Figure size 432x288 with 1 Axes>"
      ]
     },
     "metadata": {
      "needs_background": "light"
     },
     "output_type": "display_data"
    }
   ],
   "source": [
    "predict(XGBRFRegressor())"
   ]
  },
  {
   "cell_type": "code",
   "execution_count": 111,
   "id": "7eba5afa",
   "metadata": {},
   "outputs": [
    {
     "name": "stdout",
     "output_type": "stream",
     "text": [
      "Model: <catboost.core.CatBoostRegressor object at 0x0000026699077970>\n",
      "Learning rate set to 0.039161\n",
      "0:\tlearn: 0.6045510\ttotal: 513ms\tremaining: 8m 32s\n",
      "1:\tlearn: 0.5905312\ttotal: 516ms\tremaining: 4m 17s\n",
      "2:\tlearn: 0.5769187\ttotal: 517ms\tremaining: 2m 51s\n",
      "3:\tlearn: 0.5630472\ttotal: 521ms\tremaining: 2m 9s\n",
      "4:\tlearn: 0.5496805\ttotal: 523ms\tremaining: 1m 44s\n",
      "5:\tlearn: 0.5363842\ttotal: 525ms\tremaining: 1m 26s\n",
      "6:\tlearn: 0.5239366\ttotal: 527ms\tremaining: 1m 14s\n",
      "7:\tlearn: 0.5127054\ttotal: 530ms\tremaining: 1m 5s\n",
      "8:\tlearn: 0.5006795\ttotal: 532ms\tremaining: 58.6s\n",
      "9:\tlearn: 0.4896160\ttotal: 534ms\tremaining: 52.9s\n",
      "10:\tlearn: 0.4797487\ttotal: 536ms\tremaining: 48.2s\n",
      "11:\tlearn: 0.4703309\ttotal: 539ms\tremaining: 44.3s\n",
      "12:\tlearn: 0.4606341\ttotal: 540ms\tremaining: 41s\n",
      "13:\tlearn: 0.4517968\ttotal: 543ms\tremaining: 38.2s\n",
      "14:\tlearn: 0.4419147\ttotal: 546ms\tremaining: 35.9s\n",
      "15:\tlearn: 0.4331128\ttotal: 549ms\tremaining: 33.8s\n",
      "16:\tlearn: 0.4259528\ttotal: 551ms\tremaining: 31.9s\n",
      "17:\tlearn: 0.4185934\ttotal: 553ms\tremaining: 30.2s\n",
      "18:\tlearn: 0.4104808\ttotal: 555ms\tremaining: 28.7s\n",
      "19:\tlearn: 0.4037744\ttotal: 557ms\tremaining: 27.3s\n",
      "20:\tlearn: 0.3967165\ttotal: 560ms\tremaining: 26.1s\n",
      "21:\tlearn: 0.3898280\ttotal: 562ms\tremaining: 25s\n",
      "22:\tlearn: 0.3832119\ttotal: 564ms\tremaining: 24s\n",
      "23:\tlearn: 0.3763972\ttotal: 567ms\tremaining: 23s\n",
      "24:\tlearn: 0.3702061\ttotal: 569ms\tremaining: 22.2s\n",
      "25:\tlearn: 0.3644031\ttotal: 571ms\tremaining: 21.4s\n",
      "26:\tlearn: 0.3594482\ttotal: 574ms\tremaining: 20.7s\n",
      "27:\tlearn: 0.3542495\ttotal: 576ms\tremaining: 20s\n",
      "28:\tlearn: 0.3502208\ttotal: 577ms\tremaining: 19.3s\n",
      "29:\tlearn: 0.3451198\ttotal: 580ms\tremaining: 18.7s\n",
      "30:\tlearn: 0.3401401\ttotal: 582ms\tremaining: 18.2s\n",
      "31:\tlearn: 0.3356265\ttotal: 584ms\tremaining: 17.7s\n",
      "32:\tlearn: 0.3311192\ttotal: 586ms\tremaining: 17.2s\n",
      "33:\tlearn: 0.3270658\ttotal: 589ms\tremaining: 16.7s\n",
      "34:\tlearn: 0.3231306\ttotal: 591ms\tremaining: 16.3s\n",
      "35:\tlearn: 0.3189578\ttotal: 593ms\tremaining: 15.9s\n",
      "36:\tlearn: 0.3156228\ttotal: 595ms\tremaining: 15.5s\n",
      "37:\tlearn: 0.3123377\ttotal: 597ms\tremaining: 15.1s\n",
      "38:\tlearn: 0.3089119\ttotal: 600ms\tremaining: 14.8s\n",
      "39:\tlearn: 0.3058715\ttotal: 602ms\tremaining: 14.4s\n",
      "40:\tlearn: 0.3028073\ttotal: 604ms\tremaining: 14.1s\n",
      "41:\tlearn: 0.2997189\ttotal: 606ms\tremaining: 13.8s\n",
      "42:\tlearn: 0.2972499\ttotal: 608ms\tremaining: 13.5s\n",
      "43:\tlearn: 0.2941981\ttotal: 610ms\tremaining: 13.3s\n",
      "44:\tlearn: 0.2916344\ttotal: 612ms\tremaining: 13s\n",
      "45:\tlearn: 0.2894237\ttotal: 614ms\tremaining: 12.7s\n",
      "46:\tlearn: 0.2871507\ttotal: 617ms\tremaining: 12.5s\n",
      "47:\tlearn: 0.2848708\ttotal: 619ms\tremaining: 12.3s\n",
      "48:\tlearn: 0.2827344\ttotal: 621ms\tremaining: 12s\n",
      "49:\tlearn: 0.2801721\ttotal: 623ms\tremaining: 11.8s\n",
      "50:\tlearn: 0.2783430\ttotal: 625ms\tremaining: 11.6s\n",
      "51:\tlearn: 0.2763709\ttotal: 627ms\tremaining: 11.4s\n",
      "52:\tlearn: 0.2743407\ttotal: 629ms\tremaining: 11.2s\n",
      "53:\tlearn: 0.2722233\ttotal: 631ms\tremaining: 11.1s\n",
      "54:\tlearn: 0.2703191\ttotal: 633ms\tremaining: 10.9s\n",
      "55:\tlearn: 0.2683327\ttotal: 635ms\tremaining: 10.7s\n",
      "56:\tlearn: 0.2664729\ttotal: 637ms\tremaining: 10.5s\n",
      "57:\tlearn: 0.2649113\ttotal: 640ms\tremaining: 10.4s\n",
      "58:\tlearn: 0.2635929\ttotal: 642ms\tremaining: 10.2s\n",
      "59:\tlearn: 0.2619064\ttotal: 644ms\tremaining: 10.1s\n",
      "60:\tlearn: 0.2600231\ttotal: 646ms\tremaining: 9.95s\n",
      "61:\tlearn: 0.2585674\ttotal: 648ms\tremaining: 9.81s\n",
      "62:\tlearn: 0.2566326\ttotal: 651ms\tremaining: 9.68s\n",
      "63:\tlearn: 0.2554864\ttotal: 653ms\tremaining: 9.54s\n",
      "64:\tlearn: 0.2539910\ttotal: 655ms\tremaining: 9.42s\n",
      "65:\tlearn: 0.2526573\ttotal: 657ms\tremaining: 9.29s\n",
      "66:\tlearn: 0.2516617\ttotal: 659ms\tremaining: 9.17s\n",
      "67:\tlearn: 0.2502064\ttotal: 661ms\tremaining: 9.06s\n",
      "68:\tlearn: 0.2492609\ttotal: 663ms\tremaining: 8.95s\n",
      "69:\tlearn: 0.2481371\ttotal: 665ms\tremaining: 8.84s\n",
      "70:\tlearn: 0.2469622\ttotal: 667ms\tremaining: 8.73s\n",
      "71:\tlearn: 0.2459570\ttotal: 670ms\tremaining: 8.63s\n",
      "72:\tlearn: 0.2446732\ttotal: 671ms\tremaining: 8.53s\n",
      "73:\tlearn: 0.2435803\ttotal: 674ms\tremaining: 8.43s\n",
      "74:\tlearn: 0.2426419\ttotal: 675ms\tremaining: 8.33s\n",
      "75:\tlearn: 0.2417142\ttotal: 677ms\tremaining: 8.23s\n",
      "76:\tlearn: 0.2408855\ttotal: 679ms\tremaining: 8.14s\n",
      "77:\tlearn: 0.2400031\ttotal: 681ms\tremaining: 8.05s\n",
      "78:\tlearn: 0.2390920\ttotal: 684ms\tremaining: 7.97s\n",
      "79:\tlearn: 0.2381166\ttotal: 686ms\tremaining: 7.89s\n",
      "80:\tlearn: 0.2371274\ttotal: 688ms\tremaining: 7.81s\n",
      "81:\tlearn: 0.2363958\ttotal: 691ms\tremaining: 7.73s\n",
      "82:\tlearn: 0.2358498\ttotal: 694ms\tremaining: 7.66s\n",
      "83:\tlearn: 0.2348801\ttotal: 696ms\tremaining: 7.59s\n",
      "84:\tlearn: 0.2340107\ttotal: 698ms\tremaining: 7.51s\n",
      "85:\tlearn: 0.2334695\ttotal: 701ms\tremaining: 7.45s\n",
      "86:\tlearn: 0.2327645\ttotal: 703ms\tremaining: 7.37s\n",
      "87:\tlearn: 0.2320877\ttotal: 705ms\tremaining: 7.3s\n",
      "88:\tlearn: 0.2313404\ttotal: 707ms\tremaining: 7.24s\n",
      "89:\tlearn: 0.2306622\ttotal: 709ms\tremaining: 7.17s\n",
      "90:\tlearn: 0.2300877\ttotal: 711ms\tremaining: 7.1s\n",
      "91:\tlearn: 0.2296270\ttotal: 713ms\tremaining: 7.04s\n",
      "92:\tlearn: 0.2289682\ttotal: 716ms\tremaining: 6.98s\n",
      "93:\tlearn: 0.2281575\ttotal: 718ms\tremaining: 6.92s\n",
      "94:\tlearn: 0.2276766\ttotal: 720ms\tremaining: 6.86s\n",
      "95:\tlearn: 0.2271986\ttotal: 722ms\tremaining: 6.8s\n",
      "96:\tlearn: 0.2265694\ttotal: 724ms\tremaining: 6.74s\n",
      "97:\tlearn: 0.2259641\ttotal: 726ms\tremaining: 6.68s\n",
      "98:\tlearn: 0.2252748\ttotal: 728ms\tremaining: 6.62s\n",
      "99:\tlearn: 0.2248610\ttotal: 730ms\tremaining: 6.57s\n",
      "100:\tlearn: 0.2243298\ttotal: 732ms\tremaining: 6.52s\n",
      "101:\tlearn: 0.2238670\ttotal: 734ms\tremaining: 6.46s\n",
      "102:\tlearn: 0.2234111\ttotal: 736ms\tremaining: 6.41s\n",
      "103:\tlearn: 0.2230349\ttotal: 738ms\tremaining: 6.36s\n",
      "104:\tlearn: 0.2225666\ttotal: 740ms\tremaining: 6.31s\n",
      "105:\tlearn: 0.2220566\ttotal: 743ms\tremaining: 6.26s\n",
      "106:\tlearn: 0.2215580\ttotal: 745ms\tremaining: 6.22s\n",
      "107:\tlearn: 0.2211004\ttotal: 747ms\tremaining: 6.17s\n",
      "108:\tlearn: 0.2206958\ttotal: 749ms\tremaining: 6.12s\n",
      "109:\tlearn: 0.2203558\ttotal: 751ms\tremaining: 6.08s\n",
      "110:\tlearn: 0.2199436\ttotal: 753ms\tremaining: 6.03s\n",
      "111:\tlearn: 0.2196402\ttotal: 755ms\tremaining: 5.98s\n",
      "112:\tlearn: 0.2191954\ttotal: 757ms\tremaining: 5.94s\n",
      "113:\tlearn: 0.2187752\ttotal: 759ms\tremaining: 5.9s\n",
      "114:\tlearn: 0.2184643\ttotal: 761ms\tremaining: 5.86s\n",
      "115:\tlearn: 0.2179076\ttotal: 763ms\tremaining: 5.82s\n",
      "116:\tlearn: 0.2175835\ttotal: 765ms\tremaining: 5.78s\n",
      "117:\tlearn: 0.2171120\ttotal: 767ms\tremaining: 5.74s\n",
      "118:\tlearn: 0.2167451\ttotal: 769ms\tremaining: 5.7s\n",
      "119:\tlearn: 0.2163271\ttotal: 771ms\tremaining: 5.66s\n",
      "120:\tlearn: 0.2160049\ttotal: 774ms\tremaining: 5.62s\n",
      "121:\tlearn: 0.2157078\ttotal: 776ms\tremaining: 5.58s\n",
      "122:\tlearn: 0.2152899\ttotal: 778ms\tremaining: 5.55s\n",
      "123:\tlearn: 0.2150452\ttotal: 780ms\tremaining: 5.51s\n",
      "124:\tlearn: 0.2147453\ttotal: 782ms\tremaining: 5.47s\n",
      "125:\tlearn: 0.2144053\ttotal: 784ms\tremaining: 5.44s\n",
      "126:\tlearn: 0.2141694\ttotal: 786ms\tremaining: 5.4s\n",
      "127:\tlearn: 0.2138285\ttotal: 789ms\tremaining: 5.37s\n",
      "128:\tlearn: 0.2135565\ttotal: 791ms\tremaining: 5.34s\n",
      "129:\tlearn: 0.2130577\ttotal: 793ms\tremaining: 5.31s\n",
      "130:\tlearn: 0.2127606\ttotal: 795ms\tremaining: 5.27s\n",
      "131:\tlearn: 0.2123796\ttotal: 797ms\tremaining: 5.24s\n",
      "132:\tlearn: 0.2120481\ttotal: 799ms\tremaining: 5.21s\n",
      "133:\tlearn: 0.2117717\ttotal: 801ms\tremaining: 5.18s\n",
      "134:\tlearn: 0.2115619\ttotal: 803ms\tremaining: 5.14s\n",
      "135:\tlearn: 0.2112972\ttotal: 805ms\tremaining: 5.11s\n",
      "136:\tlearn: 0.2110471\ttotal: 807ms\tremaining: 5.08s\n",
      "137:\tlearn: 0.2108148\ttotal: 809ms\tremaining: 5.05s\n",
      "138:\tlearn: 0.2105198\ttotal: 811ms\tremaining: 5.02s\n",
      "139:\tlearn: 0.2102129\ttotal: 813ms\tremaining: 5s\n",
      "140:\tlearn: 0.2099401\ttotal: 815ms\tremaining: 4.97s\n",
      "141:\tlearn: 0.2096519\ttotal: 818ms\tremaining: 4.94s\n",
      "142:\tlearn: 0.2091665\ttotal: 820ms\tremaining: 4.91s\n",
      "143:\tlearn: 0.2088692\ttotal: 822ms\tremaining: 4.88s\n",
      "144:\tlearn: 0.2084050\ttotal: 824ms\tremaining: 4.86s\n",
      "145:\tlearn: 0.2081683\ttotal: 826ms\tremaining: 4.83s\n",
      "146:\tlearn: 0.2079618\ttotal: 828ms\tremaining: 4.81s\n",
      "147:\tlearn: 0.2077200\ttotal: 830ms\tremaining: 4.78s\n",
      "148:\tlearn: 0.2074421\ttotal: 832ms\tremaining: 4.75s\n",
      "149:\tlearn: 0.2070933\ttotal: 834ms\tremaining: 4.73s\n",
      "150:\tlearn: 0.2068112\ttotal: 837ms\tremaining: 4.7s\n",
      "151:\tlearn: 0.2065332\ttotal: 839ms\tremaining: 4.68s\n",
      "152:\tlearn: 0.2061982\ttotal: 841ms\tremaining: 4.66s\n",
      "153:\tlearn: 0.2058554\ttotal: 843ms\tremaining: 4.63s\n",
      "154:\tlearn: 0.2056643\ttotal: 845ms\tremaining: 4.61s\n",
      "155:\tlearn: 0.2053676\ttotal: 847ms\tremaining: 4.58s\n",
      "156:\tlearn: 0.2050895\ttotal: 849ms\tremaining: 4.56s\n",
      "157:\tlearn: 0.2048728\ttotal: 851ms\tremaining: 4.54s\n",
      "158:\tlearn: 0.2045388\ttotal: 854ms\tremaining: 4.51s\n",
      "159:\tlearn: 0.2043263\ttotal: 856ms\tremaining: 4.49s\n",
      "160:\tlearn: 0.2040946\ttotal: 858ms\tremaining: 4.47s\n",
      "161:\tlearn: 0.2038060\ttotal: 862ms\tremaining: 4.46s\n",
      "162:\tlearn: 0.2034717\ttotal: 864ms\tremaining: 4.44s\n",
      "163:\tlearn: 0.2033527\ttotal: 866ms\tremaining: 4.42s\n",
      "164:\tlearn: 0.2031830\ttotal: 868ms\tremaining: 4.39s\n",
      "165:\tlearn: 0.2029669\ttotal: 871ms\tremaining: 4.37s\n",
      "166:\tlearn: 0.2026509\ttotal: 873ms\tremaining: 4.35s\n",
      "167:\tlearn: 0.2022553\ttotal: 875ms\tremaining: 4.33s\n",
      "168:\tlearn: 0.2021519\ttotal: 877ms\tremaining: 4.31s\n",
      "169:\tlearn: 0.2019673\ttotal: 880ms\tremaining: 4.29s\n",
      "170:\tlearn: 0.2016303\ttotal: 882ms\tremaining: 4.27s\n",
      "171:\tlearn: 0.2013819\ttotal: 884ms\tremaining: 4.25s\n",
      "172:\tlearn: 0.2011716\ttotal: 886ms\tremaining: 4.23s\n",
      "173:\tlearn: 0.2007607\ttotal: 888ms\tremaining: 4.22s\n",
      "174:\tlearn: 0.2005694\ttotal: 890ms\tremaining: 4.2s\n",
      "175:\tlearn: 0.2002941\ttotal: 893ms\tremaining: 4.18s\n",
      "176:\tlearn: 0.2000832\ttotal: 895ms\tremaining: 4.16s\n",
      "177:\tlearn: 0.1996823\ttotal: 899ms\tremaining: 4.15s\n",
      "178:\tlearn: 0.1995322\ttotal: 900ms\tremaining: 4.13s\n",
      "179:\tlearn: 0.1993771\ttotal: 903ms\tremaining: 4.11s\n",
      "180:\tlearn: 0.1990111\ttotal: 907ms\tremaining: 4.1s\n",
      "181:\tlearn: 0.1988048\ttotal: 909ms\tremaining: 4.08s\n",
      "182:\tlearn: 0.1986106\ttotal: 911ms\tremaining: 4.07s\n",
      "183:\tlearn: 0.1985051\ttotal: 913ms\tremaining: 4.05s\n",
      "184:\tlearn: 0.1982211\ttotal: 915ms\tremaining: 4.03s\n",
      "185:\tlearn: 0.1978803\ttotal: 917ms\tremaining: 4.01s\n",
      "186:\tlearn: 0.1976768\ttotal: 920ms\tremaining: 4s\n",
      "187:\tlearn: 0.1975512\ttotal: 922ms\tremaining: 3.98s\n",
      "188:\tlearn: 0.1972928\ttotal: 924ms\tremaining: 3.97s\n",
      "189:\tlearn: 0.1970457\ttotal: 927ms\tremaining: 3.95s\n",
      "190:\tlearn: 0.1967091\ttotal: 929ms\tremaining: 3.94s\n",
      "191:\tlearn: 0.1965460\ttotal: 932ms\tremaining: 3.92s\n",
      "192:\tlearn: 0.1961781\ttotal: 934ms\tremaining: 3.91s\n",
      "193:\tlearn: 0.1958826\ttotal: 936ms\tremaining: 3.89s\n",
      "194:\tlearn: 0.1956767\ttotal: 938ms\tremaining: 3.87s\n",
      "195:\tlearn: 0.1954955\ttotal: 941ms\tremaining: 3.86s\n",
      "196:\tlearn: 0.1952658\ttotal: 943ms\tremaining: 3.84s\n",
      "197:\tlearn: 0.1949272\ttotal: 945ms\tremaining: 3.83s\n",
      "198:\tlearn: 0.1947025\ttotal: 947ms\tremaining: 3.81s\n",
      "199:\tlearn: 0.1943905\ttotal: 950ms\tremaining: 3.8s\n",
      "200:\tlearn: 0.1942463\ttotal: 952ms\tremaining: 3.78s\n",
      "201:\tlearn: 0.1940228\ttotal: 955ms\tremaining: 3.77s\n",
      "202:\tlearn: 0.1936722\ttotal: 958ms\tremaining: 3.76s\n",
      "203:\tlearn: 0.1935254\ttotal: 960ms\tremaining: 3.75s\n",
      "204:\tlearn: 0.1934034\ttotal: 963ms\tremaining: 3.73s\n",
      "205:\tlearn: 0.1930730\ttotal: 965ms\tremaining: 3.72s\n"
     ]
    },
    {
     "name": "stdout",
     "output_type": "stream",
     "text": [
      "206:\tlearn: 0.1929243\ttotal: 967ms\tremaining: 3.71s\n",
      "207:\tlearn: 0.1927102\ttotal: 970ms\tremaining: 3.69s\n",
      "208:\tlearn: 0.1926243\ttotal: 972ms\tremaining: 3.68s\n",
      "209:\tlearn: 0.1924150\ttotal: 974ms\tremaining: 3.67s\n",
      "210:\tlearn: 0.1923019\ttotal: 976ms\tremaining: 3.65s\n",
      "211:\tlearn: 0.1921563\ttotal: 978ms\tremaining: 3.64s\n",
      "212:\tlearn: 0.1918810\ttotal: 980ms\tremaining: 3.62s\n",
      "213:\tlearn: 0.1915848\ttotal: 982ms\tremaining: 3.61s\n",
      "214:\tlearn: 0.1914590\ttotal: 985ms\tremaining: 3.6s\n",
      "215:\tlearn: 0.1912427\ttotal: 987ms\tremaining: 3.58s\n",
      "216:\tlearn: 0.1910347\ttotal: 990ms\tremaining: 3.57s\n",
      "217:\tlearn: 0.1909231\ttotal: 991ms\tremaining: 3.56s\n",
      "218:\tlearn: 0.1906998\ttotal: 993ms\tremaining: 3.54s\n",
      "219:\tlearn: 0.1905629\ttotal: 995ms\tremaining: 3.53s\n",
      "220:\tlearn: 0.1901574\ttotal: 997ms\tremaining: 3.52s\n",
      "221:\tlearn: 0.1900114\ttotal: 999ms\tremaining: 3.5s\n",
      "222:\tlearn: 0.1898934\ttotal: 1s\tremaining: 3.49s\n",
      "223:\tlearn: 0.1897711\ttotal: 1s\tremaining: 3.48s\n",
      "224:\tlearn: 0.1896378\ttotal: 1.01s\tremaining: 3.47s\n",
      "225:\tlearn: 0.1895085\ttotal: 1.01s\tremaining: 3.46s\n",
      "226:\tlearn: 0.1892419\ttotal: 1.01s\tremaining: 3.45s\n",
      "227:\tlearn: 0.1890993\ttotal: 1.01s\tremaining: 3.44s\n",
      "228:\tlearn: 0.1888961\ttotal: 1.02s\tremaining: 3.43s\n",
      "229:\tlearn: 0.1887877\ttotal: 1.02s\tremaining: 3.41s\n",
      "230:\tlearn: 0.1886816\ttotal: 1.02s\tremaining: 3.4s\n",
      "231:\tlearn: 0.1883113\ttotal: 1.02s\tremaining: 3.39s\n",
      "232:\tlearn: 0.1881081\ttotal: 1.03s\tremaining: 3.39s\n",
      "233:\tlearn: 0.1879631\ttotal: 1.03s\tremaining: 3.38s\n",
      "234:\tlearn: 0.1878058\ttotal: 1.03s\tremaining: 3.36s\n",
      "235:\tlearn: 0.1876571\ttotal: 1.03s\tremaining: 3.35s\n",
      "236:\tlearn: 0.1874175\ttotal: 1.04s\tremaining: 3.34s\n",
      "237:\tlearn: 0.1873460\ttotal: 1.04s\tremaining: 3.34s\n",
      "238:\tlearn: 0.1870514\ttotal: 1.04s\tremaining: 3.33s\n",
      "239:\tlearn: 0.1867856\ttotal: 1.05s\tremaining: 3.32s\n",
      "240:\tlearn: 0.1867253\ttotal: 1.05s\tremaining: 3.31s\n",
      "241:\tlearn: 0.1865961\ttotal: 1.05s\tremaining: 3.3s\n",
      "242:\tlearn: 0.1863971\ttotal: 1.05s\tremaining: 3.29s\n",
      "243:\tlearn: 0.1861430\ttotal: 1.06s\tremaining: 3.28s\n",
      "244:\tlearn: 0.1860009\ttotal: 1.06s\tremaining: 3.27s\n",
      "245:\tlearn: 0.1857722\ttotal: 1.06s\tremaining: 3.26s\n",
      "246:\tlearn: 0.1856175\ttotal: 1.06s\tremaining: 3.25s\n",
      "247:\tlearn: 0.1855093\ttotal: 1.07s\tremaining: 3.24s\n",
      "248:\tlearn: 0.1852428\ttotal: 1.07s\tremaining: 3.23s\n",
      "249:\tlearn: 0.1848531\ttotal: 1.07s\tremaining: 3.22s\n",
      "250:\tlearn: 0.1846028\ttotal: 1.07s\tremaining: 3.21s\n",
      "251:\tlearn: 0.1845390\ttotal: 1.08s\tremaining: 3.21s\n",
      "252:\tlearn: 0.1843165\ttotal: 1.08s\tremaining: 3.19s\n",
      "253:\tlearn: 0.1839400\ttotal: 1.08s\tremaining: 3.19s\n",
      "254:\tlearn: 0.1837204\ttotal: 1.09s\tremaining: 3.17s\n",
      "255:\tlearn: 0.1835205\ttotal: 1.09s\tremaining: 3.16s\n",
      "256:\tlearn: 0.1834442\ttotal: 1.09s\tremaining: 3.16s\n",
      "257:\tlearn: 0.1833213\ttotal: 1.09s\tremaining: 3.15s\n",
      "258:\tlearn: 0.1831942\ttotal: 1.1s\tremaining: 3.14s\n",
      "259:\tlearn: 0.1831198\ttotal: 1.1s\tremaining: 3.13s\n",
      "260:\tlearn: 0.1830224\ttotal: 1.1s\tremaining: 3.12s\n",
      "261:\tlearn: 0.1827681\ttotal: 1.1s\tremaining: 3.11s\n",
      "262:\tlearn: 0.1824593\ttotal: 1.11s\tremaining: 3.1s\n",
      "263:\tlearn: 0.1822717\ttotal: 1.11s\tremaining: 3.09s\n",
      "264:\tlearn: 0.1821656\ttotal: 1.11s\tremaining: 3.08s\n",
      "265:\tlearn: 0.1818634\ttotal: 1.11s\tremaining: 3.07s\n",
      "266:\tlearn: 0.1815240\ttotal: 1.11s\tremaining: 3.06s\n",
      "267:\tlearn: 0.1814321\ttotal: 1.12s\tremaining: 3.06s\n",
      "268:\tlearn: 0.1813401\ttotal: 1.12s\tremaining: 3.04s\n",
      "269:\tlearn: 0.1812315\ttotal: 1.12s\tremaining: 3.04s\n",
      "270:\tlearn: 0.1811546\ttotal: 1.13s\tremaining: 3.03s\n",
      "271:\tlearn: 0.1811095\ttotal: 1.13s\tremaining: 3.02s\n",
      "272:\tlearn: 0.1810054\ttotal: 1.13s\tremaining: 3.01s\n",
      "273:\tlearn: 0.1809211\ttotal: 1.13s\tremaining: 3s\n",
      "274:\tlearn: 0.1806195\ttotal: 1.13s\tremaining: 2.99s\n",
      "275:\tlearn: 0.1803209\ttotal: 1.14s\tremaining: 2.98s\n",
      "276:\tlearn: 0.1799796\ttotal: 1.14s\tremaining: 2.97s\n",
      "277:\tlearn: 0.1797207\ttotal: 1.14s\tremaining: 2.96s\n",
      "278:\tlearn: 0.1796494\ttotal: 1.14s\tremaining: 2.95s\n",
      "279:\tlearn: 0.1792282\ttotal: 1.14s\tremaining: 2.94s\n",
      "280:\tlearn: 0.1790216\ttotal: 1.15s\tremaining: 2.94s\n",
      "281:\tlearn: 0.1789645\ttotal: 1.15s\tremaining: 2.93s\n",
      "282:\tlearn: 0.1787327\ttotal: 1.15s\tremaining: 2.92s\n",
      "283:\tlearn: 0.1785158\ttotal: 1.15s\tremaining: 2.91s\n",
      "284:\tlearn: 0.1784491\ttotal: 1.16s\tremaining: 2.9s\n",
      "285:\tlearn: 0.1783996\ttotal: 1.16s\tremaining: 2.89s\n",
      "286:\tlearn: 0.1781658\ttotal: 1.16s\tremaining: 2.88s\n",
      "287:\tlearn: 0.1779483\ttotal: 1.16s\tremaining: 2.87s\n",
      "288:\tlearn: 0.1778318\ttotal: 1.16s\tremaining: 2.86s\n",
      "289:\tlearn: 0.1777642\ttotal: 1.17s\tremaining: 2.85s\n",
      "290:\tlearn: 0.1775852\ttotal: 1.17s\tremaining: 2.85s\n",
      "291:\tlearn: 0.1773177\ttotal: 1.17s\tremaining: 2.84s\n",
      "292:\tlearn: 0.1772421\ttotal: 1.17s\tremaining: 2.83s\n",
      "293:\tlearn: 0.1770223\ttotal: 1.18s\tremaining: 2.82s\n",
      "294:\tlearn: 0.1769642\ttotal: 1.18s\tremaining: 2.81s\n",
      "295:\tlearn: 0.1768371\ttotal: 1.18s\tremaining: 2.8s\n",
      "296:\tlearn: 0.1765931\ttotal: 1.18s\tremaining: 2.79s\n",
      "297:\tlearn: 0.1762690\ttotal: 1.18s\tremaining: 2.79s\n",
      "298:\tlearn: 0.1762280\ttotal: 1.19s\tremaining: 2.78s\n",
      "299:\tlearn: 0.1760157\ttotal: 1.19s\tremaining: 2.77s\n",
      "300:\tlearn: 0.1757685\ttotal: 1.19s\tremaining: 2.76s\n",
      "301:\tlearn: 0.1756177\ttotal: 1.19s\tremaining: 2.75s\n",
      "302:\tlearn: 0.1754446\ttotal: 1.19s\tremaining: 2.75s\n",
      "303:\tlearn: 0.1753382\ttotal: 1.2s\tremaining: 2.74s\n",
      "304:\tlearn: 0.1750852\ttotal: 1.2s\tremaining: 2.73s\n",
      "305:\tlearn: 0.1749487\ttotal: 1.2s\tremaining: 2.72s\n",
      "306:\tlearn: 0.1746957\ttotal: 1.2s\tremaining: 2.71s\n",
      "307:\tlearn: 0.1744138\ttotal: 1.2s\tremaining: 2.71s\n",
      "308:\tlearn: 0.1741838\ttotal: 1.21s\tremaining: 2.7s\n",
      "309:\tlearn: 0.1738895\ttotal: 1.21s\tremaining: 2.69s\n",
      "310:\tlearn: 0.1738417\ttotal: 1.21s\tremaining: 2.68s\n",
      "311:\tlearn: 0.1738038\ttotal: 1.21s\tremaining: 2.67s\n",
      "312:\tlearn: 0.1735536\ttotal: 1.21s\tremaining: 2.67s\n",
      "313:\tlearn: 0.1734549\ttotal: 1.22s\tremaining: 2.66s\n",
      "314:\tlearn: 0.1733654\ttotal: 1.22s\tremaining: 2.65s\n",
      "315:\tlearn: 0.1731289\ttotal: 1.22s\tremaining: 2.64s\n",
      "316:\tlearn: 0.1729217\ttotal: 1.22s\tremaining: 2.63s\n",
      "317:\tlearn: 0.1727138\ttotal: 1.23s\tremaining: 2.63s\n",
      "318:\tlearn: 0.1726059\ttotal: 1.23s\tremaining: 2.62s\n",
      "319:\tlearn: 0.1725523\ttotal: 1.23s\tremaining: 2.61s\n",
      "320:\tlearn: 0.1725179\ttotal: 1.23s\tremaining: 2.61s\n",
      "321:\tlearn: 0.1723192\ttotal: 1.23s\tremaining: 2.6s\n",
      "322:\tlearn: 0.1718415\ttotal: 1.24s\tremaining: 2.59s\n",
      "323:\tlearn: 0.1716354\ttotal: 1.24s\tremaining: 2.58s\n",
      "324:\tlearn: 0.1713222\ttotal: 1.24s\tremaining: 2.58s\n",
      "325:\tlearn: 0.1712442\ttotal: 1.24s\tremaining: 2.57s\n",
      "326:\tlearn: 0.1710068\ttotal: 1.25s\tremaining: 2.56s\n",
      "327:\tlearn: 0.1709062\ttotal: 1.25s\tremaining: 2.56s\n",
      "328:\tlearn: 0.1707202\ttotal: 1.25s\tremaining: 2.55s\n",
      "329:\tlearn: 0.1706969\ttotal: 1.25s\tremaining: 2.54s\n",
      "330:\tlearn: 0.1705098\ttotal: 1.25s\tremaining: 2.54s\n",
      "331:\tlearn: 0.1703078\ttotal: 1.26s\tremaining: 2.53s\n",
      "332:\tlearn: 0.1702432\ttotal: 1.26s\tremaining: 2.52s\n",
      "333:\tlearn: 0.1699888\ttotal: 1.26s\tremaining: 2.51s\n",
      "334:\tlearn: 0.1697310\ttotal: 1.26s\tremaining: 2.51s\n",
      "335:\tlearn: 0.1696664\ttotal: 1.26s\tremaining: 2.5s\n",
      "336:\tlearn: 0.1693026\ttotal: 1.27s\tremaining: 2.49s\n",
      "337:\tlearn: 0.1691555\ttotal: 1.27s\tremaining: 2.49s\n",
      "338:\tlearn: 0.1689826\ttotal: 1.27s\tremaining: 2.48s\n",
      "339:\tlearn: 0.1689068\ttotal: 1.27s\tremaining: 2.48s\n",
      "340:\tlearn: 0.1685827\ttotal: 1.28s\tremaining: 2.47s\n",
      "341:\tlearn: 0.1684488\ttotal: 1.28s\tremaining: 2.46s\n",
      "342:\tlearn: 0.1682706\ttotal: 1.28s\tremaining: 2.46s\n",
      "343:\tlearn: 0.1679168\ttotal: 1.28s\tremaining: 2.45s\n",
      "344:\tlearn: 0.1677390\ttotal: 1.29s\tremaining: 2.44s\n",
      "345:\tlearn: 0.1676215\ttotal: 1.29s\tremaining: 2.44s\n",
      "346:\tlearn: 0.1675748\ttotal: 1.29s\tremaining: 2.43s\n",
      "347:\tlearn: 0.1674897\ttotal: 1.29s\tremaining: 2.42s\n",
      "348:\tlearn: 0.1674165\ttotal: 1.29s\tremaining: 2.42s\n",
      "349:\tlearn: 0.1673476\ttotal: 1.3s\tremaining: 2.41s\n",
      "350:\tlearn: 0.1671780\ttotal: 1.3s\tremaining: 2.4s\n",
      "351:\tlearn: 0.1670245\ttotal: 1.3s\tremaining: 2.4s\n",
      "352:\tlearn: 0.1669179\ttotal: 1.3s\tremaining: 2.39s\n",
      "353:\tlearn: 0.1668572\ttotal: 1.31s\tremaining: 2.39s\n",
      "354:\tlearn: 0.1666356\ttotal: 1.31s\tremaining: 2.38s\n",
      "355:\tlearn: 0.1665756\ttotal: 1.31s\tremaining: 2.38s\n",
      "356:\tlearn: 0.1663759\ttotal: 1.32s\tremaining: 2.37s\n",
      "357:\tlearn: 0.1663555\ttotal: 1.32s\tremaining: 2.36s\n",
      "358:\tlearn: 0.1660808\ttotal: 1.32s\tremaining: 2.36s\n",
      "359:\tlearn: 0.1659999\ttotal: 1.32s\tremaining: 2.35s\n",
      "360:\tlearn: 0.1657812\ttotal: 1.32s\tremaining: 2.35s\n",
      "361:\tlearn: 0.1656655\ttotal: 1.33s\tremaining: 2.34s\n",
      "362:\tlearn: 0.1656441\ttotal: 1.33s\tremaining: 2.33s\n",
      "363:\tlearn: 0.1654368\ttotal: 1.33s\tremaining: 2.33s\n",
      "364:\tlearn: 0.1652763\ttotal: 1.33s\tremaining: 2.32s\n",
      "365:\tlearn: 0.1651370\ttotal: 1.34s\tremaining: 2.31s\n",
      "366:\tlearn: 0.1650028\ttotal: 1.34s\tremaining: 2.31s\n",
      "367:\tlearn: 0.1647389\ttotal: 1.34s\tremaining: 2.3s\n",
      "368:\tlearn: 0.1646511\ttotal: 1.34s\tremaining: 2.3s\n",
      "369:\tlearn: 0.1644544\ttotal: 1.34s\tremaining: 2.29s\n",
      "370:\tlearn: 0.1643440\ttotal: 1.35s\tremaining: 2.28s\n",
      "371:\tlearn: 0.1641692\ttotal: 1.35s\tremaining: 2.28s\n",
      "372:\tlearn: 0.1640934\ttotal: 1.35s\tremaining: 2.27s\n",
      "373:\tlearn: 0.1640016\ttotal: 1.35s\tremaining: 2.27s\n",
      "374:\tlearn: 0.1638475\ttotal: 1.35s\tremaining: 2.26s\n",
      "375:\tlearn: 0.1636003\ttotal: 1.36s\tremaining: 2.25s\n",
      "376:\tlearn: 0.1635838\ttotal: 1.36s\tremaining: 2.25s\n",
      "377:\tlearn: 0.1633712\ttotal: 1.36s\tremaining: 2.24s\n",
      "378:\tlearn: 0.1631767\ttotal: 1.36s\tremaining: 2.23s\n",
      "379:\tlearn: 0.1630876\ttotal: 1.37s\tremaining: 2.23s\n",
      "380:\tlearn: 0.1630672\ttotal: 1.37s\tremaining: 2.22s\n",
      "381:\tlearn: 0.1630362\ttotal: 1.37s\tremaining: 2.22s\n",
      "382:\tlearn: 0.1627874\ttotal: 1.37s\tremaining: 2.21s\n",
      "383:\tlearn: 0.1625625\ttotal: 1.37s\tremaining: 2.21s\n",
      "384:\tlearn: 0.1624762\ttotal: 1.38s\tremaining: 2.2s\n",
      "385:\tlearn: 0.1622325\ttotal: 1.38s\tremaining: 2.19s\n",
      "386:\tlearn: 0.1621079\ttotal: 1.38s\tremaining: 2.19s\n",
      "387:\tlearn: 0.1619417\ttotal: 1.38s\tremaining: 2.18s\n",
      "388:\tlearn: 0.1618532\ttotal: 1.38s\tremaining: 2.17s\n",
      "389:\tlearn: 0.1616374\ttotal: 1.39s\tremaining: 2.17s\n",
      "390:\tlearn: 0.1614990\ttotal: 1.39s\tremaining: 2.16s\n",
      "391:\tlearn: 0.1613304\ttotal: 1.39s\tremaining: 2.16s\n",
      "392:\tlearn: 0.1611556\ttotal: 1.39s\tremaining: 2.15s\n",
      "393:\tlearn: 0.1609338\ttotal: 1.4s\tremaining: 2.15s\n",
      "394:\tlearn: 0.1607967\ttotal: 1.4s\tremaining: 2.14s\n",
      "395:\tlearn: 0.1607823\ttotal: 1.4s\tremaining: 2.13s\n",
      "396:\tlearn: 0.1606296\ttotal: 1.4s\tremaining: 2.13s\n",
      "397:\tlearn: 0.1603904\ttotal: 1.4s\tremaining: 2.12s\n",
      "398:\tlearn: 0.1601447\ttotal: 1.41s\tremaining: 2.12s\n",
      "399:\tlearn: 0.1600289\ttotal: 1.41s\tremaining: 2.11s\n",
      "400:\tlearn: 0.1599007\ttotal: 1.41s\tremaining: 2.1s\n",
      "401:\tlearn: 0.1597330\ttotal: 1.41s\tremaining: 2.1s\n",
      "402:\tlearn: 0.1596038\ttotal: 1.41s\tremaining: 2.09s\n",
      "403:\tlearn: 0.1594498\ttotal: 1.42s\tremaining: 2.09s\n",
      "404:\tlearn: 0.1593529\ttotal: 1.42s\tremaining: 2.08s\n",
      "405:\tlearn: 0.1592867\ttotal: 1.42s\tremaining: 2.08s\n",
      "406:\tlearn: 0.1591807\ttotal: 1.42s\tremaining: 2.07s\n"
     ]
    },
    {
     "name": "stdout",
     "output_type": "stream",
     "text": [
      "407:\tlearn: 0.1591191\ttotal: 1.42s\tremaining: 2.07s\n",
      "408:\tlearn: 0.1590264\ttotal: 1.43s\tremaining: 2.06s\n",
      "409:\tlearn: 0.1589453\ttotal: 1.43s\tremaining: 2.06s\n",
      "410:\tlearn: 0.1587667\ttotal: 1.43s\tremaining: 2.05s\n",
      "411:\tlearn: 0.1586877\ttotal: 1.43s\tremaining: 2.04s\n",
      "412:\tlearn: 0.1585855\ttotal: 1.43s\tremaining: 2.04s\n",
      "413:\tlearn: 0.1584177\ttotal: 1.44s\tremaining: 2.03s\n",
      "414:\tlearn: 0.1582051\ttotal: 1.44s\tremaining: 2.03s\n",
      "415:\tlearn: 0.1580973\ttotal: 1.44s\tremaining: 2.02s\n",
      "416:\tlearn: 0.1579038\ttotal: 1.44s\tremaining: 2.02s\n",
      "417:\tlearn: 0.1577160\ttotal: 1.45s\tremaining: 2.01s\n",
      "418:\tlearn: 0.1577049\ttotal: 1.45s\tremaining: 2.01s\n",
      "419:\tlearn: 0.1574239\ttotal: 1.45s\tremaining: 2s\n",
      "420:\tlearn: 0.1572175\ttotal: 1.45s\tremaining: 2s\n",
      "421:\tlearn: 0.1569105\ttotal: 1.46s\tremaining: 1.99s\n",
      "422:\tlearn: 0.1568573\ttotal: 1.46s\tremaining: 1.99s\n",
      "423:\tlearn: 0.1564951\ttotal: 1.46s\tremaining: 1.98s\n",
      "424:\tlearn: 0.1563188\ttotal: 1.46s\tremaining: 1.98s\n",
      "425:\tlearn: 0.1562021\ttotal: 1.46s\tremaining: 1.97s\n",
      "426:\tlearn: 0.1561337\ttotal: 1.47s\tremaining: 1.97s\n",
      "427:\tlearn: 0.1560894\ttotal: 1.47s\tremaining: 1.96s\n",
      "428:\tlearn: 0.1560166\ttotal: 1.47s\tremaining: 1.96s\n",
      "429:\tlearn: 0.1559448\ttotal: 1.47s\tremaining: 1.95s\n",
      "430:\tlearn: 0.1557812\ttotal: 1.48s\tremaining: 1.95s\n",
      "431:\tlearn: 0.1555855\ttotal: 1.48s\tremaining: 1.94s\n",
      "432:\tlearn: 0.1554140\ttotal: 1.48s\tremaining: 1.94s\n",
      "433:\tlearn: 0.1553135\ttotal: 1.48s\tremaining: 1.93s\n",
      "434:\tlearn: 0.1552405\ttotal: 1.48s\tremaining: 1.93s\n",
      "435:\tlearn: 0.1552305\ttotal: 1.49s\tremaining: 1.92s\n",
      "436:\tlearn: 0.1551317\ttotal: 1.49s\tremaining: 1.92s\n",
      "437:\tlearn: 0.1549916\ttotal: 1.49s\tremaining: 1.91s\n",
      "438:\tlearn: 0.1547814\ttotal: 1.49s\tremaining: 1.91s\n",
      "439:\tlearn: 0.1546828\ttotal: 1.49s\tremaining: 1.9s\n",
      "440:\tlearn: 0.1546096\ttotal: 1.5s\tremaining: 1.9s\n",
      "441:\tlearn: 0.1545053\ttotal: 1.5s\tremaining: 1.89s\n",
      "442:\tlearn: 0.1542583\ttotal: 1.5s\tremaining: 1.89s\n",
      "443:\tlearn: 0.1541532\ttotal: 1.5s\tremaining: 1.88s\n",
      "444:\tlearn: 0.1540306\ttotal: 1.5s\tremaining: 1.88s\n",
      "445:\tlearn: 0.1538936\ttotal: 1.51s\tremaining: 1.87s\n",
      "446:\tlearn: 0.1537033\ttotal: 1.51s\tremaining: 1.87s\n",
      "447:\tlearn: 0.1536281\ttotal: 1.51s\tremaining: 1.86s\n",
      "448:\tlearn: 0.1535241\ttotal: 1.51s\tremaining: 1.86s\n",
      "449:\tlearn: 0.1534158\ttotal: 1.51s\tremaining: 1.85s\n",
      "450:\tlearn: 0.1533247\ttotal: 1.52s\tremaining: 1.85s\n",
      "451:\tlearn: 0.1531517\ttotal: 1.52s\tremaining: 1.84s\n",
      "452:\tlearn: 0.1530796\ttotal: 1.52s\tremaining: 1.84s\n",
      "453:\tlearn: 0.1530004\ttotal: 1.52s\tremaining: 1.83s\n",
      "454:\tlearn: 0.1527989\ttotal: 1.53s\tremaining: 1.83s\n",
      "455:\tlearn: 0.1527893\ttotal: 1.53s\tremaining: 1.82s\n",
      "456:\tlearn: 0.1526894\ttotal: 1.53s\tremaining: 1.82s\n",
      "457:\tlearn: 0.1524406\ttotal: 1.53s\tremaining: 1.81s\n",
      "458:\tlearn: 0.1523022\ttotal: 1.53s\tremaining: 1.81s\n",
      "459:\tlearn: 0.1522790\ttotal: 1.54s\tremaining: 1.8s\n",
      "460:\tlearn: 0.1521952\ttotal: 1.54s\tremaining: 1.8s\n",
      "461:\tlearn: 0.1521580\ttotal: 1.54s\tremaining: 1.79s\n",
      "462:\tlearn: 0.1519577\ttotal: 1.54s\tremaining: 1.79s\n",
      "463:\tlearn: 0.1518370\ttotal: 1.54s\tremaining: 1.78s\n",
      "464:\tlearn: 0.1515738\ttotal: 1.55s\tremaining: 1.78s\n",
      "465:\tlearn: 0.1515121\ttotal: 1.55s\tremaining: 1.77s\n",
      "466:\tlearn: 0.1512757\ttotal: 1.55s\tremaining: 1.77s\n",
      "467:\tlearn: 0.1510414\ttotal: 1.55s\tremaining: 1.77s\n",
      "468:\tlearn: 0.1508862\ttotal: 1.55s\tremaining: 1.76s\n",
      "469:\tlearn: 0.1508036\ttotal: 1.56s\tremaining: 1.76s\n",
      "470:\tlearn: 0.1507219\ttotal: 1.56s\tremaining: 1.75s\n",
      "471:\tlearn: 0.1505422\ttotal: 1.56s\tremaining: 1.75s\n",
      "472:\tlearn: 0.1505334\ttotal: 1.56s\tremaining: 1.74s\n",
      "473:\tlearn: 0.1504531\ttotal: 1.57s\tremaining: 1.74s\n",
      "474:\tlearn: 0.1503589\ttotal: 1.57s\tremaining: 1.73s\n",
      "475:\tlearn: 0.1502475\ttotal: 1.57s\tremaining: 1.73s\n",
      "476:\tlearn: 0.1500471\ttotal: 1.57s\tremaining: 1.72s\n",
      "477:\tlearn: 0.1498832\ttotal: 1.57s\tremaining: 1.72s\n",
      "478:\tlearn: 0.1497216\ttotal: 1.58s\tremaining: 1.71s\n",
      "479:\tlearn: 0.1496185\ttotal: 1.58s\tremaining: 1.71s\n",
      "480:\tlearn: 0.1495545\ttotal: 1.58s\tremaining: 1.71s\n",
      "481:\tlearn: 0.1493861\ttotal: 1.58s\tremaining: 1.7s\n",
      "482:\tlearn: 0.1492803\ttotal: 1.58s\tremaining: 1.7s\n",
      "483:\tlearn: 0.1491702\ttotal: 1.59s\tremaining: 1.69s\n",
      "484:\tlearn: 0.1490796\ttotal: 1.59s\tremaining: 1.69s\n",
      "485:\tlearn: 0.1490263\ttotal: 1.59s\tremaining: 1.68s\n",
      "486:\tlearn: 0.1488457\ttotal: 1.59s\tremaining: 1.68s\n",
      "487:\tlearn: 0.1487587\ttotal: 1.59s\tremaining: 1.67s\n",
      "488:\tlearn: 0.1486765\ttotal: 1.6s\tremaining: 1.67s\n",
      "489:\tlearn: 0.1485460\ttotal: 1.6s\tremaining: 1.67s\n",
      "490:\tlearn: 0.1484474\ttotal: 1.6s\tremaining: 1.66s\n",
      "491:\tlearn: 0.1482675\ttotal: 1.6s\tremaining: 1.66s\n",
      "492:\tlearn: 0.1480891\ttotal: 1.61s\tremaining: 1.65s\n",
      "493:\tlearn: 0.1479977\ttotal: 1.61s\tremaining: 1.65s\n",
      "494:\tlearn: 0.1478826\ttotal: 1.61s\tremaining: 1.64s\n",
      "495:\tlearn: 0.1478341\ttotal: 1.61s\tremaining: 1.64s\n",
      "496:\tlearn: 0.1477389\ttotal: 1.62s\tremaining: 1.64s\n",
      "497:\tlearn: 0.1476746\ttotal: 1.62s\tremaining: 1.63s\n",
      "498:\tlearn: 0.1476691\ttotal: 1.62s\tremaining: 1.63s\n",
      "499:\tlearn: 0.1475499\ttotal: 1.62s\tremaining: 1.62s\n",
      "500:\tlearn: 0.1474375\ttotal: 1.62s\tremaining: 1.62s\n",
      "501:\tlearn: 0.1472985\ttotal: 1.63s\tremaining: 1.61s\n",
      "502:\tlearn: 0.1471345\ttotal: 1.63s\tremaining: 1.61s\n",
      "503:\tlearn: 0.1469382\ttotal: 1.63s\tremaining: 1.6s\n",
      "504:\tlearn: 0.1467759\ttotal: 1.63s\tremaining: 1.6s\n",
      "505:\tlearn: 0.1466054\ttotal: 1.64s\tremaining: 1.6s\n",
      "506:\tlearn: 0.1464513\ttotal: 1.64s\tremaining: 1.59s\n",
      "507:\tlearn: 0.1463877\ttotal: 1.64s\tremaining: 1.59s\n",
      "508:\tlearn: 0.1463023\ttotal: 1.64s\tremaining: 1.58s\n",
      "509:\tlearn: 0.1461832\ttotal: 1.64s\tremaining: 1.58s\n",
      "510:\tlearn: 0.1460299\ttotal: 1.65s\tremaining: 1.57s\n",
      "511:\tlearn: 0.1459705\ttotal: 1.65s\tremaining: 1.57s\n",
      "512:\tlearn: 0.1458935\ttotal: 1.65s\tremaining: 1.57s\n",
      "513:\tlearn: 0.1458730\ttotal: 1.65s\tremaining: 1.56s\n",
      "514:\tlearn: 0.1458051\ttotal: 1.65s\tremaining: 1.56s\n",
      "515:\tlearn: 0.1456902\ttotal: 1.66s\tremaining: 1.55s\n",
      "516:\tlearn: 0.1455908\ttotal: 1.66s\tremaining: 1.55s\n",
      "517:\tlearn: 0.1455112\ttotal: 1.66s\tremaining: 1.54s\n",
      "518:\tlearn: 0.1454485\ttotal: 1.66s\tremaining: 1.54s\n",
      "519:\tlearn: 0.1453138\ttotal: 1.67s\tremaining: 1.54s\n",
      "520:\tlearn: 0.1452351\ttotal: 1.67s\tremaining: 1.53s\n",
      "521:\tlearn: 0.1450468\ttotal: 1.67s\tremaining: 1.53s\n",
      "522:\tlearn: 0.1449393\ttotal: 1.67s\tremaining: 1.52s\n",
      "523:\tlearn: 0.1449147\ttotal: 1.67s\tremaining: 1.52s\n",
      "524:\tlearn: 0.1447882\ttotal: 1.68s\tremaining: 1.52s\n",
      "525:\tlearn: 0.1447315\ttotal: 1.68s\tremaining: 1.51s\n",
      "526:\tlearn: 0.1445700\ttotal: 1.68s\tremaining: 1.51s\n",
      "527:\tlearn: 0.1444980\ttotal: 1.68s\tremaining: 1.5s\n",
      "528:\tlearn: 0.1444206\ttotal: 1.68s\tremaining: 1.5s\n",
      "529:\tlearn: 0.1443552\ttotal: 1.69s\tremaining: 1.5s\n",
      "530:\tlearn: 0.1442042\ttotal: 1.69s\tremaining: 1.49s\n",
      "531:\tlearn: 0.1441635\ttotal: 1.69s\tremaining: 1.49s\n",
      "532:\tlearn: 0.1440166\ttotal: 1.69s\tremaining: 1.48s\n",
      "533:\tlearn: 0.1439111\ttotal: 1.69s\tremaining: 1.48s\n",
      "534:\tlearn: 0.1438433\ttotal: 1.7s\tremaining: 1.48s\n",
      "535:\tlearn: 0.1437168\ttotal: 1.7s\tremaining: 1.47s\n",
      "536:\tlearn: 0.1436434\ttotal: 1.7s\tremaining: 1.47s\n",
      "537:\tlearn: 0.1436022\ttotal: 1.7s\tremaining: 1.46s\n",
      "538:\tlearn: 0.1435486\ttotal: 1.71s\tremaining: 1.46s\n",
      "539:\tlearn: 0.1434892\ttotal: 1.71s\tremaining: 1.45s\n",
      "540:\tlearn: 0.1434574\ttotal: 1.71s\tremaining: 1.45s\n",
      "541:\tlearn: 0.1433394\ttotal: 1.71s\tremaining: 1.45s\n",
      "542:\tlearn: 0.1431901\ttotal: 1.71s\tremaining: 1.44s\n",
      "543:\tlearn: 0.1430087\ttotal: 1.72s\tremaining: 1.44s\n",
      "544:\tlearn: 0.1428918\ttotal: 1.72s\tremaining: 1.43s\n",
      "545:\tlearn: 0.1428114\ttotal: 1.72s\tremaining: 1.43s\n",
      "546:\tlearn: 0.1427669\ttotal: 1.72s\tremaining: 1.43s\n",
      "547:\tlearn: 0.1427115\ttotal: 1.72s\tremaining: 1.42s\n",
      "548:\tlearn: 0.1426355\ttotal: 1.73s\tremaining: 1.42s\n",
      "549:\tlearn: 0.1425477\ttotal: 1.73s\tremaining: 1.41s\n",
      "550:\tlearn: 0.1425114\ttotal: 1.73s\tremaining: 1.41s\n",
      "551:\tlearn: 0.1424412\ttotal: 1.73s\tremaining: 1.41s\n",
      "552:\tlearn: 0.1423828\ttotal: 1.73s\tremaining: 1.4s\n",
      "553:\tlearn: 0.1422655\ttotal: 1.74s\tremaining: 1.4s\n",
      "554:\tlearn: 0.1422155\ttotal: 1.74s\tremaining: 1.39s\n",
      "555:\tlearn: 0.1421604\ttotal: 1.74s\tremaining: 1.39s\n",
      "556:\tlearn: 0.1420201\ttotal: 1.74s\tremaining: 1.39s\n",
      "557:\tlearn: 0.1419408\ttotal: 1.75s\tremaining: 1.38s\n",
      "558:\tlearn: 0.1418755\ttotal: 1.75s\tremaining: 1.38s\n",
      "559:\tlearn: 0.1418237\ttotal: 1.75s\tremaining: 1.38s\n",
      "560:\tlearn: 0.1417736\ttotal: 1.75s\tremaining: 1.37s\n",
      "561:\tlearn: 0.1416971\ttotal: 1.75s\tremaining: 1.37s\n",
      "562:\tlearn: 0.1415786\ttotal: 1.76s\tremaining: 1.36s\n",
      "563:\tlearn: 0.1413782\ttotal: 1.76s\tremaining: 1.36s\n",
      "564:\tlearn: 0.1412876\ttotal: 1.76s\tremaining: 1.36s\n",
      "565:\tlearn: 0.1412747\ttotal: 1.76s\tremaining: 1.35s\n",
      "566:\tlearn: 0.1412124\ttotal: 1.77s\tremaining: 1.35s\n",
      "567:\tlearn: 0.1411696\ttotal: 1.77s\tremaining: 1.34s\n",
      "568:\tlearn: 0.1411182\ttotal: 1.77s\tremaining: 1.34s\n",
      "569:\tlearn: 0.1410522\ttotal: 1.77s\tremaining: 1.34s\n",
      "570:\tlearn: 0.1409990\ttotal: 1.77s\tremaining: 1.33s\n",
      "571:\tlearn: 0.1408620\ttotal: 1.78s\tremaining: 1.33s\n",
      "572:\tlearn: 0.1408066\ttotal: 1.78s\tremaining: 1.33s\n",
      "573:\tlearn: 0.1407599\ttotal: 1.78s\tremaining: 1.32s\n",
      "574:\tlearn: 0.1406390\ttotal: 1.78s\tremaining: 1.32s\n",
      "575:\tlearn: 0.1404987\ttotal: 1.79s\tremaining: 1.31s\n",
      "576:\tlearn: 0.1404891\ttotal: 1.79s\tremaining: 1.31s\n",
      "577:\tlearn: 0.1403277\ttotal: 1.79s\tremaining: 1.31s\n",
      "578:\tlearn: 0.1401977\ttotal: 1.79s\tremaining: 1.3s\n",
      "579:\tlearn: 0.1400387\ttotal: 1.79s\tremaining: 1.3s\n",
      "580:\tlearn: 0.1399209\ttotal: 1.8s\tremaining: 1.29s\n",
      "581:\tlearn: 0.1398268\ttotal: 1.8s\tremaining: 1.29s\n",
      "582:\tlearn: 0.1396741\ttotal: 1.8s\tremaining: 1.29s\n",
      "583:\tlearn: 0.1395234\ttotal: 1.8s\tremaining: 1.28s\n",
      "584:\tlearn: 0.1394522\ttotal: 1.8s\tremaining: 1.28s\n",
      "585:\tlearn: 0.1394077\ttotal: 1.81s\tremaining: 1.28s\n",
      "586:\tlearn: 0.1392491\ttotal: 1.81s\tremaining: 1.27s\n",
      "587:\tlearn: 0.1391131\ttotal: 1.81s\tremaining: 1.27s\n",
      "588:\tlearn: 0.1390188\ttotal: 1.82s\tremaining: 1.27s\n",
      "589:\tlearn: 0.1389040\ttotal: 1.82s\tremaining: 1.26s\n",
      "590:\tlearn: 0.1387727\ttotal: 1.82s\tremaining: 1.26s\n",
      "591:\tlearn: 0.1386307\ttotal: 1.82s\tremaining: 1.26s\n",
      "592:\tlearn: 0.1385171\ttotal: 1.82s\tremaining: 1.25s\n",
      "593:\tlearn: 0.1384124\ttotal: 1.83s\tremaining: 1.25s\n",
      "594:\tlearn: 0.1383634\ttotal: 1.83s\tremaining: 1.25s\n",
      "595:\tlearn: 0.1383336\ttotal: 1.83s\tremaining: 1.24s\n",
      "596:\tlearn: 0.1382549\ttotal: 1.83s\tremaining: 1.24s\n",
      "597:\tlearn: 0.1381706\ttotal: 1.84s\tremaining: 1.23s\n",
      "598:\tlearn: 0.1381049\ttotal: 1.84s\tremaining: 1.23s\n",
      "599:\tlearn: 0.1380350\ttotal: 1.84s\tremaining: 1.23s\n",
      "600:\tlearn: 0.1379136\ttotal: 1.84s\tremaining: 1.22s\n",
      "601:\tlearn: 0.1378901\ttotal: 1.84s\tremaining: 1.22s\n",
      "602:\tlearn: 0.1377957\ttotal: 1.85s\tremaining: 1.22s\n",
      "603:\tlearn: 0.1377600\ttotal: 1.85s\tremaining: 1.21s\n",
      "604:\tlearn: 0.1376358\ttotal: 1.85s\tremaining: 1.21s\n",
      "605:\tlearn: 0.1375524\ttotal: 1.85s\tremaining: 1.21s\n",
      "606:\tlearn: 0.1374723\ttotal: 1.85s\tremaining: 1.2s\n",
      "607:\tlearn: 0.1374129\ttotal: 1.86s\tremaining: 1.2s\n",
      "608:\tlearn: 0.1372736\ttotal: 1.86s\tremaining: 1.19s\n",
      "609:\tlearn: 0.1372136\ttotal: 1.86s\tremaining: 1.19s\n",
      "610:\tlearn: 0.1371523\ttotal: 1.86s\tremaining: 1.19s\n",
      "611:\tlearn: 0.1370941\ttotal: 1.87s\tremaining: 1.18s\n",
      "612:\tlearn: 0.1369613\ttotal: 1.87s\tremaining: 1.18s\n",
      "613:\tlearn: 0.1368472\ttotal: 1.87s\tremaining: 1.18s\n",
      "614:\tlearn: 0.1367072\ttotal: 1.87s\tremaining: 1.17s\n",
      "615:\tlearn: 0.1366300\ttotal: 1.88s\tremaining: 1.17s\n",
      "616:\tlearn: 0.1365714\ttotal: 1.88s\tremaining: 1.17s\n",
      "617:\tlearn: 0.1365004\ttotal: 1.88s\tremaining: 1.16s\n",
      "618:\tlearn: 0.1363628\ttotal: 1.88s\tremaining: 1.16s\n",
      "619:\tlearn: 0.1362591\ttotal: 1.89s\tremaining: 1.16s\n",
      "620:\tlearn: 0.1362139\ttotal: 1.89s\tremaining: 1.15s\n"
     ]
    },
    {
     "name": "stdout",
     "output_type": "stream",
     "text": [
      "621:\tlearn: 0.1360953\ttotal: 1.89s\tremaining: 1.15s\n",
      "622:\tlearn: 0.1359866\ttotal: 1.9s\tremaining: 1.15s\n",
      "623:\tlearn: 0.1359511\ttotal: 1.9s\tremaining: 1.14s\n",
      "624:\tlearn: 0.1359271\ttotal: 1.9s\tremaining: 1.14s\n",
      "625:\tlearn: 0.1358924\ttotal: 1.91s\tremaining: 1.14s\n",
      "626:\tlearn: 0.1357581\ttotal: 1.91s\tremaining: 1.14s\n",
      "627:\tlearn: 0.1356628\ttotal: 1.91s\tremaining: 1.13s\n",
      "628:\tlearn: 0.1356292\ttotal: 1.91s\tremaining: 1.13s\n",
      "629:\tlearn: 0.1355597\ttotal: 1.91s\tremaining: 1.12s\n",
      "630:\tlearn: 0.1355014\ttotal: 1.92s\tremaining: 1.12s\n",
      "631:\tlearn: 0.1354412\ttotal: 1.92s\tremaining: 1.12s\n",
      "632:\tlearn: 0.1354311\ttotal: 1.92s\tremaining: 1.11s\n",
      "633:\tlearn: 0.1354053\ttotal: 1.92s\tremaining: 1.11s\n",
      "634:\tlearn: 0.1352812\ttotal: 1.93s\tremaining: 1.11s\n",
      "635:\tlearn: 0.1351997\ttotal: 1.93s\tremaining: 1.1s\n",
      "636:\tlearn: 0.1350694\ttotal: 1.93s\tremaining: 1.1s\n",
      "637:\tlearn: 0.1349899\ttotal: 1.93s\tremaining: 1.1s\n",
      "638:\tlearn: 0.1349287\ttotal: 1.94s\tremaining: 1.09s\n",
      "639:\tlearn: 0.1348816\ttotal: 1.94s\tremaining: 1.09s\n",
      "640:\tlearn: 0.1347802\ttotal: 1.94s\tremaining: 1.09s\n",
      "641:\tlearn: 0.1346966\ttotal: 1.94s\tremaining: 1.08s\n",
      "642:\tlearn: 0.1346204\ttotal: 1.95s\tremaining: 1.08s\n",
      "643:\tlearn: 0.1345848\ttotal: 1.95s\tremaining: 1.08s\n",
      "644:\tlearn: 0.1344470\ttotal: 1.95s\tremaining: 1.07s\n",
      "645:\tlearn: 0.1343443\ttotal: 1.95s\tremaining: 1.07s\n",
      "646:\tlearn: 0.1342420\ttotal: 1.96s\tremaining: 1.07s\n",
      "647:\tlearn: 0.1341292\ttotal: 1.96s\tremaining: 1.06s\n",
      "648:\tlearn: 0.1340297\ttotal: 1.96s\tremaining: 1.06s\n",
      "649:\tlearn: 0.1339552\ttotal: 1.96s\tremaining: 1.06s\n",
      "650:\tlearn: 0.1339340\ttotal: 1.97s\tremaining: 1.05s\n",
      "651:\tlearn: 0.1337660\ttotal: 1.97s\tremaining: 1.05s\n",
      "652:\tlearn: 0.1336781\ttotal: 1.97s\tremaining: 1.05s\n",
      "653:\tlearn: 0.1335809\ttotal: 1.97s\tremaining: 1.04s\n",
      "654:\tlearn: 0.1334936\ttotal: 1.98s\tremaining: 1.04s\n",
      "655:\tlearn: 0.1334164\ttotal: 1.98s\tremaining: 1.04s\n",
      "656:\tlearn: 0.1333989\ttotal: 1.98s\tremaining: 1.03s\n",
      "657:\tlearn: 0.1333312\ttotal: 1.98s\tremaining: 1.03s\n",
      "658:\tlearn: 0.1333219\ttotal: 1.98s\tremaining: 1.03s\n",
      "659:\tlearn: 0.1332727\ttotal: 1.99s\tremaining: 1.02s\n",
      "660:\tlearn: 0.1332115\ttotal: 1.99s\tremaining: 1.02s\n",
      "661:\tlearn: 0.1331058\ttotal: 1.99s\tremaining: 1.02s\n",
      "662:\tlearn: 0.1329663\ttotal: 1.99s\tremaining: 1.01s\n",
      "663:\tlearn: 0.1329465\ttotal: 2s\tremaining: 1.01s\n",
      "664:\tlearn: 0.1327912\ttotal: 2s\tremaining: 1.01s\n",
      "665:\tlearn: 0.1326769\ttotal: 2s\tremaining: 1s\n",
      "666:\tlearn: 0.1326267\ttotal: 2s\tremaining: 1000ms\n",
      "667:\tlearn: 0.1325608\ttotal: 2s\tremaining: 996ms\n",
      "668:\tlearn: 0.1324157\ttotal: 2.01s\tremaining: 993ms\n",
      "669:\tlearn: 0.1323946\ttotal: 2.01s\tremaining: 989ms\n",
      "670:\tlearn: 0.1323739\ttotal: 2.01s\tremaining: 986ms\n",
      "671:\tlearn: 0.1323021\ttotal: 2.01s\tremaining: 982ms\n",
      "672:\tlearn: 0.1322361\ttotal: 2.02s\tremaining: 979ms\n",
      "673:\tlearn: 0.1321521\ttotal: 2.02s\tremaining: 976ms\n",
      "674:\tlearn: 0.1320423\ttotal: 2.02s\tremaining: 972ms\n",
      "675:\tlearn: 0.1319495\ttotal: 2.02s\tremaining: 969ms\n",
      "676:\tlearn: 0.1318290\ttotal: 2.02s\tremaining: 965ms\n",
      "677:\tlearn: 0.1317216\ttotal: 2.02s\tremaining: 962ms\n",
      "678:\tlearn: 0.1316973\ttotal: 2.03s\tremaining: 959ms\n",
      "679:\tlearn: 0.1315729\ttotal: 2.03s\tremaining: 956ms\n",
      "680:\tlearn: 0.1315202\ttotal: 2.03s\tremaining: 952ms\n",
      "681:\tlearn: 0.1314736\ttotal: 2.03s\tremaining: 949ms\n",
      "682:\tlearn: 0.1313485\ttotal: 2.04s\tremaining: 945ms\n",
      "683:\tlearn: 0.1312417\ttotal: 2.04s\tremaining: 942ms\n",
      "684:\tlearn: 0.1311784\ttotal: 2.04s\tremaining: 939ms\n",
      "685:\tlearn: 0.1311254\ttotal: 2.04s\tremaining: 935ms\n",
      "686:\tlearn: 0.1310734\ttotal: 2.04s\tremaining: 932ms\n",
      "687:\tlearn: 0.1309675\ttotal: 2.05s\tremaining: 928ms\n",
      "688:\tlearn: 0.1309143\ttotal: 2.05s\tremaining: 925ms\n",
      "689:\tlearn: 0.1308449\ttotal: 2.05s\tremaining: 922ms\n",
      "690:\tlearn: 0.1307430\ttotal: 2.05s\tremaining: 919ms\n",
      "691:\tlearn: 0.1307069\ttotal: 2.06s\tremaining: 915ms\n",
      "692:\tlearn: 0.1306676\ttotal: 2.06s\tremaining: 912ms\n",
      "693:\tlearn: 0.1306304\ttotal: 2.06s\tremaining: 908ms\n",
      "694:\tlearn: 0.1305840\ttotal: 2.06s\tremaining: 905ms\n",
      "695:\tlearn: 0.1305637\ttotal: 2.06s\tremaining: 902ms\n",
      "696:\tlearn: 0.1304349\ttotal: 2.07s\tremaining: 898ms\n",
      "697:\tlearn: 0.1303890\ttotal: 2.07s\tremaining: 895ms\n",
      "698:\tlearn: 0.1303157\ttotal: 2.07s\tremaining: 892ms\n",
      "699:\tlearn: 0.1302936\ttotal: 2.08s\tremaining: 894ms\n",
      "700:\tlearn: 0.1301970\ttotal: 2.09s\tremaining: 890ms\n",
      "701:\tlearn: 0.1301270\ttotal: 2.09s\tremaining: 887ms\n",
      "702:\tlearn: 0.1300407\ttotal: 2.09s\tremaining: 884ms\n",
      "703:\tlearn: 0.1300002\ttotal: 2.09s\tremaining: 880ms\n",
      "704:\tlearn: 0.1299569\ttotal: 2.1s\tremaining: 877ms\n",
      "705:\tlearn: 0.1299052\ttotal: 2.1s\tremaining: 874ms\n",
      "706:\tlearn: 0.1298531\ttotal: 2.1s\tremaining: 870ms\n",
      "707:\tlearn: 0.1297627\ttotal: 2.1s\tremaining: 867ms\n",
      "708:\tlearn: 0.1297130\ttotal: 2.1s\tremaining: 864ms\n",
      "709:\tlearn: 0.1295936\ttotal: 2.11s\tremaining: 860ms\n",
      "710:\tlearn: 0.1295427\ttotal: 2.11s\tremaining: 857ms\n",
      "711:\tlearn: 0.1294833\ttotal: 2.11s\tremaining: 854ms\n",
      "712:\tlearn: 0.1294221\ttotal: 2.11s\tremaining: 851ms\n",
      "713:\tlearn: 0.1293696\ttotal: 2.12s\tremaining: 848ms\n",
      "714:\tlearn: 0.1292743\ttotal: 2.12s\tremaining: 844ms\n",
      "715:\tlearn: 0.1292478\ttotal: 2.12s\tremaining: 841ms\n",
      "716:\tlearn: 0.1292205\ttotal: 2.12s\tremaining: 838ms\n",
      "717:\tlearn: 0.1292007\ttotal: 2.12s\tremaining: 835ms\n",
      "718:\tlearn: 0.1290842\ttotal: 2.13s\tremaining: 831ms\n",
      "719:\tlearn: 0.1290360\ttotal: 2.13s\tremaining: 828ms\n",
      "720:\tlearn: 0.1289915\ttotal: 2.13s\tremaining: 825ms\n",
      "721:\tlearn: 0.1289019\ttotal: 2.13s\tremaining: 822ms\n",
      "722:\tlearn: 0.1288431\ttotal: 2.13s\tremaining: 818ms\n",
      "723:\tlearn: 0.1288295\ttotal: 2.14s\tremaining: 815ms\n",
      "724:\tlearn: 0.1288148\ttotal: 2.14s\tremaining: 812ms\n",
      "725:\tlearn: 0.1287219\ttotal: 2.14s\tremaining: 808ms\n",
      "726:\tlearn: 0.1286262\ttotal: 2.14s\tremaining: 805ms\n",
      "727:\tlearn: 0.1285855\ttotal: 2.15s\tremaining: 802ms\n",
      "728:\tlearn: 0.1284431\ttotal: 2.15s\tremaining: 799ms\n",
      "729:\tlearn: 0.1283935\ttotal: 2.15s\tremaining: 795ms\n",
      "730:\tlearn: 0.1283835\ttotal: 2.15s\tremaining: 792ms\n",
      "731:\tlearn: 0.1283268\ttotal: 2.15s\tremaining: 789ms\n",
      "732:\tlearn: 0.1283157\ttotal: 2.16s\tremaining: 786ms\n",
      "733:\tlearn: 0.1281567\ttotal: 2.16s\tremaining: 782ms\n",
      "734:\tlearn: 0.1280566\ttotal: 2.16s\tremaining: 779ms\n",
      "735:\tlearn: 0.1279632\ttotal: 2.16s\tremaining: 776ms\n",
      "736:\tlearn: 0.1279094\ttotal: 2.16s\tremaining: 773ms\n",
      "737:\tlearn: 0.1278518\ttotal: 2.17s\tremaining: 769ms\n",
      "738:\tlearn: 0.1277812\ttotal: 2.17s\tremaining: 766ms\n",
      "739:\tlearn: 0.1277679\ttotal: 2.17s\tremaining: 763ms\n",
      "740:\tlearn: 0.1277083\ttotal: 2.17s\tremaining: 760ms\n",
      "741:\tlearn: 0.1276039\ttotal: 2.17s\tremaining: 756ms\n",
      "742:\tlearn: 0.1275119\ttotal: 2.18s\tremaining: 753ms\n",
      "743:\tlearn: 0.1274160\ttotal: 2.18s\tremaining: 750ms\n",
      "744:\tlearn: 0.1273122\ttotal: 2.18s\tremaining: 747ms\n",
      "745:\tlearn: 0.1272438\ttotal: 2.18s\tremaining: 744ms\n",
      "746:\tlearn: 0.1271423\ttotal: 2.19s\tremaining: 740ms\n",
      "747:\tlearn: 0.1270554\ttotal: 2.19s\tremaining: 737ms\n",
      "748:\tlearn: 0.1269776\ttotal: 2.19s\tremaining: 734ms\n",
      "749:\tlearn: 0.1269647\ttotal: 2.19s\tremaining: 731ms\n",
      "750:\tlearn: 0.1268930\ttotal: 2.19s\tremaining: 728ms\n",
      "751:\tlearn: 0.1268045\ttotal: 2.2s\tremaining: 724ms\n",
      "752:\tlearn: 0.1267115\ttotal: 2.2s\tremaining: 721ms\n",
      "753:\tlearn: 0.1266122\ttotal: 2.2s\tremaining: 718ms\n",
      "754:\tlearn: 0.1265949\ttotal: 2.2s\tremaining: 715ms\n",
      "755:\tlearn: 0.1264932\ttotal: 2.21s\tremaining: 712ms\n",
      "756:\tlearn: 0.1264066\ttotal: 2.21s\tremaining: 709ms\n",
      "757:\tlearn: 0.1263363\ttotal: 2.21s\tremaining: 706ms\n",
      "758:\tlearn: 0.1262411\ttotal: 2.21s\tremaining: 702ms\n",
      "759:\tlearn: 0.1262120\ttotal: 2.21s\tremaining: 699ms\n",
      "760:\tlearn: 0.1261138\ttotal: 2.22s\tremaining: 696ms\n",
      "761:\tlearn: 0.1260890\ttotal: 2.22s\tremaining: 693ms\n",
      "762:\tlearn: 0.1260210\ttotal: 2.22s\tremaining: 690ms\n",
      "763:\tlearn: 0.1259059\ttotal: 2.22s\tremaining: 687ms\n",
      "764:\tlearn: 0.1258123\ttotal: 2.23s\tremaining: 684ms\n",
      "765:\tlearn: 0.1257521\ttotal: 2.23s\tremaining: 681ms\n",
      "766:\tlearn: 0.1257265\ttotal: 2.23s\tremaining: 678ms\n",
      "767:\tlearn: 0.1256889\ttotal: 2.23s\tremaining: 674ms\n",
      "768:\tlearn: 0.1256560\ttotal: 2.23s\tremaining: 671ms\n",
      "769:\tlearn: 0.1255239\ttotal: 2.24s\tremaining: 668ms\n",
      "770:\tlearn: 0.1254541\ttotal: 2.24s\tremaining: 665ms\n",
      "771:\tlearn: 0.1253780\ttotal: 2.24s\tremaining: 662ms\n",
      "772:\tlearn: 0.1253180\ttotal: 2.24s\tremaining: 659ms\n",
      "773:\tlearn: 0.1252559\ttotal: 2.25s\tremaining: 656ms\n",
      "774:\tlearn: 0.1252297\ttotal: 2.25s\tremaining: 653ms\n",
      "775:\tlearn: 0.1251631\ttotal: 2.25s\tremaining: 649ms\n",
      "776:\tlearn: 0.1250977\ttotal: 2.25s\tremaining: 646ms\n",
      "777:\tlearn: 0.1250740\ttotal: 2.25s\tremaining: 643ms\n",
      "778:\tlearn: 0.1250429\ttotal: 2.26s\tremaining: 640ms\n",
      "779:\tlearn: 0.1249508\ttotal: 2.26s\tremaining: 637ms\n",
      "780:\tlearn: 0.1248411\ttotal: 2.26s\tremaining: 634ms\n",
      "781:\tlearn: 0.1247552\ttotal: 2.26s\tremaining: 631ms\n",
      "782:\tlearn: 0.1247216\ttotal: 2.27s\tremaining: 628ms\n",
      "783:\tlearn: 0.1246400\ttotal: 2.27s\tremaining: 625ms\n",
      "784:\tlearn: 0.1245739\ttotal: 2.27s\tremaining: 621ms\n",
      "785:\tlearn: 0.1245165\ttotal: 2.27s\tremaining: 618ms\n",
      "786:\tlearn: 0.1244684\ttotal: 2.27s\tremaining: 615ms\n",
      "787:\tlearn: 0.1243569\ttotal: 2.27s\tremaining: 612ms\n",
      "788:\tlearn: 0.1243173\ttotal: 2.28s\tremaining: 609ms\n",
      "789:\tlearn: 0.1242978\ttotal: 2.28s\tremaining: 606ms\n",
      "790:\tlearn: 0.1242258\ttotal: 2.28s\tremaining: 603ms\n",
      "791:\tlearn: 0.1241679\ttotal: 2.28s\tremaining: 600ms\n",
      "792:\tlearn: 0.1241285\ttotal: 2.29s\tremaining: 597ms\n",
      "793:\tlearn: 0.1240781\ttotal: 2.29s\tremaining: 594ms\n",
      "794:\tlearn: 0.1240539\ttotal: 2.29s\tremaining: 591ms\n",
      "795:\tlearn: 0.1240161\ttotal: 2.29s\tremaining: 588ms\n",
      "796:\tlearn: 0.1239820\ttotal: 2.29s\tremaining: 585ms\n",
      "797:\tlearn: 0.1239511\ttotal: 2.3s\tremaining: 582ms\n",
      "798:\tlearn: 0.1239041\ttotal: 2.3s\tremaining: 578ms\n",
      "799:\tlearn: 0.1238622\ttotal: 2.3s\tremaining: 575ms\n",
      "800:\tlearn: 0.1237973\ttotal: 2.3s\tremaining: 572ms\n",
      "801:\tlearn: 0.1237435\ttotal: 2.31s\tremaining: 569ms\n",
      "802:\tlearn: 0.1236340\ttotal: 2.31s\tremaining: 566ms\n",
      "803:\tlearn: 0.1235354\ttotal: 2.31s\tremaining: 563ms\n",
      "804:\tlearn: 0.1234109\ttotal: 2.31s\tremaining: 560ms\n",
      "805:\tlearn: 0.1233811\ttotal: 2.31s\tremaining: 557ms\n",
      "806:\tlearn: 0.1232364\ttotal: 2.32s\tremaining: 554ms\n",
      "807:\tlearn: 0.1231909\ttotal: 2.32s\tremaining: 551ms\n",
      "808:\tlearn: 0.1231843\ttotal: 2.32s\tremaining: 548ms\n",
      "809:\tlearn: 0.1231718\ttotal: 2.32s\tremaining: 545ms\n",
      "810:\tlearn: 0.1230912\ttotal: 2.32s\tremaining: 542ms\n",
      "811:\tlearn: 0.1229957\ttotal: 2.33s\tremaining: 539ms\n",
      "812:\tlearn: 0.1229672\ttotal: 2.33s\tremaining: 536ms\n",
      "813:\tlearn: 0.1229375\ttotal: 2.33s\tremaining: 533ms\n",
      "814:\tlearn: 0.1229126\ttotal: 2.33s\tremaining: 530ms\n",
      "815:\tlearn: 0.1228631\ttotal: 2.33s\tremaining: 527ms\n",
      "816:\tlearn: 0.1228130\ttotal: 2.34s\tremaining: 524ms\n",
      "817:\tlearn: 0.1227812\ttotal: 2.34s\tremaining: 521ms\n",
      "818:\tlearn: 0.1226332\ttotal: 2.34s\tremaining: 518ms\n",
      "819:\tlearn: 0.1225595\ttotal: 2.34s\tremaining: 515ms\n",
      "820:\tlearn: 0.1224991\ttotal: 2.35s\tremaining: 512ms\n",
      "821:\tlearn: 0.1224100\ttotal: 2.35s\tremaining: 509ms\n",
      "822:\tlearn: 0.1223027\ttotal: 2.35s\tremaining: 506ms\n",
      "823:\tlearn: 0.1222407\ttotal: 2.35s\tremaining: 503ms\n",
      "824:\tlearn: 0.1222168\ttotal: 2.35s\tremaining: 500ms\n",
      "825:\tlearn: 0.1221362\ttotal: 2.36s\tremaining: 497ms\n",
      "826:\tlearn: 0.1220942\ttotal: 2.36s\tremaining: 494ms\n",
      "827:\tlearn: 0.1220458\ttotal: 2.36s\tremaining: 491ms\n"
     ]
    },
    {
     "name": "stdout",
     "output_type": "stream",
     "text": [
      "828:\tlearn: 0.1220120\ttotal: 2.36s\tremaining: 488ms\n",
      "829:\tlearn: 0.1219551\ttotal: 2.37s\tremaining: 485ms\n",
      "830:\tlearn: 0.1219135\ttotal: 2.37s\tremaining: 482ms\n",
      "831:\tlearn: 0.1218409\ttotal: 2.37s\tremaining: 479ms\n",
      "832:\tlearn: 0.1217543\ttotal: 2.37s\tremaining: 476ms\n",
      "833:\tlearn: 0.1216796\ttotal: 2.38s\tremaining: 473ms\n",
      "834:\tlearn: 0.1216327\ttotal: 2.38s\tremaining: 470ms\n",
      "835:\tlearn: 0.1215695\ttotal: 2.38s\tremaining: 467ms\n",
      "836:\tlearn: 0.1214921\ttotal: 2.38s\tremaining: 464ms\n",
      "837:\tlearn: 0.1214454\ttotal: 2.38s\tremaining: 461ms\n",
      "838:\tlearn: 0.1213942\ttotal: 2.38s\tremaining: 458ms\n",
      "839:\tlearn: 0.1213379\ttotal: 2.39s\tremaining: 455ms\n",
      "840:\tlearn: 0.1212655\ttotal: 2.39s\tremaining: 452ms\n",
      "841:\tlearn: 0.1212283\ttotal: 2.39s\tremaining: 449ms\n",
      "842:\tlearn: 0.1211605\ttotal: 2.39s\tremaining: 446ms\n",
      "843:\tlearn: 0.1211316\ttotal: 2.4s\tremaining: 443ms\n",
      "844:\tlearn: 0.1210606\ttotal: 2.4s\tremaining: 440ms\n",
      "845:\tlearn: 0.1210109\ttotal: 2.4s\tremaining: 437ms\n",
      "846:\tlearn: 0.1209696\ttotal: 2.4s\tremaining: 434ms\n",
      "847:\tlearn: 0.1209419\ttotal: 2.41s\tremaining: 431ms\n",
      "848:\tlearn: 0.1208664\ttotal: 2.41s\tremaining: 428ms\n",
      "849:\tlearn: 0.1208103\ttotal: 2.41s\tremaining: 425ms\n",
      "850:\tlearn: 0.1207706\ttotal: 2.41s\tremaining: 422ms\n",
      "851:\tlearn: 0.1207411\ttotal: 2.41s\tremaining: 419ms\n",
      "852:\tlearn: 0.1206557\ttotal: 2.42s\tremaining: 416ms\n",
      "853:\tlearn: 0.1205783\ttotal: 2.42s\tremaining: 414ms\n",
      "854:\tlearn: 0.1204891\ttotal: 2.42s\tremaining: 411ms\n",
      "855:\tlearn: 0.1203609\ttotal: 2.42s\tremaining: 408ms\n",
      "856:\tlearn: 0.1202828\ttotal: 2.42s\tremaining: 405ms\n",
      "857:\tlearn: 0.1202420\ttotal: 2.43s\tremaining: 402ms\n",
      "858:\tlearn: 0.1201629\ttotal: 2.43s\tremaining: 399ms\n",
      "859:\tlearn: 0.1201062\ttotal: 2.43s\tremaining: 396ms\n",
      "860:\tlearn: 0.1200268\ttotal: 2.43s\tremaining: 393ms\n",
      "861:\tlearn: 0.1199657\ttotal: 2.44s\tremaining: 390ms\n",
      "862:\tlearn: 0.1199406\ttotal: 2.44s\tremaining: 387ms\n",
      "863:\tlearn: 0.1199041\ttotal: 2.44s\tremaining: 384ms\n",
      "864:\tlearn: 0.1198540\ttotal: 2.44s\tremaining: 381ms\n",
      "865:\tlearn: 0.1197183\ttotal: 2.44s\tremaining: 378ms\n",
      "866:\tlearn: 0.1196681\ttotal: 2.45s\tremaining: 375ms\n",
      "867:\tlearn: 0.1195686\ttotal: 2.45s\tremaining: 372ms\n",
      "868:\tlearn: 0.1195346\ttotal: 2.45s\tremaining: 370ms\n",
      "869:\tlearn: 0.1194587\ttotal: 2.45s\tremaining: 367ms\n",
      "870:\tlearn: 0.1193645\ttotal: 2.46s\tremaining: 364ms\n",
      "871:\tlearn: 0.1192577\ttotal: 2.46s\tremaining: 361ms\n",
      "872:\tlearn: 0.1191842\ttotal: 2.46s\tremaining: 358ms\n",
      "873:\tlearn: 0.1191371\ttotal: 2.46s\tremaining: 355ms\n",
      "874:\tlearn: 0.1190892\ttotal: 2.46s\tremaining: 352ms\n",
      "875:\tlearn: 0.1190354\ttotal: 2.47s\tremaining: 349ms\n",
      "876:\tlearn: 0.1190126\ttotal: 2.47s\tremaining: 346ms\n",
      "877:\tlearn: 0.1189474\ttotal: 2.47s\tremaining: 343ms\n",
      "878:\tlearn: 0.1189167\ttotal: 2.47s\tremaining: 340ms\n",
      "879:\tlearn: 0.1188308\ttotal: 2.47s\tremaining: 337ms\n",
      "880:\tlearn: 0.1187876\ttotal: 2.48s\tremaining: 334ms\n",
      "881:\tlearn: 0.1187284\ttotal: 2.48s\tremaining: 332ms\n",
      "882:\tlearn: 0.1186799\ttotal: 2.48s\tremaining: 329ms\n",
      "883:\tlearn: 0.1186373\ttotal: 2.48s\tremaining: 326ms\n",
      "884:\tlearn: 0.1186187\ttotal: 2.48s\tremaining: 323ms\n",
      "885:\tlearn: 0.1185061\ttotal: 2.49s\tremaining: 320ms\n",
      "886:\tlearn: 0.1184109\ttotal: 2.49s\tremaining: 317ms\n",
      "887:\tlearn: 0.1183338\ttotal: 2.49s\tremaining: 314ms\n",
      "888:\tlearn: 0.1182499\ttotal: 2.49s\tremaining: 311ms\n",
      "889:\tlearn: 0.1181770\ttotal: 2.5s\tremaining: 309ms\n",
      "890:\tlearn: 0.1181520\ttotal: 2.5s\tremaining: 306ms\n",
      "891:\tlearn: 0.1181304\ttotal: 2.5s\tremaining: 303ms\n",
      "892:\tlearn: 0.1180584\ttotal: 2.5s\tremaining: 300ms\n",
      "893:\tlearn: 0.1180315\ttotal: 2.51s\tremaining: 297ms\n",
      "894:\tlearn: 0.1179232\ttotal: 2.51s\tremaining: 294ms\n",
      "895:\tlearn: 0.1178996\ttotal: 2.51s\tremaining: 291ms\n",
      "896:\tlearn: 0.1178314\ttotal: 2.51s\tremaining: 289ms\n",
      "897:\tlearn: 0.1177724\ttotal: 2.52s\tremaining: 286ms\n",
      "898:\tlearn: 0.1177337\ttotal: 2.52s\tremaining: 283ms\n",
      "899:\tlearn: 0.1176797\ttotal: 2.52s\tremaining: 280ms\n",
      "900:\tlearn: 0.1175937\ttotal: 2.52s\tremaining: 277ms\n",
      "901:\tlearn: 0.1175793\ttotal: 2.52s\tremaining: 274ms\n",
      "902:\tlearn: 0.1175077\ttotal: 2.53s\tremaining: 271ms\n",
      "903:\tlearn: 0.1174425\ttotal: 2.53s\tremaining: 269ms\n",
      "904:\tlearn: 0.1173774\ttotal: 2.53s\tremaining: 266ms\n",
      "905:\tlearn: 0.1173039\ttotal: 2.53s\tremaining: 263ms\n",
      "906:\tlearn: 0.1172405\ttotal: 2.54s\tremaining: 260ms\n",
      "907:\tlearn: 0.1171582\ttotal: 2.54s\tremaining: 257ms\n",
      "908:\tlearn: 0.1171377\ttotal: 2.54s\tremaining: 254ms\n",
      "909:\tlearn: 0.1170962\ttotal: 2.54s\tremaining: 251ms\n",
      "910:\tlearn: 0.1170586\ttotal: 2.54s\tremaining: 249ms\n",
      "911:\tlearn: 0.1170310\ttotal: 2.55s\tremaining: 246ms\n",
      "912:\tlearn: 0.1169718\ttotal: 2.55s\tremaining: 243ms\n",
      "913:\tlearn: 0.1169278\ttotal: 2.55s\tremaining: 240ms\n",
      "914:\tlearn: 0.1168889\ttotal: 2.55s\tremaining: 237ms\n",
      "915:\tlearn: 0.1168237\ttotal: 2.56s\tremaining: 234ms\n",
      "916:\tlearn: 0.1167414\ttotal: 2.56s\tremaining: 232ms\n",
      "917:\tlearn: 0.1167186\ttotal: 2.56s\tremaining: 229ms\n",
      "918:\tlearn: 0.1166895\ttotal: 2.56s\tremaining: 226ms\n",
      "919:\tlearn: 0.1166156\ttotal: 2.56s\tremaining: 223ms\n",
      "920:\tlearn: 0.1165895\ttotal: 2.57s\tremaining: 220ms\n",
      "921:\tlearn: 0.1165386\ttotal: 2.57s\tremaining: 217ms\n",
      "922:\tlearn: 0.1164369\ttotal: 2.57s\tremaining: 214ms\n",
      "923:\tlearn: 0.1163666\ttotal: 2.57s\tremaining: 212ms\n",
      "924:\tlearn: 0.1163156\ttotal: 2.58s\tremaining: 209ms\n",
      "925:\tlearn: 0.1162859\ttotal: 2.58s\tremaining: 206ms\n",
      "926:\tlearn: 0.1162380\ttotal: 2.58s\tremaining: 203ms\n",
      "927:\tlearn: 0.1161992\ttotal: 2.58s\tremaining: 200ms\n",
      "928:\tlearn: 0.1161571\ttotal: 2.58s\tremaining: 197ms\n",
      "929:\tlearn: 0.1160817\ttotal: 2.59s\tremaining: 195ms\n",
      "930:\tlearn: 0.1160414\ttotal: 2.59s\tremaining: 192ms\n",
      "931:\tlearn: 0.1159941\ttotal: 2.59s\tremaining: 189ms\n",
      "932:\tlearn: 0.1159602\ttotal: 2.59s\tremaining: 186ms\n",
      "933:\tlearn: 0.1159392\ttotal: 2.59s\tremaining: 183ms\n",
      "934:\tlearn: 0.1158846\ttotal: 2.6s\tremaining: 181ms\n",
      "935:\tlearn: 0.1158113\ttotal: 2.6s\tremaining: 178ms\n",
      "936:\tlearn: 0.1157856\ttotal: 2.6s\tremaining: 175ms\n",
      "937:\tlearn: 0.1157368\ttotal: 2.6s\tremaining: 172ms\n",
      "938:\tlearn: 0.1156648\ttotal: 2.6s\tremaining: 169ms\n",
      "939:\tlearn: 0.1155719\ttotal: 2.61s\tremaining: 166ms\n",
      "940:\tlearn: 0.1155190\ttotal: 2.61s\tremaining: 164ms\n",
      "941:\tlearn: 0.1154693\ttotal: 2.61s\tremaining: 161ms\n",
      "942:\tlearn: 0.1154416\ttotal: 2.61s\tremaining: 158ms\n",
      "943:\tlearn: 0.1153762\ttotal: 2.62s\tremaining: 155ms\n",
      "944:\tlearn: 0.1153640\ttotal: 2.62s\tremaining: 152ms\n",
      "945:\tlearn: 0.1153415\ttotal: 2.62s\tremaining: 150ms\n",
      "946:\tlearn: 0.1152237\ttotal: 2.62s\tremaining: 147ms\n",
      "947:\tlearn: 0.1151912\ttotal: 2.62s\tremaining: 144ms\n",
      "948:\tlearn: 0.1151280\ttotal: 2.63s\tremaining: 141ms\n",
      "949:\tlearn: 0.1150648\ttotal: 2.63s\tremaining: 138ms\n",
      "950:\tlearn: 0.1149647\ttotal: 2.63s\tremaining: 136ms\n",
      "951:\tlearn: 0.1149188\ttotal: 2.63s\tremaining: 133ms\n",
      "952:\tlearn: 0.1148322\ttotal: 2.63s\tremaining: 130ms\n",
      "953:\tlearn: 0.1147721\ttotal: 2.64s\tremaining: 127ms\n",
      "954:\tlearn: 0.1147054\ttotal: 2.64s\tremaining: 124ms\n",
      "955:\tlearn: 0.1146646\ttotal: 2.64s\tremaining: 122ms\n",
      "956:\tlearn: 0.1146165\ttotal: 2.64s\tremaining: 119ms\n",
      "957:\tlearn: 0.1145712\ttotal: 2.65s\tremaining: 116ms\n",
      "958:\tlearn: 0.1145198\ttotal: 2.65s\tremaining: 113ms\n",
      "959:\tlearn: 0.1144937\ttotal: 2.65s\tremaining: 110ms\n",
      "960:\tlearn: 0.1143690\ttotal: 2.65s\tremaining: 108ms\n",
      "961:\tlearn: 0.1143551\ttotal: 2.66s\tremaining: 105ms\n",
      "962:\tlearn: 0.1142932\ttotal: 2.66s\tremaining: 102ms\n",
      "963:\tlearn: 0.1142579\ttotal: 2.66s\tremaining: 99.4ms\n",
      "964:\tlearn: 0.1142005\ttotal: 2.66s\tremaining: 96.6ms\n",
      "965:\tlearn: 0.1141630\ttotal: 2.67s\tremaining: 93.8ms\n",
      "966:\tlearn: 0.1140527\ttotal: 2.67s\tremaining: 91.1ms\n",
      "967:\tlearn: 0.1140157\ttotal: 2.67s\tremaining: 88.4ms\n",
      "968:\tlearn: 0.1139482\ttotal: 2.67s\tremaining: 85.6ms\n",
      "969:\tlearn: 0.1139049\ttotal: 2.68s\tremaining: 82.8ms\n",
      "970:\tlearn: 0.1138269\ttotal: 2.68s\tremaining: 80ms\n",
      "971:\tlearn: 0.1137506\ttotal: 2.68s\tremaining: 77.3ms\n",
      "972:\tlearn: 0.1137137\ttotal: 2.68s\tremaining: 74.5ms\n",
      "973:\tlearn: 0.1136100\ttotal: 2.69s\tremaining: 71.7ms\n",
      "974:\tlearn: 0.1135816\ttotal: 2.69s\tremaining: 69ms\n",
      "975:\tlearn: 0.1135056\ttotal: 2.69s\tremaining: 66.2ms\n",
      "976:\tlearn: 0.1134495\ttotal: 2.69s\tremaining: 63.4ms\n",
      "977:\tlearn: 0.1133605\ttotal: 2.7s\tremaining: 60.6ms\n",
      "978:\tlearn: 0.1133531\ttotal: 2.7s\tremaining: 57.9ms\n",
      "979:\tlearn: 0.1132935\ttotal: 2.7s\tremaining: 55.1ms\n",
      "980:\tlearn: 0.1132102\ttotal: 2.7s\tremaining: 52.3ms\n",
      "981:\tlearn: 0.1131258\ttotal: 2.7s\tremaining: 49.6ms\n",
      "982:\tlearn: 0.1130763\ttotal: 2.71s\tremaining: 46.8ms\n",
      "983:\tlearn: 0.1129947\ttotal: 2.71s\tremaining: 44ms\n",
      "984:\tlearn: 0.1128811\ttotal: 2.71s\tremaining: 41.3ms\n",
      "985:\tlearn: 0.1128126\ttotal: 2.71s\tremaining: 38.5ms\n",
      "986:\tlearn: 0.1127068\ttotal: 2.71s\tremaining: 35.8ms\n",
      "987:\tlearn: 0.1126441\ttotal: 2.72s\tremaining: 33ms\n",
      "988:\tlearn: 0.1125850\ttotal: 2.72s\tremaining: 30.3ms\n",
      "989:\tlearn: 0.1125470\ttotal: 2.72s\tremaining: 27.5ms\n",
      "990:\tlearn: 0.1125000\ttotal: 2.72s\tremaining: 24.7ms\n",
      "991:\tlearn: 0.1124565\ttotal: 2.73s\tremaining: 22ms\n",
      "992:\tlearn: 0.1124054\ttotal: 2.73s\tremaining: 19.2ms\n",
      "993:\tlearn: 0.1123804\ttotal: 2.73s\tremaining: 16.5ms\n",
      "994:\tlearn: 0.1123132\ttotal: 2.73s\tremaining: 13.7ms\n",
      "995:\tlearn: 0.1122789\ttotal: 2.73s\tremaining: 11ms\n",
      "996:\tlearn: 0.1122112\ttotal: 2.74s\tremaining: 8.24ms\n",
      "997:\tlearn: 0.1121830\ttotal: 2.74s\tremaining: 5.49ms\n",
      "998:\tlearn: 0.1121552\ttotal: 2.74s\tremaining: 2.74ms\n",
      "999:\tlearn: 0.1121242\ttotal: 2.74s\tremaining: 0us\n"
     ]
    },
    {
     "name": "stdout",
     "output_type": "stream",
     "text": [
      "R2 score 0.8837392483459613\n",
      "MAE 0.1606658975119032\n",
      "RMSE:0.20961691073425948\n"
     ]
    },
    {
     "data": {
      "image/png": "[encoded data removed]",
      "text/plain": [
       "<Figure size 432x288 with 1 Axes>"
      ]
     },
     "metadata": {
      "needs_background": "light"
     },
     "output_type": "display_data"
    }
   ],
   "source": [
    "predict(CatBoostRegressor())"
   ]
  },
  {
   "cell_type": "code",
   "execution_count": 112,
   "id": "5915ab3b",
   "metadata": {},
   "outputs": [
    {
     "name": "stdout",
     "output_type": "stream",
     "text": [
      "Model: SVR()\n",
      "R2 score 0.6272639907498248\n",
      "MAE 0.29105265924692836\n",
      "RMSE:0.3753275366969627\n"
     ]
    },
    {
     "data": {
      "image/png": "[encoded data removed]",
      "text/plain": [
       "<Figure size 432x288 with 1 Axes>"
      ]
     },
     "metadata": {
      "needs_background": "light"
     },
     "output_type": "display_data"
    }
   ],
   "source": [
    "predict(SVR())"
   ]
  },
  {
   "cell_type": "code",
   "execution_count": 113,
   "id": "a5354821",
   "metadata": {},
   "outputs": [
    {
     "name": "stdout",
     "output_type": "stream",
     "text": [
      "Model: LGBMRegressor()\n",
      "R2 score 0.8850102356085726\n",
      "MAE 0.162838676871086\n",
      "RMSE:0.2084679736748708\n"
     ]
    },
    {
     "data": {
      "image/png": "[encoded data removed]",
      "text/plain": [
       "<Figure size 432x288 with 1 Axes>"
      ]
     },
     "metadata": {
      "needs_background": "light"
     },
     "output_type": "display_data"
    }
   ],
   "source": [
    "predict(LGBMRegressor())"
   ]
  },
  {
   "cell_type": "markdown",
   "id": "83e9add0",
   "metadata": {},
   "source": [
    "#### we can see that LGBM regressor is performing well with:\n",
    "- r2 score: 0.8850102356085726\n",
    "- MAE:0.162838676871086\n",
    "- RMSE:0.2084679736748708"
   ]
  },
  {
   "cell_type": "code",
   "execution_count": 114,
   "id": "ddd1eacd",
   "metadata": {},
   "outputs": [
    {
     "name": "stdout",
     "output_type": "stream",
     "text": [
      "R2 score 0.8850102356085726\n",
      "MAE 0.162838676871086\n",
      "RMSE:0.2084679736748708\n"
     ]
    },
    {
     "data": {
      "text/plain": [
       "<AxesSubplot:xlabel='Price', ylabel='Density'>"
      ]
     },
     "execution_count": 114,
     "metadata": {},
     "output_type": "execute_result"
    },
    {
     "data": {
      "image/png": "[encoded data removed]",
      "text/plain": [
       "<Figure size 432x288 with 1 Axes>"
      ]
     },
     "metadata": {
      "needs_background": "light"
     },
     "output_type": "display_data"
    }
   ],
   "source": [
    "step1 = ColumnTransformer(transformers=[\n",
    "        ('col_tnf',OneHotEncoder(sparse=False,drop='first'),[0,1,3,5,11])\n",
    "                                            ],remainder='passthrough')\n",
    "\n",
    "step2 = LGBMRegressor()\n",
    "\n",
    "model = Pipeline([\n",
    "    ('step1',step1),\n",
    "    ('step2',step2)\n",
    "    ])\n",
    "\n",
    "model.fit(x_train,y_train)\n",
    "\n",
    "y_pred = model.predict(x_test)\n",
    "print('R2 score',r2_score(y_test,y_pred))\n",
    "print('MAE',mean_absolute_error(y_test,y_pred))\n",
    "print('RMSE:{}'.format(np.sqrt(mean_squared_error(y_test,y_pred))))\n",
    "    \n",
    "sns.distplot(y_test-y_pred)"
   ]
  },
  {
   "cell_type": "code",
   "execution_count": 115,
   "id": "356610d8",
   "metadata": {},
   "outputs": [],
   "source": [
    "import pickle\n",
    "pickle.dump(x,open('data.pkl','wb'))\n",
    "pickle.dump(model,open('model.pkl','wb'))"
   ]
  }
 ],
 "metadata": {
  "kernelspec": {
   "display_name": "Python 3",
   "language": "python",
   "name": "python3"
  },
  "language_info": {
   "codemirror_mode": {
    "name": "ipython",
    "version": 3
   },
   "file_extension": ".py",
   "mimetype": "text/x-python",
   "name": "python",
   "nbconvert_exporter": "python",
   "pygments_lexer": "ipython3",
   "version": "3.9.7"
  }
 },
 "nbformat": 4,
 "nbformat_minor": 5
}
